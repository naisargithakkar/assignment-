{
 "cells": [
  {
   "cell_type": "markdown",
   "id": "08c04254-11bf-4833-9f4a-9c115157acce",
   "metadata": {},
   "source": [
    " q1 : def keyword is used to create  a function \n",
    " now program is given below\n",
    " "
   ]
  },
  {
   "cell_type": "code",
   "execution_count": 4,
   "id": "3dc6dc83-9bfa-4b75-8df1-62b7227de4f9",
   "metadata": {},
   "outputs": [],
   "source": [
    "def oddnum():\n",
    "    l=[]\n",
    "    r=range(1,26)\n",
    "    for i in r:\n",
    "        if i%2!=0:\n",
    "            l.append(i)\n",
    "            \n",
    "    return l\n",
    "    \n"
   ]
  },
  {
   "cell_type": "code",
   "execution_count": 5,
   "id": "f6593923-0f17-4b12-b52e-ab4ecdc71564",
   "metadata": {},
   "outputs": [
    {
     "data": {
      "text/plain": [
       "[1, 3, 5, 7, 9, 11, 13, 15, 17, 19, 21, 23, 25]"
      ]
     },
     "execution_count": 5,
     "metadata": {},
     "output_type": "execute_result"
    }
   ],
   "source": [
    "oddnum()"
   ]
  },
  {
   "cell_type": "markdown",
   "id": "3ae79352-5a04-4a4a-bca5-fd53a82331f9",
   "metadata": {},
   "source": [
    "q2 : *args in function definitions in Python is used to pass a variable number of arguments to a function. \n",
    "      What *args allows you to do is take in more arguments than the number of formal arguments that you previously defined. With *args, any         number of extra arguments can be tacked on to your current formal parameters (including zero extra arguments).\n",
    "The special syntax **kwargs in function definitions in Python is used to pass a keyworded, variable-length argument list.\n",
    "The kwargs as being a dictionary that maps each keyword to the value that we pass alongside it.\n",
    "Now example of both is shown below :"
   ]
  },
  {
   "cell_type": "code",
   "execution_count": 6,
   "id": "36a248c2-aff6-481f-b9dd-873021ba863a",
   "metadata": {},
   "outputs": [],
   "source": [
    "def save(*args):\n",
    "    return args"
   ]
  },
  {
   "cell_type": "code",
   "execution_count": 7,
   "id": "e730a93c-3481-4782-bcbd-69915239b4f9",
   "metadata": {},
   "outputs": [
    {
     "data": {
      "text/plain": [
       "(1, 2, 3, 4, 5)"
      ]
     },
     "execution_count": 7,
     "metadata": {},
     "output_type": "execute_result"
    }
   ],
   "source": [
    "save(1,2,3,4,5)"
   ]
  },
  {
   "cell_type": "code",
   "execution_count": 8,
   "id": "70c64361-f495-4e92-aedd-f484049ff67e",
   "metadata": {},
   "outputs": [],
   "source": [
    "def dave(**kwargs):\n",
    "    return kwargs\n",
    "    "
   ]
  },
  {
   "cell_type": "code",
   "execution_count": 10,
   "id": "91a1fbb5-eddf-42ac-b1af-fe56f38b09a3",
   "metadata": {},
   "outputs": [
    {
     "data": {
      "text/plain": [
       "{'key1': 2, 'key2': 4}"
      ]
     },
     "execution_count": 10,
     "metadata": {},
     "output_type": "execute_result"
    }
   ],
   "source": [
    "dave(key1 = 2 , key2 = 4 )"
   ]
  },
  {
   "cell_type": "markdown",
   "id": "2c980b7d-6182-4388-81c7-828f55b85090",
   "metadata": {},
   "source": [
    "q3 : An iterator in Python is an object that is used to iterate over iterable objects like lists, tuples, dicts, and sets. \n",
    "The Python iterators object is initialized using the iter () method.It uses the next() method for iteration.\n",
    "program is shown below:"
   ]
  },
  {
   "cell_type": "code",
   "execution_count": 14,
   "id": "755e047a-6ed7-4d98-83db-89ca87db04a9",
   "metadata": {},
   "outputs": [
    {
     "name": "stdout",
     "output_type": "stream",
     "text": [
      "2\n",
      "4\n",
      "6\n",
      "8\n",
      "10\n"
     ]
    }
   ],
   "source": [
    "t =[2, 4, 6, 8, 10, 12, 14, 16, 18, 20]\n",
    "for i in t:\n",
    "    h = iter(t)\n",
    "print(next(h))\n",
    "print(next(h))\n",
    "print(next(h))\n",
    "print(next(h))\n",
    "print(next(h))\n",
    "    \n",
    "    "
   ]
  },
  {
   "cell_type": "markdown",
   "id": "e01b374a-74fb-4649-9f78-ba7d233f25d4",
   "metadata": {},
   "source": [
    "q4:  A generator-function is defined like a normal function, but whenever it needs to generate a value, it does so with the yield keyword rather than return. If the body of a def contains yield, the function automatically becomes a generator function. \n",
    "The yield keyword in Python is similar to a return statement used for returning values in Python which returns a generator object to the one who calls the function which contains yield, instead of simply returning a value.Using yield keyword is highly memory efficient, since the execution happens only when the caller iterates over the object.\n",
    "As the variables states are saved, we can pause and resume from the same point, thus saving time.\n",
    "example :"
   ]
  },
  {
   "cell_type": "code",
   "execution_count": 9,
   "id": "6547e725-d58e-46d7-9da6-e3b0dc6ddcaf",
   "metadata": {},
   "outputs": [],
   "source": [
    "\n",
    "def GeneratorFuntion():\n",
    "    yield 1 \n",
    "    yield 2 \n",
    "    yield 3\n",
    "    \n",
    "\n",
    "#\n"
   ]
  },
  {
   "cell_type": "code",
   "execution_count": 10,
   "id": "2c2d9523-61d2-4840-9c2c-498efe59c371",
   "metadata": {},
   "outputs": [
    {
     "name": "stdout",
     "output_type": "stream",
     "text": [
      "1\n",
      "2\n",
      "3\n"
     ]
    }
   ],
   "source": [
    "for value in GeneratorFuntion():\n",
    "\tprint(value)\n"
   ]
  },
  {
   "cell_type": "markdown",
   "id": "c1e96fc0-af31-4f87-88da-37d61ec71938",
   "metadata": {},
   "source": [
    "Q5 :\n",
    " Create a generator function for prime numbers less than 1000. Use the next() method to print the \n",
    "first 20 prime numbers"
   ]
  },
  {
   "cell_type": "markdown",
   "id": "0f9c61ac-289f-4e5e-8b0d-53eac4fe50da",
   "metadata": {},
   "source": [
    "def prime_number():\n",
    "    yield 2 \n",
    "    l=[2]\n",
    "    q=range(3,1001)\n",
    "    for i in q:\n",
    "        is_prime = True \n",
    "        for prime in l :\n",
    "            if i % prime == 0:\n",
    "                is_prime = False\n",
    "                break \n",
    "        if is_prime:\n",
    "            l.append(i)\n",
    "            yield i\n",
    "            \n",
    "prime_gen = prime_number()\n",
    "for i in range(20):\n",
    "    print(next(prime_gen))\n",
    "\n",
    "    \n",
    "    \n",
    "    "
   ]
  },
  {
   "cell_type": "markdown",
   "id": "27cae2cb-59b2-454a-b78b-2fe5c8ccdb2d",
   "metadata": {},
   "source": [
    " Q7 : Write a python program to print the first 10 Fibonacci numbers using a while loop"
   ]
  },
  {
   "cell_type": "code",
   "execution_count": 15,
   "id": "09d6868b-3ce8-47ef-ac46-064b2be6debb",
   "metadata": {},
   "outputs": [
    {
     "name": "stdout",
     "output_type": "stream",
     "text": [
      "0\n",
      "1\n",
      "1\n",
      "2\n",
      "3\n",
      "5\n",
      "8\n",
      "13\n",
      "21\n",
      "34\n",
      "55\n"
     ]
    }
   ],
   "source": [
    "l1=0\n",
    "l2=1\n",
    "c=0\n",
    "while c<=10:\n",
    "    print(l1)\n",
    "    l3=l1+l2\n",
    "    l1=l2\n",
    "    l2=l3\n",
    "    c=c+1\n",
    "    \n",
    "    \n",
    "    \n",
    "    "
   ]
  },
  {
   "cell_type": "markdown",
   "id": "ba799246-9548-4b96-b997-72bf28964b42",
   "metadata": {},
   "source": [
    "Q8:  Write a List Comprehension to iterate through the given string: ‘pwskills’.\n",
    "\n",
    "Expected output: ['p', 'w', 's', 'k', 'i', 'l', 'l', 's']"
   ]
  },
  {
   "cell_type": "code",
   "execution_count": 20,
   "id": "678848d4-8306-4faa-9466-6a7c4aeb79a7",
   "metadata": {},
   "outputs": [
    {
     "data": {
      "text/plain": [
       "['p', 'w', 's', 'k', 'i', 'l', 'l', 's']"
      ]
     },
     "execution_count": 20,
     "metadata": {},
     "output_type": "execute_result"
    }
   ],
   "source": [
    "s=\"pwskills\"\n",
    "[ i for i in s]"
   ]
  },
  {
   "cell_type": "markdown",
   "id": "48d071ee-797e-4d47-b14e-71bd13910cbc",
   "metadata": {},
   "source": [
    "Q8. Write a python program to check whether a given number is Palindrome or not using a while loop"
   ]
  },
  {
   "cell_type": "code",
   "execution_count": 21,
   "id": "a8bd3316-36f4-4f76-ab8b-c941379cbd5b",
   "metadata": {},
   "outputs": [
    {
     "name": "stdin",
     "output_type": "stream",
     "text": [
      " enter the number that you want to check 123\n"
     ]
    },
    {
     "name": "stdout",
     "output_type": "stream",
     "text": [
      " it is not palindrom\n"
     ]
    }
   ],
   "source": [
    "p=int(input(\" enter the number that you want to check\"))\n",
    "\n",
    "r=0\n",
    "while p>0:\n",
    "    d=p%10\n",
    "    r= r*10 + d\n",
    "    p = p/10\n",
    "\n",
    "if(r==p):\n",
    "    print( \" it is a palindrom \")\n",
    "else:\n",
    "    print(\" it is not palindrom\")\n",
    "    \n",
    "    \n",
    " "
   ]
  },
  {
   "cell_type": "markdown",
   "id": "487f20f0-2164-4c1f-9b66-a410feacb309",
   "metadata": {},
   "source": [
    " Q9 : Write a code to print odd numbers from 1 to 100 using list comprehension\n",
    " Note: Use a list comprehension to create a list from 1 to 100 and use another List comprehension to filter \n",
    "out odd numbers."
   ]
  },
  {
   "cell_type": "code",
   "execution_count": 31,
   "id": "10afebab-411a-41ae-ac55-1657d860a808",
   "metadata": {},
   "outputs": [
    {
     "data": {
      "text/plain": [
       "[1,\n",
       " 3,\n",
       " 5,\n",
       " 7,\n",
       " 9,\n",
       " 11,\n",
       " 13,\n",
       " 15,\n",
       " 17,\n",
       " 19,\n",
       " 21,\n",
       " 23,\n",
       " 25,\n",
       " 27,\n",
       " 29,\n",
       " 31,\n",
       " 33,\n",
       " 35,\n",
       " 37,\n",
       " 39,\n",
       " 41,\n",
       " 43,\n",
       " 45,\n",
       " 47,\n",
       " 49,\n",
       " 51,\n",
       " 53,\n",
       " 55,\n",
       " 57,\n",
       " 59,\n",
       " 61,\n",
       " 63,\n",
       " 65,\n",
       " 67,\n",
       " 69,\n",
       " 71,\n",
       " 73,\n",
       " 75,\n",
       " 77,\n",
       " 79,\n",
       " 81,\n",
       " 83,\n",
       " 85,\n",
       " 87,\n",
       " 89,\n",
       " 91,\n",
       " 93,\n",
       " 95,\n",
       " 97,\n",
       " 99]"
      ]
     },
     "execution_count": 31,
     "metadata": {},
     "output_type": "execute_result"
    }
   ],
   "source": [
    " [  i for i in range(1,101)  if i%2 !=0 ] \n",
    "    "
   ]
  },
  {
   "cell_type": "code",
   "execution_count": null,
   "id": "8fa14ebd-4d31-4b0e-b990-0034135a155e",
   "metadata": {},
   "outputs": [],
   "source": []
  }
 ],
 "metadata": {
  "kernelspec": {
   "display_name": "Python 3 (ipykernel)",
   "language": "python",
   "name": "python3"
  },
  "language_info": {
   "codemirror_mode": {
    "name": "ipython",
    "version": 3
   },
   "file_extension": ".py",
   "mimetype": "text/x-python",
   "name": "python",
   "nbconvert_exporter": "python",
   "pygments_lexer": "ipython3",
   "version": "3.10.8"
  }
 },
 "nbformat": 4,
 "nbformat_minor": 5
}

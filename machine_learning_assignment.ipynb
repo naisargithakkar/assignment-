{
 "cells": [
  {
   "cell_type": "markdown",
   "id": "0bfd2433-96cf-4b98-b80a-381596a4fb85",
   "metadata": {},
   "source": [
    "q1:\n",
    "    Artificial Intelligence is basically the mechanism to incorporate human intelligence into machines through a set of rules(algorithm). AI is a combination of two words: “Artificial” meaning something made by humans or non-natural things and “Intelligence” meaning the ability to understand or think accordingly. Another definition could be that “AI is basically the study of training your machine(computers) to mimic a human brain and its thinking capabilities”.\n",
    "    Examples of AI applications include: Google’s AI-Powered Predictions, Ridesharing Apps Like Uber and Lyft, Commercial Flights Use an AI Autopilot, etc.\n",
    "    Machine Learning is basically the study/process which provides the system(computer) to learn automatically on its own through experiences it had and improve accordingly without being explicitly programmed. ML is an application or subset of AI. ML focuses on the development of programs so that it can access data to use it for itself. The entire process makes observations on data to identify the possible patterns being formed and make better future decisions as per the examples provided to them. The major aim of ML is to allow the systems to learn by themselves through experience without any kind of human intervention or assistance.\n",
    "    Examples of ML applications include: Virtual Personal Assistants: Siri, Alexa, Google, etc., Email Spam and Malware Filtering.\n",
    "    Deep Learning is basically a sub-part of the broader family of Machine Learning which makes use of Neural Networks(similar to the neurons working in our brain) to mimic human brain-like behavior. DL algorithms focus on information processing patterns mechanism to possibly identify the patterns just like our human brain does and classifies the information accordingly. DL works on larger sets of data when compared to ML and the prediction mechanism is self-administered by machines. \n",
    "    Examples of DL applications include: Sentiment based news aggregation, Image analysis and caption generation, etc."
   ]
  },
  {
   "cell_type": "markdown",
   "id": "13bd183e-4086-4a77-8bc9-1d3f04651e92",
   "metadata": {},
   "source": [
    "q2:\n",
    "    Supervised learning is a type of machine learning in which a computer algorithm learns to make predictions or decisions based on labeled data. Labeled data is made up of previously known input variables (also known as features) and output variables (also known as labels). By analyzing patterns and relationships between input and output variables in labeled data, the algorithm learns to make predictions. Image and speech recognition, recommendation systems, and fraud detection are all examples of how supervised learning is used.\n",
    "    Customer churn decrease\n",
    "Customer Lifetime Worth Assessment\n",
    "Personalizing reviews for goods\n",
    "Human resource distribution\n",
    "Sales Forecasting\n",
    "Supply and demand analysis\n",
    "To identify fraud\n",
    "Predicting repair of equipment"
   ]
  },
  {
   "cell_type": "markdown",
   "id": "7a106a6b-fca5-4db1-9bca-2215a605432a",
   "metadata": {},
   "source": [
    "q3:\n",
    "    Unsupervised learning, also known as unsupervised machine learning, uses machine learning algorithms to analyze and cluster unlabeled datasets. These algorithms discover hidden patterns or data groupings without the need for human intervention.\n",
    "Its ability to discover similarities and differences in information make it the ideal solution for exploratory data analysis, cross-selling strategies, customer segmentation, and image recognition"
   ]
  },
  {
   "cell_type": "markdown",
   "id": "989e419e-25a8-4953-b7c2-ee60d9a3b3e9",
   "metadata": {},
   "source": [
    "q4:\n",
    "    AI is the broader field of developing intelligent machines, ML is a subset of AI that involves training algorithms to learn from data, DL is a subset of ML that uses ANNs to model complex patterns in data, and DS is an interdisciplinary field that involves extracting insights from data.\n",
    "    AI, ML, DL, and DS are closely related but distinct domains:\n",
    "\n",
    "AI encompasses a broader range of techniques, including ML and DL, to create intelligent systems.\n",
    "ML is a subset of AI that focuses on algorithms that learn from data.\n",
    "DL is a subset of ML that utilizes deep neural networks for complex pattern recognition.\n",
    "DS involves extracting insights from data, often using ML techniques as part of the process.\n",
    "AI powers virtual assistants (like Siri and Alexa), recommendation systems (like Netflix), and self-driving cars.\n",
    "ML is used in spam email filters, credit scoring, medical diagnosis, and fraud detection.\n",
    "DL: DL is behind image and speech recognition systems, language translation, and autonomous vehicles.\n",
    "DS: DS is applied in customer analytics, market segmentation, and predicting stock prices."
   ]
  },
  {
   "cell_type": "markdown",
   "id": "19a35c08-1fc7-4c6d-b27f-8b02cbb4ed84",
   "metadata": {},
   "source": [
    "q5:\n",
    "Supervised Learning:\n",
    "Input data is labeled.\n",
    "Used for prediction and classification models.\n",
    "It takes direct feedback of the output.\n",
    "These models predict the output.\n",
    "It can be used in cases where we know the input and their respective outputs.\n",
    "Semi-Supervised learning:\n",
    "A large amount of input data is unlabeled while a small amount is labeled.\n",
    "It is used when labeling the whole dataset is expensive.\n",
    "It is a type of weak supervision.\n",
    "Unsupervised learning:\n",
    "Input data is unlabeled.\n",
    "Used for extracting information from large amounts of data.\n",
    "Does not have a feedback mechanism.\n",
    "These models find underlying patterns in data.\n",
    "We can use these models where we only know the input data and do not have the knowledge of the corresponding output."
   ]
  },
  {
   "cell_type": "markdown",
   "id": "7d961634-f817-448c-a2f0-0b4fe7220bb2",
   "metadata": {},
   "source": [
    "q6:\n",
    "    Training Set \n",
    "This is the actual dataset from which a model trains .i.e. the model sees and learns from this data to predict the outcome or to make the right decisions. Most of the training data is collected from several resources and then preprocessed and organized to provide proper performance of the model. Type of training data hugely determines the ability of the model to generalize .i.e. the better the quality and diversity of training data, the better will be the performance of the model. This data is more than 60% of the total data available for the project.\n",
    "\n",
    "Testing Set\n",
    "This dataset is independent of the training set but has a somewhat similar type of probability distribution of classes and is used as a benchmark to evaluate the model, used only after the training of the model is complete. Testing set is usually a properly organized dataset having all kinds of data for scenarios that the model would probably be facing when used in the real world. Often the validation and testing set combined is used as a testing set which is not considered a good practice. If the accuracy of the model on training data is greater than that on testing data then the model is said to have overfitting. This data is approximately 20-25% of the total data available for the project\n",
    "The validation set is used to fine-tune the hyperparameters of the model and is considered a part of the training of the model. The model only sees this data for evaluation but does not learn from this data, providing an objective unbiased evaluation of the model. Validation dataset can be utilized for regression as well by interrupting training of model when loss of validation dataset becomes greater than loss of training dataset .i.e. reducing bias and variance. This data is approximately 10-15% of the total data available for the project but this can change depending upon the number of hyperparameters .i.e. if model has quite many hyperparameters then using large validation set will give better results. Now, whenever the accuracy of model on validation data is greater than that on training data then the model is said to have generalized well."
   ]
  },
  {
   "cell_type": "markdown",
   "id": "9645d27c-980a-4543-894d-9690b42783e0",
   "metadata": {},
   "source": [
    "q7:\n",
    "    The Collins English Dictionary defines anomaly as ‘something different from what is usual or expected.’ The essence of an anomaly is therefore something that does not turn out as expected based on known information.\n",
    "\n",
    "We can better understand what an anomaly is by considering it in the context of specific applications. For example, an anomaly in a fiscal process could be an indication of fraud. Or in terms of industrial production, finding anomalies could indicate when it is necessary to carry out maintenance work on machinery, thereby reducing unnecessary maintenance costs.\n",
    "\n",
    "The vast and ever-increasing amount of data generated by activity today allows us to use artificial intelligence and unsupervised learning algorithms to analyse it, recognise it and look for patterns that allow us to detect anomalies.\n",
    "Anomaly detection in industry\n",
    "Industry is one of the sectors where this type of algorithm is most widely applied. One of the most common uses is in quality control, where they can help to reprogram industrial computers for the production of new items. They can also help optimise supply chains by detecting where anomalies occur in downtime, as well as many other uses such as analysing customer purchasing behaviour, inventory management, etc.\n",
    "\n",
    "Anomaly detection in other sectors\n",
    "The healthcare sector is one of the sectors where artificial intelligence is being most widely applied. There are many diagnostic and patient monitoring tasks that can be analysed by anomaly detection, such as the detection of erroneous treatment plans based on radiotherapy data series. It also has an interesting use in epidemiology, where it can detect the emergence of pathogen mutations based on patients’ responses to treatments.\n",
    "\n",
    "In the financial sector, one of the main uses of anomaly detection is to detect fraud in electronic payments. It is also useful for the detection of creditworthiness when granting loans and the prediction of bankruptcies and it has various applications for optimising stock market investments.\n",
    "\n",
    "\n",
    "\n",
    "Unsupervised learning can be used in anomaly detection by identifying normal patterns within a data sample and then detecting outliers based on the natural characteristics of the data set itself1. In anomaly detection, unsupervised learning is used as you do not pass any labelled values. You train using only the 'non-anomalous' data, select epsilon values, and evaluate with a numerical value (such as F1 score) so that your model will get a good balance of true positives."
   ]
  },
  {
   "cell_type": "markdown",
   "id": "270005eb-9abc-4d22-a7e2-6912b8549f7a",
   "metadata": {},
   "source": [
    "q8:\n",
    "    Supervised learning algorithms can be further divided into two categories depending on the type of output they produce.\n",
    "\n",
    "Regression Algorithms\n",
    "Classification Algorithms\n",
    "\n",
    "Regression algorithms are used to predict a continuous numerical value, such as a house's price or a day's temperature. Different types of regression algorithms exist, such as\n",
    "\n",
    "Linear Regression, \n",
    "Polynomial Regression, \n",
    "Lasso Regression,\n",
    "Ridge regression.\n",
    "Classification Algorithms\n",
    "Classification algorithms are used to predict a categorical or discrete value, such as whether an email is spam. Some examples of classification algorithms includes\n",
    "\n",
    "Decision trees, \n",
    "Support vector machines (SVM), \n",
    "k-nearest neighbours (KNN).\n",
    "Unsupervised Learning\n",
    "Clustering\n",
    "Dimensionality Reduction\n",
    "\n"
   ]
  },
  {
   "cell_type": "code",
   "execution_count": null,
   "id": "fd738376-b036-4172-aaac-e40fc087825b",
   "metadata": {},
   "outputs": [],
   "source": []
  }
 ],
 "metadata": {
  "kernelspec": {
   "display_name": "Python 3 (ipykernel)",
   "language": "python",
   "name": "python3"
  },
  "language_info": {
   "codemirror_mode": {
    "name": "ipython",
    "version": 3
   },
   "file_extension": ".py",
   "mimetype": "text/x-python",
   "name": "python",
   "nbconvert_exporter": "python",
   "pygments_lexer": "ipython3",
   "version": "3.10.8"
  }
 },
 "nbformat": 4,
 "nbformat_minor": 5
}

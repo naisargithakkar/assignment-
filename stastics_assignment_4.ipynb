{
 "cells": [
  {
   "cell_type": "markdown",
   "id": "686e7b40-512e-44e0-892c-2dcc5a794d9e",
   "metadata": {},
   "source": [
    "q1:\n",
    "    The Probability Mass Function (PMF) is also called a probability function or frequency function which characterizes the distribution of a discrete random variable. Let X be a discrete random variable of a function, then the probability mass function of a random variable X is given by Px (x) = P( X=x ), For all x belongs to the range of X It is noted that the probability function should fall on the condition :\n",
    "\n",
    "Px (x) ≥ 0 and\n",
    "∑xϵRange(x) Px (x) = 1\n",
    "Here the Range(X) is a countable set and it can be written as { x1, x2, x3, ….}. This means that the random variable X takes the value x1, x2, x3, ….\n",
    "\n",
    "probabaity density function:\n",
    "The solution is in a range of continuous random variables.\n",
    "\n",
    "it uses continuos random variable.\n"
   ]
  },
  {
   "cell_type": "markdown",
   "id": "45cb6647-8a16-490a-b88b-c04d823487ad",
   "metadata": {},
   "source": [
    "q2:\n",
    "    he Cumulative Distribution Function (CDF), of a real-valued random variable X, evaluated at x, is the probability function that X will take a value less than or equal to x. It is used to describe the probability distribution of random variables in a table. And with the help of these data, we can easily create a CDF plot in an excel sheet.\n",
    "    In other words, CDF finds the cumulative probability for the given value. To determine the probability of a random variable, it is used and also to compare the probability between values under certain conditions. For discrete distribution functions, CDF gives the probability values till what we specify and for continuous distribution functions, it gives the area under the probability density function up to the given value specified."
   ]
  },
  {
   "cell_type": "markdown",
   "id": "f30125a8-d879-4efe-94c1-11c89b7920d1",
   "metadata": {},
   "source": [
    "q3:\n",
    "    The height of people is an example of normal distribution. Most of the people in a specific population are of average height.\n",
    "    A fair rolling of dice is also a good example of normal distribution. In an experiment, it has been found that when a dice is rolled 100 times, chances to get ‘1’ are 15-18% and if we roll the dice 1000 times, the chances to get ‘1’ is, again, the same, which averages to 16.7% (1/6).\n",
    "    normal/Gaussian Distribution is a bell-shaped graph that encompasses two basic terms- mean and standard deviation. It is a symmetrical arrangement of a data set in which most values cluster in the mean and the rest taper off symmetrically towards either extreme. Numerous genetic and environmental factors influence the trait.\n",
    "    The mean of the distribution determines the location of the center of the graph, the standard deviation determines the height and width of the graph and the total area under the normal curve is equal to 1."
   ]
  },
  {
   "cell_type": "markdown",
   "id": "96fb547e-8ecb-4e6d-b6be-4d08bddffc3e",
   "metadata": {},
   "source": [
    "q4:\n",
    "All kinds of variables in natural and social sciences are normally or approximately normally distributed. Height, birth weight, reading ability, job satisfaction, or SAT scores are just a few examples of such variables.\n",
    "\n",
    "Because normally distributed variables are so common, many statistical tests are designed for normally distributed populations.\n",
    "\n",
    "Flipping a coin is one of the oldest methods for settling disputes. We all have flipped a coin before a match or game. The perceived fairness in flipping a coin lies in the fact that it has equal chances to come up with either result.\n",
    "\n",
    "in this scenario of increasing competition, most parents, as well as children, want to analyze the Intelligent Quotient level. Well, the IQ of a particular population is a normal distribution curve; where the IQ of a majority of the people in the population lies in the normal range whereas the IQ of the rest of the population lives in the deviated range.\n",
    "Most of us have heard about the rise and fall in the prices of shares in the stock market. These changes in the log values of Forex rates, price indices, and stock prices return often form a bell-shaped curve."
   ]
  },
  {
   "cell_type": "markdown",
   "id": "4542e3b3-ad62-4e27-8d08-a9dccf63bc3a",
   "metadata": {},
   "source": [
    "q5:\n",
    "    Bernoulli distribution is a discret univariate probability distribution. A Bernoulli trial or experiment results in binary outcomes:  success or failure (0 or 1). The trial’s success is denoted as p (x=1), and failure is expressed as 1-p ( x=0).\n",
    "    let us assume that out of every 50 people in a city, 1 is a business owner. So, If one citizen is selected randomly, what is the distribution of business owners?\n",
    "    Thus, the probability of success, i.e., the selected citizen being a business owner, is 0.02, and the probability of failure, i.e., the selected citizen not being a business owner, is 0.98.\n",
    "    \n",
    "    A Bernoulli distribution is a probability distribution that describes the outcome of a single experiment that can result in one of two possible outcomes, such as success or failure. A binomial distribution is a probability distribution that describes the number of successes in a fixed number of independent trials, each with the same probability of success. In other words, a Bernoulli distribution is a special case of a binomial distribution where the number of trials is equal to 1\n",
    "    "
   ]
  },
  {
   "cell_type": "markdown",
   "id": "18076034-c809-4553-a284-5e09edc38a7b",
   "metadata": {},
   "source": [
    "q6: Consider a dataset with a mean of 50 and a standard deviation of 10. If we assume that the dataset\n",
    "is normally distributed, what is the probability that a randomly selected observation will be greater\n",
    "than 60? Use the appropriate formula and show your calculations.\n",
    "\n",
    "z-score = (x – μ) / σ\n",
    "z-score=(60-50)/10 = 1\n",
    "p=0.8413\n",
    "finally , p= 0.1587"
   ]
  },
  {
   "cell_type": "markdown",
   "id": "92932161-b3eb-46cf-bcd3-a3c2582575dc",
   "metadata": {},
   "source": [
    "q7:\n",
    "    uniform distribution is a stastical probability that dicatates that every outcomes has equal chance of occuring .\n",
    "    examples:\n",
    "\n",
    "\n",
    "Uniform distribution is a statistical probability that dictates that every outcome has an equal chance of occurring1234. Examples of uniform distribution include:\n",
    "Flipping a coin1\n",
    "Handing a $100 bill to any lucky person who walks by2\n",
    "The probability that a random person's birthday falls on a given date3\n",
    "Rolling dice and coin tosses4\n",
    "The probability of drawing any card from a deck of cards4\n",
    "Random sampling4\n",
    "P-values in hypothesis tests when the null hypothesis is true under certain conditions4.\n"
   ]
  },
  {
   "cell_type": "markdown",
   "id": "a524818a-bbdb-4a11-a2e7-b1141b0c82bc",
   "metadata": {},
   "source": [
    "q8:\n",
    "    A z-score gives us an idea of how far from the mean a data point is. It is an important topic in statistics. Z-scores are a method to compare results to a “normal” population. For example, we know someone’s weight is 70 kg, but if you want to compare it to the “average” person’s weight, looking at a vast table of data can be overwhelming.\n",
    "     It will be positive if the value lies above the mean and negative if it lies below the mean. It is also known as standard score. It indicates how many standard deviations an entity is, from the mean. In order to use a z-score, the mean μ and also the population standard deviation σ should be known. A z score helps to calculate the probability of a score occurring within a standard normal distribution. It also enables us to compare two scores that are from different samples. A table for the values of ϕ, indicating the values of the cumulative distribution function of the normal distribution is termed as a z score table."
   ]
  },
  {
   "cell_type": "markdown",
   "id": "8c2bfc56-4b89-4f8d-b84f-bcd483e86c1e",
   "metadata": {},
   "source": [
    "q9:\n",
    "    The Central Limit Theorem is significant because it allows one to assume that the sampling distribution of the mean will be normally-distributed in most cases, even if the population data is not normal. This simplifies problems in statistics by allowing one to work with a distribution that is approximately normal. The theorem explains why the normal distribution arises so commonly and why it is generally an excellent approximation for the mean of a collection of data. Statistical procedures such as building confidence intervals and hypothesis testing show that the population data is normal, but the sampling data should be treated as normal even if the population data is not normal according to this theorem.\n",
    "\n"
   ]
  },
  {
   "cell_type": "markdown",
   "id": "2634404f-8a2e-4066-871c-0b2609cc35e4",
   "metadata": {},
   "source": [
    "q10:\n",
    "    Assumptions of Central Limit Theorem Central Limit Theorem is valid for the following conditions: The drawing of the sample from the population should be random. The drawing of the sample should be independent of each other. The sample size should not exceed ten percent of the total population when sampling is done without replacement."
   ]
  },
  {
   "cell_type": "code",
   "execution_count": null,
   "id": "89483488-c951-4f3a-b793-2cebc25dd1b3",
   "metadata": {},
   "outputs": [],
   "source": []
  }
 ],
 "metadata": {
  "kernelspec": {
   "display_name": "Python 3 (ipykernel)",
   "language": "python",
   "name": "python3"
  },
  "language_info": {
   "codemirror_mode": {
    "name": "ipython",
    "version": 3
   },
   "file_extension": ".py",
   "mimetype": "text/x-python",
   "name": "python",
   "nbconvert_exporter": "python",
   "pygments_lexer": "ipython3",
   "version": "3.10.8"
  }
 },
 "nbformat": 4,
 "nbformat_minor": 5
}

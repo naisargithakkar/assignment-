{
 "cells": [
  {
   "cell_type": "markdown",
   "id": "c9a3382e-e706-4654-90ab-aff9e3c81cf4",
   "metadata": {},
   "source": [
    "#q1:\n",
    "my_list = []  # Create an empty list\n",
    "my_list.append(element)  # Add an element to the end of the list\n",
    "\n",
    "    "
   ]
  },
  {
   "cell_type": "markdown",
   "id": "2b89290f-9277-4fe6-a0f2-a08cd97ba737",
   "metadata": {},
   "source": [
    "q2:\n",
    "    Certainly! In Python, both `remove()` and `pop()` are methods used to manipulate lists, but they have different behaviors:\n",
    "\n",
    "1. **`remove()` Method**:\n",
    "   - The `remove()` method removes the **first occurrence** of a specified value from the list.\n",
    "   - Syntax: `list_name.remove(value)`\n",
    "   - Example:\n",
    "     ```python\n",
    "     numbers = [1, 2, 3, 2, 3, 4, 5]\n",
    "     numbers.remove(3)  # Removes the first occurrence of 3\n",
    "     print(numbers)  # Output: [1, 2, 2, 3, 4, 5]\n",
    "     ```\n",
    "\n",
    "2. **`pop()` Method**:\n",
    "   - The `pop()` method removes an element from the list based on its **index**.\n",
    "   - It returns the **deleted value** from the list.\n",
    "   - Syntax: `list_name.pop(index)`\n",
    "   - Example:\n",
    "     ```python\n",
    "     numbers = [1, 2, 3, 2, 3, 4, 5]\n",
    "     deleted_value = numbers.pop(3)  # Removes the element at index 3 (value 2)\n",
    "     print(numbers)  # Output: [1, 2, 3, 3, 4, 5]\n",
    "     print(f\"Deleted value: {deleted_value}\")  # Output: Deleted value: 2\n",
    "     ```\n",
    "\n",
    "**Key Differences**:\n",
    "- `remove()` uses the **value** to delete an element, while `pop()` uses the **index**.\n",
    "- `remove()` doesn't return any value, whereas `pop()` returns the deleted value.\n",
    "- If the index doesn't exist, `pop()` raises an **index error**, while `remove()` raises a **value error** if the value doesn't exist in the list.\n"
   ]
  },
  {
   "cell_type": "code",
   "execution_count": 1,
   "id": "c82f2938-e5f9-4ff9-8c8c-06c11b5f41b9",
   "metadata": {},
   "outputs": [
    {
     "name": "stdout",
     "output_type": "stream",
     "text": [
      "The sorted list in descending order: [9, 8, 5, 3, 2, 1]\n"
     ]
    }
   ],
   "source": [
    "#q3:\n",
    "# Create a list of numbers (you can modify this list as needed)\n",
    "numbers = [5, 2, 8, 1, 9, 3]\n",
    "\n",
    "# Sort the list in descending order\n",
    "numbers.sort(reverse=True)\n",
    "\n",
    "# Print the sorted list\n",
    "print(f\"The sorted list in descending order: {numbers}\")\n"
   ]
  },
  {
   "cell_type": "code",
   "execution_count": null,
   "id": "a46cf526-78eb-409c-a77e-f2d07f8ae77c",
   "metadata": {},
   "outputs": [],
   "source": []
  }
 ],
 "metadata": {
  "kernelspec": {
   "display_name": "Python 3 (ipykernel)",
   "language": "python",
   "name": "python3"
  },
  "language_info": {
   "codemirror_mode": {
    "name": "ipython",
    "version": 3
   },
   "file_extension": ".py",
   "mimetype": "text/x-python",
   "name": "python",
   "nbconvert_exporter": "python",
   "pygments_lexer": "ipython3",
   "version": "3.10.8"
  }
 },
 "nbformat": 4,
 "nbformat_minor": 5
}

{
 "cells": [
  {
   "cell_type": "markdown",
   "id": "1cc3e941-4845-4c50-809a-f335565095b0",
   "metadata": {},
   "source": [
    "Q1: \n",
    "Stastics is the science of collecting , organizing and analyzing data."
   ]
  },
  {
   "cell_type": "markdown",
   "id": "005b58af-1c1b-42b1-817b-7ad86f7baa44",
   "metadata": {},
   "source": [
    "Q2:Descriptive Statistics:\n",
    "In the descriptive Statistics, the Data is described in a summarized way. The summarization is done from the sample of the population using different parameters like Mean or standard deviation. Descriptive Statistics are a way of using charts, graphs, and summary measures to organize, represent, and explain a set of Data.\n",
    "\n",
    "\n",
    "Inferential Statistics:\n",
    "In the Inferential Statistics, we try to interpret the Meaning of descriptive Statistics. After the Data has been collected, analyzed, and summarised we use Inferential Statistics to describe the Meaning of the collected Data\n",
    "In the Inferential Statistics, we try to interpret the Meaning of descriptive Statistics. After the Data has been collected, analyzed, and summarised we use Inferential Statistics to describe the Meaning of the collected Data.\n",
    "\n",
    "In a class, the Data is the set of marks obtained by 50 students. Now when we take out the Data average, the result is the average of 50 students’ marks. If the average marks obtained by 50 students are 88 out of 100, on the basis of the outcome, we will draw a conclusion. \n"
   ]
  },
  {
   "cell_type": "markdown",
   "id": "153c49b8-fd92-4604-a20a-686b7e5d7bad",
   "metadata": {},
   "source": [
    "Q3: Qualitative Data (Categorical Data)\n",
    "As the name suggest Qualitative Data tells the features of the data in the statistics. Qualitative Data is also called Categorical Data and its categories the data into various categories. Qualitative data includes data such as gender of people, their family name and others in sample of population data.\n",
    "\n",
    "Qualitative data is further categorized into two categories that includes,\n",
    "\n",
    "Nominal Data\n",
    "Ordinal Data\n",
    "\n",
    "Examples of nominal data include gender (Male or female), race (White, Black, Asian), religion (Hinuduism, Christianity, Islam, Judaism), and blood type (A, B, AB, O).\n",
    "Examples of ordinal data include education level (Elementary, Middle, High School, College), job position (Manager, Supervisor, Employee), etc.\n",
    "\n",
    "Quantitative Data (Numerical Data)\n",
    "Quantitavive Data is the type of the data that represents the numerical value of the data. They are also called the Numerical Data. This data type is used to represent the height, weight, length and other things of the data. Quantitative data is further classified into two categories that are,\n",
    "\n",
    "Discrete Data\n",
    "Continuous Data\n",
    "\n",
    "The example of the discreate data types are,\n",
    "\n",
    "Height of Students in a class\n",
    "Marks of the students in a class test\n",
    "Weight of different members of a family, etc.\n",
    "\n",
    "Examples of the continuous data types are,\n",
    "\n",
    "Temperature Range\n",
    "Salary range of Workers in a Factory, etc."
   ]
  },
  {
   "cell_type": "markdown",
   "id": "97bb9b11-fa42-4c53-a96f-2932ccdf2493",
   "metadata": {},
   "source": [
    "Q4: (i) Grading in exam: A+, A, B+, B, C+, C, D, E\n",
    "(ii) Colour of mangoes: yellow, green, orange, red \n",
    "all are qualitative.\n",
    "and remaining iii and iv are qualitative"
   ]
  },
  {
   "cell_type": "markdown",
   "id": "8c994d29-000c-411a-8068-3f431aba42db",
   "metadata": {},
   "source": [
    "Q5: Levels of measurement, also called scales of measurement, tell you how precisely variables are recorded. In scientific research, a variable is anything that can take on different values across your data set (e.g., height or test scores).\n",
    "\n",
    "There are 4 levels of measurement:\n",
    "\n",
    "Nominal: the data can only be categorized\n",
    "EXAMPLES:\n",
    "Gender\n",
    "Ethnicity\n",
    "Car brands\n",
    "Ordinal: the data can be categorized and ranked\n",
    "Top 5 Olympic medallists\n",
    "Language ability (e.g., beginner, intermediate, fluent)\n",
    "\n",
    "Interval: the data can be categorized, ranked, and evenly spaced\n",
    "Test scores (e.g., IQ or exams)\n",
    "Personality inventories\n",
    "\n",
    "Ratio: the data can be categorized, ranked, evenly spaced, and has a natural zero.\n",
    "Height\n",
    "Age\n",
    "Weight\n",
    "Temperature in Kelvin"
   ]
  },
  {
   "cell_type": "markdown",
   "id": "a754ca99-bcaa-4338-804d-d64c852feeb2",
   "metadata": {},
   "source": [
    "Q6:\n",
    "Levels of measurement, also called scales of measurement, tell you how precisely variables are recorded. In scientific research, a variable is anything that can take on different values across your data set (e.g., height or test scores)."
   ]
  },
  {
   "cell_type": "markdown",
   "id": "62cf7d21-4781-4752-bf76-58adb336bea2",
   "metadata": {},
   "source": [
    "Q7: Nominal Data – Nominal data is a basic data type that categorizes data by labeling or naming values such as Gender, hair color, or types of animal. It does not have any hierarchy. Ordinal Data – Ordinal data involves classifying data based on rank, such as social status in categories like ‘wealthy’, ‘middle income’, or ‘poor’."
   ]
  },
  {
   "cell_type": "markdown",
   "id": "54cdae57-c501-4707-bbb0-277862116586",
   "metadata": {},
   "source": [
    "Q8: Histogram"
   ]
  },
  {
   "cell_type": "markdown",
   "id": "242cc5c8-9183-4870-b3db-e8a09413553e",
   "metadata": {},
   "source": [
    "q9:\n",
    "    1. Descriptive Statistics: Descriptive statistics is a term given to the analysis of data that helps to describe, show and summarize data in a meaningful way. It is a simple way to describe our data. Descriptive statistics is very important to present our raw data ineffective/meaningful way using numerical calculations or graphs or tables. This type of statistics is applied to already known data. \n",
    "    2. Inferential Statistics: In inferential statistics, predictions are made by taking any group of data in which you are interested. It can be defined as a random sample of data taken from a population to describe and make inferences about the population. Any group of data that includes all the data you are interested in is known as population. It basically allows you to make predictions by taking a small sample instead of working on the whole population.\n",
    "\n",
    " "
   ]
  },
  {
   "cell_type": "markdown",
   "id": "4aab48f2-f1b2-4719-a77a-f3de632f3fb7",
   "metadata": {},
   "source": [
    "q10:\n",
    "    Measures of central tendency help you find the middle, or the average, of a dataset. The 3 most common measures of central tendency are the mode, median, and mean.\n",
    "\n",
    "Mode: the most frequent value.\n",
    "Median: the middle number in an ordered dataset.\n",
    "Mean: the sum of all values divided by the total number of values."
   ]
  },
  {
   "cell_type": "code",
   "execution_count": null,
   "id": "39a7d1ff-fcc8-4707-ab01-ae267bee9809",
   "metadata": {},
   "outputs": [],
   "source": []
  }
 ],
 "metadata": {
  "kernelspec": {
   "display_name": "Python 3 (ipykernel)",
   "language": "python",
   "name": "python3"
  },
  "language_info": {
   "codemirror_mode": {
    "name": "ipython",
    "version": 3
   },
   "file_extension": ".py",
   "mimetype": "text/x-python",
   "name": "python",
   "nbconvert_exporter": "python",
   "pygments_lexer": "ipython3",
   "version": "3.10.8"
  }
 },
 "nbformat": 4,
 "nbformat_minor": 5
}

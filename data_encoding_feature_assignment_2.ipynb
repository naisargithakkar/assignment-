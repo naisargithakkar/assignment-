{
 "cells": [
  {
   "cell_type": "markdown",
   "id": "f52f829c-5f25-4f7a-8af9-026632188632",
   "metadata": {},
   "source": [
    "q1:\n",
    "    When we are working on some of the datasets, we found that some of the features are categorical. We all know that machines can’t understand categorical data. Models only work with numerical values. For this reason, it is necessary to convert the categorical values of the features into numerical ones, So the machine can learn from those data and gives the right model. This process of converting categorical data into numerical data is called Encoding.\n",
    "    \n",
    "    Encoding is a required pre-processing step when working with categorical data.\n",
    "    2. Encoding is the process of converting categorical data into numerical data so that machine learning models can learn from the data and give the right model3. Data encoding and decoding play a crucial role in data science as they act as a bridge between raw data and actionable insights, enabling us to prepare data for analysis by transforming it into a suitable format that can be processed by algorithms or models1.\n"
   ]
  },
  {
   "cell_type": "markdown",
   "id": "36be6a37-667f-4bfc-8eb6-5db0086d9f70",
   "metadata": {},
   "source": [
    "q2:\n",
    "    When we have a feature where variables are just names and there is no order or rank to this variable's feature.\n",
    "    For example: City of person lives in, Gender of person, Marital Status, etc…\n",
    "\n",
    "One-hot encoding is a technique for handling categorical variables, which are variables that have a finite number of discrete values or categories. For example, gender, color, or country are categorical variables.\n",
    "\n",
    "One-hot encoding converts each category into a binary vector of 0s and 1s, where only one element is 1 and the rest are 0. The length of the vector is equal to the number of categories. For example, if we have a variable color with three categories — red, green, and blue —\n",
    "\n",
    "One-hot encoding has some drawbacks as well. It can increase the dimensionality of the data significantly if there are many categories, which can lead to computational inefficiency or overfitting. It also doesn’t capture any relationship or similarity between the categories, which may be useful for some analysis.\n"
   ]
  },
  {
   "cell_type": "code",
   "execution_count": 3,
   "id": "ee92423b-73e0-4cea-a4a2-315d8dbfb532",
   "metadata": {},
   "outputs": [
    {
     "data": {
      "text/plain": [
       "array([[0., 0., 1.],\n",
       "       [0., 1., 0.],\n",
       "       [1., 0., 0.],\n",
       "       [0., 1., 0.],\n",
       "       [1., 0., 0.],\n",
       "       [0., 0., 1.]])"
      ]
     },
     "execution_count": 3,
     "metadata": {},
     "output_type": "execute_result"
    }
   ],
   "source": [
    "#example:\n",
    "import pandas as pd\n",
    "df=pd.DataFrame({'color':['red','green','blue','green','blue','red']})\n",
    "from sklearn.preprocessing import OneHotEncoder\n",
    "encoder= OneHotEncoder()\n",
    "encoder.fit_transform(df[['color']]).toarray()"
   ]
  },
  {
   "cell_type": "markdown",
   "id": "42660654-1103-4cbc-9def-2b2918311810",
   "metadata": {},
   "source": [
    "q3:\n",
    "    In most scenarios, one hot encoding is the preferred way to convert a categorical variable into a numeric variable because label encoding makes it seem that there is a ranking between values 1. For example, consider a dataset containing information about different types of fruits. The dataset has a categorical variable called “Fruit” with three unique values: “Apple”, “Banana”, and “Orange”. If we use label encoding to convert this categorical variable into a numeric variable, we would assign each categorical value an integer value based on alphabetical order. In this case, “Apple” would be assigned 0, “Banana” would be assigned 1, and “Orange” would be assigned 2. However, this encoding would imply that “Banana” is greater than “Apple” and “Orange”, which is not the case 1.\n",
    "\n",
    "On the other hand, nominal encoding is preferred when the categorical variable does not have any order (nominal) 2. For example, consider a dataset containing information about different types of cars. The dataset has a categorical variable called “Color” with four unique values: “Red”, “Blue”, “Green”, and “Yellow”. Since there is no inherent order between these colors, nominal encoding would be the preferred way to convert this categorical variable into a numeric variable 2."
   ]
  },
  {
   "cell_type": "markdown",
   "id": "494d968d-0b12-472a-99d3-10996e2f6e40",
   "metadata": {},
   "source": [
    "q4:\n",
    "    If the categorical data has only 5 unique values, then label encoding can be used to transform the data into a numerical format. Label encoding assigns a unique integer value to each category in the dataset. This technique is useful when the categories have an inherent order or rank, such as low, medium, and high.\n",
    "    This is because label encoding is a simple and efficient way to transform the data into a numerical format without adding additional columns to the dataset."
   ]
  },
  {
   "cell_type": "markdown",
   "id": "a54801ec-de2d-436d-85bc-ebf5606610d3",
   "metadata": {},
   "source": [
    "q5:\n",
    "    Nominal encoding is a technique used to convert categorical data into numerical data. In nominal encoding, each unique category is assigned a unique integer value. For example, if we have a categorical variable called “color” with three categories: red, green, and blue, we can assign them the values 1, 2, and 3 respectively.\n",
    "\n",
    "In this case, we have two categorical columns. To transform these columns using nominal encoding, we would create a new column for each unique category in each categorical column. The number of new columns created would be equal to the number of unique categories in both categorical columns combined.\n",
    "\n",
    "To calculate the number of new columns created, we need to first determine the number of unique categories in each categorical column. Let’s assume that the first categorical column has 10 unique categories and the second categorical column has 5 unique categories. Therefore, the total number of unique categories in both categorical columns combined is 10 + 5 = 15.\n",
    "\n",
    "Since we need to create a new column for each unique category, the number of new columns created would be 15. Therefore, if we were to use nominal encoding to transform the categorical data, 15 new columns would be created .\n",
    "\n"
   ]
  },
  {
   "cell_type": "markdown",
   "id": "0cad4e4d-118e-4250-a4af-d029b8ca776f",
   "metadata": {},
   "source": [
    "q6:\n",
    "    we can use one hot encoding technique for this animal data.\n",
    "    beacause it  is used when the categorical data does not have a natural order or rank. In this technique, each unique category is assigned a binary value (0 or 1) to represent its presence or absence. For example, if we have a categorical variable “animal” with categories “dog”, “cat”, and “cow”, we can represent them using binary values as follows: “dog” = [1, 0, 0], “cat” = [0, 1, 0], and “cow” = [0, 0, 1] .\n",
    "    and accroding to that we can get information regarding other features loke diate , species,habitat."
   ]
  },
  {
   "cell_type": "markdown",
   "id": "30b6b6a6-94f3-4891-8539-a9e96d2efde8",
   "metadata": {},
   "source": [
    "q7:\n",
    " predicting customer churn for a telecommunications \n",
    "company. You have a dataset with 5 features, including the customer's gender, age, contract type, \n",
    "monthly charges, and tenure.\n",
    "In above telecommunication data 1 categorical feature is gender , for that we can use one hot encoding which can assign interger value to that feature.\n",
    "and another feature is contract , for that we can also use one hot encoding , because if it is yearly basis , etc would be the possiblities of output column.\n",
    "other all are the features are numerical which mention in question except above."
   ]
  },
  {
   "cell_type": "code",
   "execution_count": null,
   "id": "bab03c89-9c19-4bbb-bbbb-a95116b55033",
   "metadata": {},
   "outputs": [],
   "source": []
  }
 ],
 "metadata": {
  "kernelspec": {
   "display_name": "Python 3 (ipykernel)",
   "language": "python",
   "name": "python3"
  },
  "language_info": {
   "codemirror_mode": {
    "name": "ipython",
    "version": 3
   },
   "file_extension": ".py",
   "mimetype": "text/x-python",
   "name": "python",
   "nbconvert_exporter": "python",
   "pygments_lexer": "ipython3",
   "version": "3.10.8"
  }
 },
 "nbformat": 4,
 "nbformat_minor": 5
}

{
 "cells": [
  {
   "cell_type": "code",
   "execution_count": 1,
   "id": "0141a4e6-d90d-4d94-8c9d-5011a4d328fb",
   "metadata": {},
   "outputs": [
    {
     "data": {
      "text/plain": [
       "' Q1 : Loops are used in computer programming to repeat a section of code.\\n\\nA loop, for example, can be used to display and to complete a task number of  times.\\nexample of for loop is shown below:'"
      ]
     },
     "execution_count": 1,
     "metadata": {},
     "output_type": "execute_result"
    }
   ],
   "source": [
    "\"\"\" Q1 : Loops are used in computer programming to repeat a section of code.\n",
    "\n",
    "A loop, for example, can be used to display and to complete a task number of  times.\n",
    "example of for loop is shown below:\"\"\"\n"
   ]
  },
  {
   "cell_type": "code",
   "execution_count": 3,
   "id": "950fe24c-24a3-4b5c-a765-a3fd62e2dfd3",
   "metadata": {},
   "outputs": [
    {
     "name": "stdout",
     "output_type": "stream",
     "text": [
      "1\n",
      "4\n",
      "5\n",
      "6\n",
      "7\n",
      "8\n"
     ]
    }
   ],
   "source": [
    "\n",
    " l=[1,4,5,6,7,8]\n",
    "for i in l :\n",
    "    print(i)\n"
   ]
  },
  {
   "cell_type": "code",
   "execution_count": 2,
   "id": "4ce65935-d046-4b6d-a244-2cf11586ad44",
   "metadata": {},
   "outputs": [],
   "source": [
    "## while loop will excute only when condition only true . and will stop execute when conition will stop .example of while loop"
   ]
  },
  {
   "cell_type": "code",
   "execution_count": 3,
   "id": "e964c530-1a4c-4208-9035-53bfe2da8b44",
   "metadata": {},
   "outputs": [
    {
     "name": "stdout",
     "output_type": "stream",
     "text": [
      "0\n",
      "1\n",
      "2\n",
      "3\n",
      "4\n",
      "5\n",
      "6\n"
     ]
    }
   ],
   "source": [
    "i=0\n",
    "s=7\n",
    "\n",
    "while i<s:\n",
    "    print(i)\n",
    "    i=i+1"
   ]
  },
  {
   "cell_type": "code",
   "execution_count": 1,
   "id": "0f17ea28-8a65-4eac-8a8a-ba28b36a2e62",
   "metadata": {},
   "outputs": [],
   "source": [
    "##  Q2 : sum and product of 10 natural numbers "
   ]
  },
  {
   "cell_type": "code",
   "execution_count": 1,
   "id": "0a1902de-e29d-41b2-81f7-20e8cb5a4d9d",
   "metadata": {},
   "outputs": [
    {
     "name": "stdout",
     "output_type": "stream",
     "text": [
      "55\n"
     ]
    }
   ],
   "source": [
    "## using for loop \n",
    "t = range(0,11)\n",
    "\n",
    "sum = 0 \n",
    "for i in t:\n",
    "    sum = sum + i \n",
    "    \n",
    "print(sum)"
   ]
  },
  {
   "cell_type": "code",
   "execution_count": 2,
   "id": "0b87d2cd-fa6c-40e5-8385-0c90bf5f752f",
   "metadata": {},
   "outputs": [],
   "source": [
    "## using while loop "
   ]
  },
  {
   "cell_type": "code",
   "execution_count": 3,
   "id": "78526419-97c8-480b-b682-93d756de4d3f",
   "metadata": {},
   "outputs": [
    {
     "name": "stdout",
     "output_type": "stream",
     "text": [
      "55\n"
     ]
    }
   ],
   "source": [
    "n = 10 \n",
    "sum = 0 \n",
    "i=0\n",
    "while i<=n:\n",
    "    sum =  sum + i\n",
    "    i=i+1\n",
    "    \n",
    "print(sum)\n",
    "    "
   ]
  },
  {
   "cell_type": "code",
   "execution_count": 12,
   "id": "b1696300-bead-4899-a96a-c846bce9bbac",
   "metadata": {},
   "outputs": [],
   "source": [
    "## product of natural numbers using for lop"
   ]
  },
  {
   "cell_type": "code",
   "execution_count": 6,
   "id": "65f942a8-8849-42d8-88e8-6cded025f79f",
   "metadata": {},
   "outputs": [
    {
     "name": "stdout",
     "output_type": "stream",
     "text": [
      "3628800\n"
     ]
    }
   ],
   "source": [
    "## using for loop \n",
    "p = 1 \n",
    "t = range ( 1, 11)\n",
    "for i  in t :\n",
    "    p = p*i\n",
    "    \n",
    "print(p)"
   ]
  },
  {
   "cell_type": "markdown",
   "id": "f9ec2146-cba5-41b7-bc7f-9d591965e909",
   "metadata": {},
   "source": [
    "using while loop"
   ]
  },
  {
   "cell_type": "code",
   "execution_count": 13,
   "id": "2ec8191b-9d31-4481-8324-803f547600f6",
   "metadata": {},
   "outputs": [
    {
     "name": "stdout",
     "output_type": "stream",
     "text": [
      "3628800\n"
     ]
    }
   ],
   "source": [
    "n = 10\n",
    "p = 1\n",
    "i=1\n",
    "while i<=n:\n",
    "    p = p*i\n",
    "    i=i+1\n",
    "    \n",
    "print(p)"
   ]
  },
  {
   "cell_type": "code",
   "execution_count": 7,
   "id": "92f16b99-17f5-45cc-b8ae-7eb57727ac35",
   "metadata": {},
   "outputs": [],
   "source": [
    "## q3"
   ]
  },
  {
   "cell_type": "code",
   "execution_count": 8,
   "id": "b3b3384f-7f4b-47c1-91c5-323aaead5fce",
   "metadata": {},
   "outputs": [
    {
     "name": "stdin",
     "output_type": "stream",
     "text": [
      " enter user unit  310\n"
     ]
    },
    {
     "name": "stdout",
     "output_type": "stream",
     "text": [
      "2250\n"
     ]
    }
   ],
   "source": [
    "u = int(input(\" enter user unit \"))\n",
    "e = 0 \n",
    "if u<= 100:\n",
    "    e= 4.5*u   \n",
    "elif u >= 101 and u<= 200 :\n",
    "    e =  450 + 6 * (u -100) \n",
    "elif u >=201 and u <=300 :\n",
    "    e =  450 + 600 + 10 * (u-200) \n",
    "else:\n",
    "    e = 450 +600+1000 + 20*(u-300)\n",
    "    \n",
    "print(e)"
   ]
  },
  {
   "cell_type": "code",
   "execution_count": 9,
   "id": "8f8dfedf-12f1-4d53-8b8f-8929358268d7",
   "metadata": {},
   "outputs": [],
   "source": [
    "## q4"
   ]
  },
  {
   "cell_type": "code",
   "execution_count": 10,
   "id": "fe7261ed-50e8-4274-a03d-6bcf65f85d95",
   "metadata": {},
   "outputs": [
    {
     "name": "stdout",
     "output_type": "stream",
     "text": [
      "[8, 64, 125, 216, 512, 1000, 1728, 2744, 3375, 4096, 5832, 8000, 10648, 13824, 15625, 17576, 21952, 27000, 32768, 39304, 42875, 46656, 54872, 64000, 74088, 85184, 91125, 97336, 110592, 125000, 140608, 157464, 166375, 175616, 195112, 216000, 238328, 262144, 274625, 287496, 314432, 343000, 373248, 405224, 421875, 438976, 474552, 512000, 551368, 592704, 614125, 636056, 681472, 729000, 778688, 830584, 857375, 884736, 941192, 1000000]\n"
     ]
    }
   ],
   "source": [
    "t = range(1,101)\n",
    "o=[]\n",
    "for i in t :\n",
    "    c= i*i*i\n",
    "    if(c%4==0 or c%5==0):\n",
    "    \n",
    "        o.append(c)\n",
    "print(o)"
   ]
  },
  {
   "cell_type": "markdown",
   "id": "c78c9d9d-e882-4fa2-9ca5-39504c640e1c",
   "metadata": {},
   "source": [
    "question 5 :"
   ]
  },
  {
   "cell_type": "code",
   "execution_count": 11,
   "id": "f7442cf3-f86b-4b59-9980-1300839197cd",
   "metadata": {},
   "outputs": [
    {
     "name": "stdout",
     "output_type": "stream",
     "text": [
      "['i', 'a', 'o', 'e', 'o', 'e', 'a', 'a', 'a', 'i', 'e', 'i']\n",
      "12\n"
     ]
    }
   ],
   "source": [
    "s=\" i want to become a data scientist \"\n",
    "w=[]\n",
    "for i in s:\n",
    "    if i== 'a' or i== 'e' or i== 'i' or i== 'u'or i== 'o': \n",
    "        w.append(i)\n",
    "        \n",
    "print(w)\n",
    "print(len(w))"
   ]
  },
  {
   "cell_type": "code",
   "execution_count": null,
   "id": "f68d8a5e-2662-4a6b-b89a-790e436a763d",
   "metadata": {},
   "outputs": [],
   "source": []
  }
 ],
 "metadata": {
  "kernelspec": {
   "display_name": "Python 3 (ipykernel)",
   "language": "python",
   "name": "python3"
  },
  "language_info": {
   "codemirror_mode": {
    "name": "ipython",
    "version": 3
   },
   "file_extension": ".py",
   "mimetype": "text/x-python",
   "name": "python",
   "nbconvert_exporter": "python",
   "pygments_lexer": "ipython3",
   "version": "3.10.8"
  }
 },
 "nbformat": 4,
 "nbformat_minor": 5
}

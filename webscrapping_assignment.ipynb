{
 "cells": [
  {
   "cell_type": "markdown",
   "id": "1ca6872f-3109-4fa7-aac7-dec8da8d71a9",
   "metadata": {},
   "source": [
    "web scrapping :\n",
    "    Web scraping is the process of using bots to extract content and data from a website.\n",
    "    Unlike screen scraping, which only copies pixels displayed onscreen, web scraping extracts underlying HTML code and, with it, data stored in a database. The scraper can then replicate entire website content elsewhere.\n",
    "\n",
    "Web scraping is used in a variety of digital businesses that rely on data harvesting. Legitimate use cases include:\n",
    "\n",
    "Search engine bots crawling a site, analyzing its content and then ranking it.\n",
    "Price comparison sites deploying bots to auto-fetch prices and product descriptions for allied seller websites.\n",
    "Market research companies using scrapers to pull data from forums and social media (e.g., for sentiment analysis).\n",
    "some examples : price scrapping , content scrapping , etc."
   ]
  },
  {
   "cell_type": "markdown",
   "id": "1bbe9a78-ce8c-430d-8888-b130f53e96af",
   "metadata": {},
   "source": [
    " q2 :Requests, BeautifulSoup, Scrapy, and Selenium, are some popular libraries used for web scraping in Python."
   ]
  },
  {
   "cell_type": "markdown",
   "id": "91ed81e5-2f31-42cf-9a2f-293bd755d306",
   "metadata": {},
   "source": [
    " q3 :Beautiful Soup is a Python library that makes it easy to scrape information from web pages. It sits atop an HTML or XML parser and provides Pythonic idioms for iterating, searching, and modifying the parse tree."
   ]
  },
  {
   "cell_type": "markdown",
   "id": "eb2b93bb-4948-4213-b325-ff512405e9eb",
   "metadata": {},
   "source": [
    "q4: Flask is a lightweight framework to build websites. We'll use this to parse our collected data and display it as HTML in a new HTML file. The requests module allows us to send http requests to the website we want to scrape. The first line imports the Flask class and the render_template method from the flask library."
   ]
  },
  {
   "cell_type": "markdown",
   "id": "754036b9-6134-4f0b-94ae-414e5161668f",
   "metadata": {},
   "source": [
    "Q5:1>  AWS BEANSTACK : Why AWS Elastic Beanstalk? Elastic Beanstalk is a service for deploying and scaling web applications and services. Upload your code and Elastic Beanstalk automatically handles the deployment—from capacity provisioning, load balancing, and auto scaling to application health monitoring.\n",
    "2> CODE PIPELINE :AWS CodePipeline is a continuous delivery service that enables you to model, visualize, and automate the steps required to release your software."
   ]
  },
  {
   "cell_type": "code",
   "execution_count": null,
   "id": "43bc598f-f147-47f7-8b6a-157cf369a126",
   "metadata": {},
   "outputs": [],
   "source": []
  }
 ],
 "metadata": {
  "kernelspec": {
   "display_name": "Python 3 (ipykernel)",
   "language": "python",
   "name": "python3"
  },
  "language_info": {
   "codemirror_mode": {
    "name": "ipython",
    "version": 3
   },
   "file_extension": ".py",
   "mimetype": "text/x-python",
   "name": "python",
   "nbconvert_exporter": "python",
   "pygments_lexer": "ipython3",
   "version": "3.10.8"
  }
 },
 "nbformat": 4,
 "nbformat_minor": 5
}

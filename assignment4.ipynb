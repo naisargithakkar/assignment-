{
 "cells": [
  {
   "cell_type": "markdown",
   "id": "9b3828fd-28da-4d0d-91ff-ffa9c4d90b31",
   "metadata": {},
   "source": [
    "Q1. Explain Class and Object with respect to Object-Oriented Programming. Give a suitable example"
   ]
  },
  {
   "cell_type": "markdown",
   "id": "9dcb06c7-38eb-46fe-8d33-31da0f320dfc",
   "metadata": {},
   "source": [
    "An object is any entity that has attributes and behaviors. For example, a parrot is an object. It has\n",
    "\n",
    "attributes - name, age, color, etc.\n",
    "behavior - dancing, singing, etc.\n",
    "Similarly, a class is a blueprint for that object. \n",
    "example :"
   ]
  },
  {
   "cell_type": "code",
   "execution_count": 5,
   "id": "a03f429c-a3f6-4cd9-b8ca-c59b16943563",
   "metadata": {},
   "outputs": [],
   "source": [
    "class test:\n",
    "    def save(self):\n",
    "        print(\"hello\")"
   ]
  },
  {
   "cell_type": "code",
   "execution_count": 6,
   "id": "dab1ed8d-e8ce-434c-9897-984030fbc8d2",
   "metadata": {},
   "outputs": [],
   "source": [
    "w = test()"
   ]
  },
  {
   "cell_type": "code",
   "execution_count": 7,
   "id": "2e1d7b92-77a4-4dba-b9b0-03bc0788c53c",
   "metadata": {},
   "outputs": [
    {
     "name": "stdout",
     "output_type": "stream",
     "text": [
      "hello\n"
     ]
    }
   ],
   "source": [
    "w.save()"
   ]
  },
  {
   "cell_type": "markdown",
   "id": "b3e94ae4-f930-4f54-af90-f92728fbc522",
   "metadata": {},
   "source": [
    "here , test is a class name and w is a object of test class."
   ]
  },
  {
   "cell_type": "markdown",
   "id": "0711c037-bd7e-46ad-8efc-c7621ad53efd",
   "metadata": {},
   "source": [
    "Q2. Name the four pillars of OOPs"
   ]
  },
  {
   "cell_type": "markdown",
   "id": "49936d56-cc09-43be-8ed5-80942e6ba760",
   "metadata": {},
   "source": [
    "1> inheritance \n",
    "2> encaptulation \n",
    "3> Abstraction\n",
    "4> Polymorphism"
   ]
  },
  {
   "cell_type": "markdown",
   "id": "d30e7a57-34be-4b68-bc91-9752c71190f6",
   "metadata": {},
   "source": [
    "q3 : Explain why the __init__() function is used. Give a suitable example"
   ]
  },
  {
   "cell_type": "markdown",
   "id": "d479a6ce-ef6e-4092-9448-1653b72e7ca1",
   "metadata": {},
   "source": [
    " The constructor i.e. the ‘__init__’ function of a class is invoked when we create an object variable or an instance of the class.\n",
    "\n",
    "The variables defined within __init__() are called instance variables or objects.\n",
    "foe example :"
   ]
  },
  {
   "cell_type": "code",
   "execution_count": 12,
   "id": "a9ab362a-978e-422a-9e8f-00977c25ef0b",
   "metadata": {},
   "outputs": [],
   "source": [
    "class  details  :\n",
    "    def __init__(self , name , student_id ):\n",
    "        self.name=name\n",
    "        self.student_id = student_id \n",
    "    \n",
    "    def show(self):\n",
    "        print(self.name , self.student_id)\n",
    "        \n",
    "    "
   ]
  },
  {
   "cell_type": "code",
   "execution_count": 16,
   "id": "f619125a-eb84-443b-a4db-a6c5c5731cdb",
   "metadata": {},
   "outputs": [],
   "source": [
    "q = details"
   ]
  },
  {
   "cell_type": "code",
   "execution_count": 17,
   "id": "b0f30bdd-3cff-4027-ad5a-8980b40b23f4",
   "metadata": {},
   "outputs": [],
   "source": [
    "w = name( \" naisargi\" , 12)"
   ]
  },
  {
   "cell_type": "code",
   "execution_count": 18,
   "id": "bb3a93c3-0f13-4c51-ad0d-a4e78aa2efc6",
   "metadata": {},
   "outputs": [
    {
     "name": "stdout",
     "output_type": "stream",
     "text": [
      " naisargi 12\n"
     ]
    }
   ],
   "source": [
    "w.show()"
   ]
  },
  {
   "cell_type": "markdown",
   "id": "d43f2133-e944-4b15-99a5-b794705760b7",
   "metadata": {},
   "source": [
    "  q4 :Why self is used in OOPs"
   ]
  },
  {
   "cell_type": "markdown",
   "id": "72efde96-afac-4746-ad86-ce852068b5a6",
   "metadata": {},
   "source": [
    "self represents the instance of the class. By using the “self”  we can access the attributes and methods of the class in python. It binds the attributes with the given arguments.\n",
    "\n",
    "The reason you need to use self. is because Python does not use the @ syntax to refer to instance attributes. Python decided to do methods in a way that makes the instance to which the method belongs be passed automatically, but not received automatically: the first parameter of methods is the instance the method is called on."
   ]
  },
  {
   "cell_type": "markdown",
   "id": "4a160e4e-6567-43e8-8dc5-be0528ceabf0",
   "metadata": {},
   "source": [
    " q5 : What is inheritance? Give an example for each type of inheritance."
   ]
  },
  {
   "cell_type": "markdown",
   "id": "b68078ae-6c89-4bce-b5c7-b305312ccb6b",
   "metadata": {},
   "source": [
    "Inheritance is defined as the mechanism of inheriting the properties of the base class to the child class"
   ]
  },
  {
   "cell_type": "code",
   "execution_count": 2,
   "id": "17bd7eb7-2872-47e8-888e-5459a0dac0e1",
   "metadata": {},
   "outputs": [],
   "source": [
    "# Single Inheritance: \n",
    "class parent:\n",
    "    def find(self):\n",
    "        print(\"Thanks\")\n",
    "\n",
    "        \n",
    "class child(parent):\n",
    "    def search(self):\n",
    "        print(\"welcome\")"
   ]
  },
  {
   "cell_type": "code",
   "execution_count": 3,
   "id": "4859ef10-73b3-4b64-9ffe-a7149bea5949",
   "metadata": {},
   "outputs": [],
   "source": [
    "obj = child()\n"
   ]
  },
  {
   "cell_type": "code",
   "execution_count": 4,
   "id": "edb75cf6-14d9-490c-9338-bc97663e54a4",
   "metadata": {},
   "outputs": [
    {
     "name": "stdout",
     "output_type": "stream",
     "text": [
      "welcome\n"
     ]
    }
   ],
   "source": [
    "obj.search()"
   ]
  },
  {
   "cell_type": "markdown",
   "id": "70a6f4f9-acec-4445-8ea7-9057994105ba",
   "metadata": {},
   "source": [
    "as shown in above example that child class can access the propertites of parent class"
   ]
  },
  {
   "cell_type": "code",
   "execution_count": 8,
   "id": "ff7d3bb5-a0a9-41f4-ad70-a6a29d17af34",
   "metadata": {},
   "outputs": [],
   "source": [
    "#Multiple Inheritance:\n",
    "class mother :\n",
    "    def name(self):\n",
    "        print(\" Mother \")\n",
    "        \n",
    "class father :\n",
    "    def name2(self):\n",
    "        print(\" father\" )\n",
    "class son(mother,father):\n",
    "    def name3(self):\n",
    "        print(\" son\")\n",
    "        "
   ]
  },
  {
   "cell_type": "code",
   "execution_count": 9,
   "id": "a6943745-9a82-44b1-a924-f37f55948b70",
   "metadata": {},
   "outputs": [],
   "source": [
    "p = son()"
   ]
  },
  {
   "cell_type": "code",
   "execution_count": 10,
   "id": "95c0d0b6-ea83-44e9-b00e-8a4287d380d7",
   "metadata": {},
   "outputs": [
    {
     "name": "stdout",
     "output_type": "stream",
     "text": [
      " Mother \n"
     ]
    }
   ],
   "source": [
    "p.name()"
   ]
  },
  {
   "cell_type": "code",
   "execution_count": 11,
   "id": "205e4ce2-a88a-4e9d-862f-1b2cc068d0ea",
   "metadata": {},
   "outputs": [
    {
     "name": "stdout",
     "output_type": "stream",
     "text": [
      " father\n"
     ]
    }
   ],
   "source": [
    "p.name2()"
   ]
  },
  {
   "cell_type": "markdown",
   "id": "b500c36e-494d-4a55-bc63-38bb8c810e35",
   "metadata": {},
   "source": [
    "so, here there are 2 base class mother and father and from that derived class is son . it is called multiple inheritance that can access the propertity of multiple class."
   ]
  },
  {
   "cell_type": "code",
   "execution_count": 21,
   "id": "760ba9e3-27ee-476b-b113-051ead0902b0",
   "metadata": {},
   "outputs": [],
   "source": [
    "#Multilevel Inheritance :\n",
    "class grand_parent:\n",
    "    def show(self):\n",
    "        print(\" hello\")\n",
    "class parent(grand_parent):\n",
    "    def data(self):\n",
    "        print(\" hi\")\n",
    "class child(parent):\n",
    "    def ans(self):\n",
    "        print(\" how are you\")\n",
    "    "
   ]
  },
  {
   "cell_type": "code",
   "execution_count": 22,
   "id": "9871d7b0-845f-4c04-ae2e-a6277d7c2aa6",
   "metadata": {},
   "outputs": [],
   "source": [
    "c = child()"
   ]
  },
  {
   "cell_type": "code",
   "execution_count": 23,
   "id": "fcb162eb-c53b-4b8d-ad72-ed6978af611d",
   "metadata": {},
   "outputs": [
    {
     "name": "stdout",
     "output_type": "stream",
     "text": [
      " hello\n"
     ]
    }
   ],
   "source": [
    "c.show()"
   ]
  },
  {
   "cell_type": "code",
   "execution_count": 24,
   "id": "9aad0faf-a5b9-490f-a24d-ed9ce80b6b80",
   "metadata": {},
   "outputs": [
    {
     "name": "stdout",
     "output_type": "stream",
     "text": [
      " hi\n"
     ]
    }
   ],
   "source": [
    "c.data()"
   ]
  },
  {
   "cell_type": "markdown",
   "id": "3aeb5a71-f45d-47ea-83ac-ea4fc7bab14b",
   "metadata": {},
   "source": [
    "so,In multilevel inheritance, features of the base class and the derived class are further inherited into the new derived class. This is similar to a relationship representing a child and a grandparent."
   ]
  },
  {
   "cell_type": "code",
   "execution_count": 25,
   "id": "5ac5e00f-1dec-4ab9-9f1f-be3489ce1cb7",
   "metadata": {},
   "outputs": [],
   "source": [
    "#Hierarchical Inheritance: \n",
    "class parent:\n",
    "    def fun1(self):\n",
    "        print(\" this is a func1\")\n",
    "class child1(parent):\n",
    "    def fun2(self):\n",
    "        print(\"this is a function 2\")\n",
    "class child2(parent):\n",
    "    def fun3(self):\n",
    "        print(\" this is a function 3\")"
   ]
  },
  {
   "cell_type": "code",
   "execution_count": 26,
   "id": "b1847daa-22a5-449b-9e5e-7457f5467d53",
   "metadata": {},
   "outputs": [],
   "source": [
    "c= child1()"
   ]
  },
  {
   "cell_type": "code",
   "execution_count": 27,
   "id": "15a9cf12-40c2-4e6b-9dc1-e880ffc7baf7",
   "metadata": {},
   "outputs": [
    {
     "name": "stdout",
     "output_type": "stream",
     "text": [
      " this is a func1\n"
     ]
    }
   ],
   "source": [
    "c.fun1()"
   ]
  },
  {
   "cell_type": "code",
   "execution_count": 28,
   "id": "a58f7325-6d5d-451a-b41e-42eea234a8fa",
   "metadata": {},
   "outputs": [],
   "source": [
    "c1=child2()"
   ]
  },
  {
   "cell_type": "code",
   "execution_count": 29,
   "id": "b4c18a4c-9e5d-4c2e-9e81-5ed108654985",
   "metadata": {},
   "outputs": [
    {
     "name": "stdout",
     "output_type": "stream",
     "text": [
      " this is a func1\n"
     ]
    }
   ],
   "source": [
    "c1.fun1()"
   ]
  },
  {
   "cell_type": "markdown",
   "id": "7295b641-3eff-4f44-8227-471bb8c353a5",
   "metadata": {},
   "source": [
    "so,When more than one derived class are created from a single base this type of inheritance is called hierarchical inheritance. In this program, we have a parent (base) class and two child (derived) classes."
   ]
  },
  {
   "cell_type": "code",
   "execution_count": 32,
   "id": "14b4e46c-3994-4d0d-a4db-b6429b83e68d",
   "metadata": {},
   "outputs": [],
   "source": [
    " # Hybrid Inheritance:\n",
    "class school:\n",
    "    def func1(self):\n",
    "        print(\" this is a school\")\n",
    "        \n",
    "class teacher(school):\n",
    "    def func2(self):\n",
    "        print(\" this is teacher class and single derived class \")\n",
    "        \n",
    "class student(teacher, school):\n",
    "    def func3(self):\n",
    "        print(\" this is a multiple derived classs\")"
   ]
  },
  {
   "cell_type": "code",
   "execution_count": 33,
   "id": "df0d3338-9069-4b10-869b-1e1b712cc170",
   "metadata": {},
   "outputs": [],
   "source": [
    " q =student()"
   ]
  },
  {
   "cell_type": "code",
   "execution_count": 34,
   "id": "dd8f8324-c467-4962-a8d0-21bf86151094",
   "metadata": {},
   "outputs": [
    {
     "name": "stdout",
     "output_type": "stream",
     "text": [
      " this is a school\n"
     ]
    }
   ],
   "source": [
    "q.func1()"
   ]
  },
  {
   "cell_type": "code",
   "execution_count": 35,
   "id": "ee2eeb94-86f2-426d-a1c8-f9cbae8d85b4",
   "metadata": {},
   "outputs": [
    {
     "name": "stdout",
     "output_type": "stream",
     "text": [
      " this is teacher class and single derived class \n"
     ]
    }
   ],
   "source": [
    "q.func2()"
   ]
  },
  {
   "cell_type": "code",
   "execution_count": 36,
   "id": "81e0a6af-b63f-4da5-9b9f-d623ec5f3dfb",
   "metadata": {},
   "outputs": [],
   "source": [
    "w=teacher()"
   ]
  },
  {
   "cell_type": "code",
   "execution_count": 37,
   "id": "e3022fcd-d145-48c9-a8a8-235dc399ad06",
   "metadata": {},
   "outputs": [
    {
     "name": "stdout",
     "output_type": "stream",
     "text": [
      " this is a school\n"
     ]
    }
   ],
   "source": [
    "w.func1()"
   ]
  },
  {
   "cell_type": "markdown",
   "id": "c2f8d4d4-c1be-4d70-a51d-82037fed6611",
   "metadata": {},
   "source": [
    "so,Inheritance consisting of multiple types of inheritance is called hybrid inheritance."
   ]
  }
 ],
 "metadata": {
  "kernelspec": {
   "display_name": "Python 3 (ipykernel)",
   "language": "python",
   "name": "python3"
  },
  "language_info": {
   "codemirror_mode": {
    "name": "ipython",
    "version": 3
   },
   "file_extension": ".py",
   "mimetype": "text/x-python",
   "name": "python",
   "nbconvert_exporter": "python",
   "pygments_lexer": "ipython3",
   "version": "3.10.8"
  }
 },
 "nbformat": 4,
 "nbformat_minor": 5
}

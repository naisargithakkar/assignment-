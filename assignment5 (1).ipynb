{
 "cells": [
  {
   "cell_type": "markdown",
   "id": "dae6013a-892a-4e3c-9dfb-18e917e96e87",
   "metadata": {},
   "source": [
    "Q1 : It was initially designed by Guido van Rossum in 1991 and developed by Python Software Foundation."
   ]
  },
  {
   "cell_type": "markdown",
   "id": "ce0d88c4-2552-4e4f-b09f-99577f7a3913",
   "metadata": {},
   "source": [
    "q2 : Python emphasizes support for common programming methodologies such as data structure design and object-oriented programming, and encourages programmers to write readable (and thus maintainable) code by providing an elegant but not overly cryptic notation."
   ]
  },
  {
   "cell_type": "markdown",
   "id": "07cd326c-913e-4665-bfd1-8633eceec1d0",
   "metadata": {},
   "source": [
    "Q3 : yes"
   ]
  },
  {
   "cell_type": "markdown",
   "id": "51664628-2eb2-4c54-8171-4b4ea2636df0",
   "metadata": {},
   "source": [
    "Q4: .py"
   ]
  },
  {
   "cell_type": "markdown",
   "id": "95247a9e-c39b-4c62-a577-906238f6808c",
   "metadata": {},
   "source": [
    "Q5 :it is mentioned that python language is interpreted. But that is half correct the python program is first compiled and then interpreted. The compilation part is hidden from the programmer thus, many programmers believe that it is an interpreted language. The compilation part is done first when we execute our code and this will generate byte code and internally this byte code gets converted by the python virtual machine(p.v.m) according to the underlying platform(machine+operating system)."
   ]
  },
  {
   "cell_type": "markdown",
   "id": "e00489ab-2748-4389-8905-a0c5e84a429b",
   "metadata": {},
   "source": [
    "  Q6 : a module, a function body, and a class definition "
   ]
  },
  {
   "cell_type": "markdown",
   "id": "4f1000a4-314f-4645-89ca-2146815b15e2",
   "metadata": {},
   "source": [
    "Q7: #"
   ]
  },
  {
   "cell_type": "markdown",
   "id": "072e0d18-1503-467d-9f81-75842562884e",
   "metadata": {},
   "source": [
    " Q8 : sys.version"
   ]
  },
  {
   "cell_type": "markdown",
   "id": "e2246d9e-71de-4627-8336-9cf8f11a2e49",
   "metadata": {},
   "source": [
    "Q9 : lambda"
   ]
  },
  {
   "cell_type": "markdown",
   "id": "fba7503a-6ac8-44fd-8466-b5cf2e634fec",
   "metadata": {},
   "source": [
    "Q10:Python PIP is the package manager for Python packages"
   ]
  },
  {
   "cell_type": "markdown",
   "id": "1e75314d-c7ea-423f-9f43-35a75825404a",
   "metadata": {},
   "source": [
    "Q11: Function\tDescription\n",
    "abs()\tReturns the absolute value of a number\n",
    "all()\tReturns True if all items in an iterable object are true\n",
    "any()\tReturns True if any item in an iterable object is true\n",
    "ascii()\tReturns a readable version of an object. Replaces none-ascii characters with escape character\n",
    "bin()\tReturns the binary version of a number"
   ]
  },
  {
   "cell_type": "markdown",
   "id": "ef0ee56b-3fc7-4054-bb4c-219a18dcbe89",
   "metadata": {},
   "source": [
    "Q12: 79"
   ]
  },
  {
   "cell_type": "markdown",
   "id": "5fd513cd-6b5f-4b24-b13d-b6930ece3b96",
   "metadata": {},
   "source": [
    "Q13 : Object-Oriented and Procedural  Programming language\n",
    "Portable and Interactive\n",
    "Ideal for prototypes – provide more functionality with less coding\n",
    "User-friendly data structures \n",
    "High-level language \n",
    "Dynamically typed language(No need to mention data type based on the value assigned, it takes data type) "
   ]
  },
  {
   "cell_type": "markdown",
   "id": "8530a98c-2cdc-4949-adb8-7f3707380fdc",
   "metadata": {},
   "source": [
    "Q14:\n",
    "    Memory allocation can be defined as allocating a block of space in the computer memory to a program.In Python memory allocation and deallocation method is automatic as the Python developers created a garbage collector for Python so that the user does not have to do manual garbage collection.\n",
    "\n"
   ]
  },
  {
   "cell_type": "markdown",
   "id": "b174a9e9-16ad-49cd-a8db-ccfc0cd55d4e",
   "metadata": {},
   "source": [
    "Q16: Yes , Indentation is a very important concept of Python because without properly indenting the Python code, you will end up seeing IndentationError and the code will not get compiled.\n",
    "\n"
   ]
  },
  {
   "cell_type": "markdown",
   "id": "77077719-d0f9-4a5e-b46f-74ab8315400e",
   "metadata": {},
   "source": [
    "Q15:The first step is to locate the directory in which your target Python executable lives. The path to the directory is what you’ll be adding to the PATH environment variable.\n",
    "\n",
    "To find the Python executable, you’ll need to look for a file called python.exe. The Python executable could be in a directory in C:\\Python\\ or in your AppData\\ folder, for instance. If the executable were in AppData\\ .Once you’ve found the executable, make sure it works by double-clicking it and verifying that it starts up a Python REPL in a new window.You may also encounter Python executables that are installed within the folder for a different program. This is due to the fact that many applications bundle their own version of Python within them. These bundled Python installations would also be unsuitable.\n",
    "\n",
    "Once you’ve located your Python executable, open the Start menu and search for the Edit the system environment variables entry, which opens up a System Properties window. In the Advanced tab, click on the button Environment Variables. There you’ll see User and System variables, which you’ll be able to edit.In the section entitled User Variables, double-click on the entry that says Path. Another window will pop up showing a list of paths. Click the New button and paste the path to your Python executable there. Once that’s inserted, select your newly added path and click the Move Up button until it’s at the top.\n",
    "\n",
    "That’s it! You may need to reboot your computer for the changes to take effect, but you should now be able to call python from the command line."
   ]
  },
  {
   "cell_type": "code",
   "execution_count": null,
   "id": "6606b1a7-f332-4a6e-beaa-ecdde07b2ca1",
   "metadata": {},
   "outputs": [],
   "source": []
  }
 ],
 "metadata": {
  "kernelspec": {
   "display_name": "Python 3 (ipykernel)",
   "language": "python",
   "name": "python3"
  },
  "language_info": {
   "codemirror_mode": {
    "name": "ipython",
    "version": 3
   },
   "file_extension": ".py",
   "mimetype": "text/x-python",
   "name": "python",
   "nbconvert_exporter": "python",
   "pygments_lexer": "ipython3",
   "version": "3.10.8"
  }
 },
 "nbformat": 4,
 "nbformat_minor": 5
}

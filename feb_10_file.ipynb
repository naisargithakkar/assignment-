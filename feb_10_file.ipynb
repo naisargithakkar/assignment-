{
 "cells": [
  {
   "cell_type": "markdown",
   "id": "b4ac1ff6-3ec9-49e9-8de3-70c59ab6a790",
   "metadata": {},
   "source": [
    "Q1: Which function is used to open a file? What are the different modes of opening a file? Explain each mode \n",
    "of file opening."
   ]
  },
  {
   "cell_type": "markdown",
   "id": "bd6ea950-5c2a-4338-9078-e7d113587f8e",
   "metadata": {},
   "source": [
    "open(file,mode) function is used to open a file \n",
    "r\tOpen a file for reading. (default)\n",
    "w\tOpen a file for writing. Creates a new file if it does not exist or truncates the file if it exists.\n",
    "x\tOpen a file for exclusive creation. If the file already exists, the operation fails.\n",
    "a\tOpen a file for appending at the end of the file without truncating it. Creates a new file if it does not exist.\n",
    "t\tOpen in text mode. (default)\n",
    "b\tOpen in binary mode.\n",
    "+\tOpen a file for updating (reading and writing)\n"
   ]
  },
  {
   "cell_type": "markdown",
   "id": "f940c136-8d28-4f7b-8522-7c395f1d0fbc",
   "metadata": {},
   "source": [
    " q2 : Why close() function is used? Why is it important to close a file?"
   ]
  },
  {
   "cell_type": "markdown",
   "id": "576940c0-98a0-4a98-90ce-d60c073b3a00",
   "metadata": {},
   "source": [
    "The close() method closes an open file.\n",
    "\n",
    "You should always close your files, in some cases, due to buffering, changes made to a file may not show until you close the file."
   ]
  },
  {
   "cell_type": "markdown",
   "id": "c72f2e7d-38fd-46d1-94da-899dcb9185fb",
   "metadata": {},
   "source": [
    "Q3. Write a python program to create a text file. Write ‘I want to become a Data Scientist’ in that file. Then \n",
    "close the file. Open this file and read the content of the file. "
   ]
  },
  {
   "cell_type": "code",
   "execution_count": 5,
   "id": "71450a31-85d8-4b58-91da-25b0afda292f",
   "metadata": {},
   "outputs": [],
   "source": [
    "f=open(\"data.txt\",'w')\n",
    "f.write(\"I want to become a datascientist\")\n",
    "f.close()\n",
    "\n",
    "\n"
   ]
  },
  {
   "cell_type": "markdown",
   "id": "a81e9f79-d396-48a6-a959-3f04b988d349",
   "metadata": {},
   "source": [
    "ans = 1. read()\n",
    "The read method reads the entire contents of a file and returns it as a string."
   ]
  },
  {
   "cell_type": "code",
   "execution_count": 12,
   "id": "3fa68803-07e4-4ba8-b991-07a373c34100",
   "metadata": {},
   "outputs": [
    {
     "data": {
      "text/plain": [
       "'I want to become a datascientist'"
      ]
     },
     "execution_count": 12,
     "metadata": {},
     "output_type": "execute_result"
    }
   ],
   "source": [
    "#example :\n",
    "f=open(\"data.txt\",'r')\n",
    "f.read()"
   ]
  },
  {
   "cell_type": "markdown",
   "id": "a638f7a1-c08a-425a-9c04-9d94a85ed73e",
   "metadata": {},
   "source": [
    "2.readline()\n",
    "The readline method reads a single line from a file and returns it as a string. This means that if you use readline, you can read the contents of a file line by line, which can be useful for processing large files that do not fit in memory."
   ]
  },
  {
   "cell_type": "code",
   "execution_count": 17,
   "id": "4713be9a-3231-4c18-a602-788f59ee8eea",
   "metadata": {},
   "outputs": [],
   "source": [
    "#example:\n",
    "f.close()\n",
    "f=open(\"data.txt\",'w')\n",
    "f.write(\" do hardwork.mange your things\\n\")\n",
    "f.write(\" write as you can\\n\")\n",
    "f.write(\"good night\\n\")\n",
    "f.close()"
   ]
  },
  {
   "cell_type": "code",
   "execution_count": 25,
   "id": "c9347fe3-6fa9-44df-8637-5a907547f155",
   "metadata": {},
   "outputs": [
    {
     "data": {
      "text/plain": [
       "' do hardwork.mange your things\\n'"
      ]
     },
     "execution_count": 25,
     "metadata": {},
     "output_type": "execute_result"
    }
   ],
   "source": [
    "f=open(\"data.txt\",'r')\n",
    "f.readline()\n",
    "\n",
    "    "
   ]
  },
  {
   "cell_type": "markdown",
   "id": "f7d99fd0-3c61-4335-af6c-7bbf646627d3",
   "metadata": {},
   "source": [
    "3.reaslines()\n",
    "Reads all the lines and returns them as a string element in a list. Readlines ( ) is used to read all the lines at a single go and then return them as a string element in a list. This function can be used for small files, as it reads the whole file content to the memory, then splits it into separate lines. Using the strip () function, we can iterate over the list and strip the newline ' \\n ' character using the strip ( ) function."
   ]
  },
  {
   "cell_type": "code",
   "execution_count": 26,
   "id": "ee1d0796-7187-4f6b-93f3-d77c7d7256e7",
   "metadata": {},
   "outputs": [
    {
     "name": "stdout",
     "output_type": "stream",
     "text": [
      " write as you can\n",
      "\n",
      "good night\n",
      "\n"
     ]
    }
   ],
   "source": [
    "#example:\n",
    "s=f.readlines()\n",
    "for i in s:\n",
    "    print(i)"
   ]
  },
  {
   "cell_type": "markdown",
   "id": "5706efdc-42eb-44c1-a096-0bb86528444b",
   "metadata": {},
   "source": [
    "Q5. Explain why with statement is used with open(). What is the advantage of using with statement and \n",
    "open() together?"
   ]
  },
  {
   "cell_type": "markdown",
   "id": "97065d4d-bd6d-4007-b65f-75c90b237526",
   "metadata": {},
   "source": [
    "The with statement works with the open() function to open a file. Unlike open() where you have to close the file with the close() method, the with statement closes the file for you without you telling it to."
   ]
  },
  {
   "cell_type": "markdown",
   "id": "1d1fc551-1105-411e-9058-d16fe9b31197",
   "metadata": {},
   "source": [
    "q6: Explain the write() and writelines() functions. Give a suitable example."
   ]
  },
  {
   "cell_type": "markdown",
   "id": "51bb6c0e-540d-4d28-aa7d-b060a3f8fbe7",
   "metadata": {},
   "source": [
    "1.write() function: The write() function will write the content in the file without adding any extra characters.\n"
   ]
  },
  {
   "cell_type": "code",
   "execution_count": 1,
   "id": "7d5587b4-d3e5-4840-9a16-2a0fcd00314b",
   "metadata": {},
   "outputs": [
    {
     "name": "stdout",
     "output_type": "stream",
     "text": [
      "Data is written into the file.\n"
     ]
    }
   ],
   "source": [
    "#example:\n",
    "file = open(\"Employees.txt\", \"w\")\n",
    "\n",
    "\n",
    "file.write(\"hello\")\n",
    "\t\n",
    "file.close()\n",
    "\n",
    "print(\"Data is written into the file.\")\n"
   ]
  },
  {
   "cell_type": "code",
   "execution_count": null,
   "id": "29a60bc6-2985-43e7-bcb9-c93b43689df0",
   "metadata": {},
   "outputs": [],
   "source": []
  }
 ],
 "metadata": {
  "kernelspec": {
   "display_name": "Python 3 (ipykernel)",
   "language": "python",
   "name": "python3"
  },
  "language_info": {
   "codemirror_mode": {
    "name": "ipython",
    "version": 3
   },
   "file_extension": ".py",
   "mimetype": "text/x-python",
   "name": "python",
   "nbconvert_exporter": "python",
   "pygments_lexer": "ipython3",
   "version": "3.10.8"
  }
 },
 "nbformat": 4,
 "nbformat_minor": 5
}

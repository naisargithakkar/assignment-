{
 "cells": [
  {
   "cell_type": "code",
   "execution_count": 2,
   "id": "1b56cf86-6207-4eb6-8cdb-656b327d7e4a",
   "metadata": {},
   "outputs": [
    {
     "name": "stdout",
     "output_type": "stream",
     "text": [
      "[]\n"
     ]
    }
   ],
   "source": [
    "#q1\n",
    "# Create an empty list\n",
    "my_list = []\n",
    "\n",
    "# Print the list (it will be empty)\n",
    "print(my_list)\n"
   ]
  },
  {
   "cell_type": "code",
   "execution_count": 3,
   "id": "1c9daa3b-d874-464b-be91-be8a96b8921c",
   "metadata": {},
   "outputs": [
    {
     "name": "stdout",
     "output_type": "stream",
     "text": [
      "['apple']\n"
     ]
    }
   ],
   "source": [
    "#q2:\n",
    "# Create an empty list\n",
    "my_list = []\n",
    "\n",
    "# Add an element to the end of the list\n",
    "my_list.append(\"apple\")\n",
    "\n",
    "# Print the updated list\n",
    "print(my_list)\n"
   ]
  },
  {
   "cell_type": "code",
   "execution_count": 4,
   "id": "29e17209-dcc3-482a-b710-ebaf9f8762eb",
   "metadata": {},
   "outputs": [
    {
     "data": {
      "text/plain": [
       "'apple'"
      ]
     },
     "execution_count": 4,
     "metadata": {},
     "output_type": "execute_result"
    }
   ],
   "source": [
    "#q3:\n",
    "my_list[-1]"
   ]
  },
  {
   "cell_type": "code",
   "execution_count": 7,
   "id": "e35b78a9-790e-4b91-9a37-246d09b40d28",
   "metadata": {},
   "outputs": [],
   "source": [
    "#q4:\n",
    "my_list.reverse()"
   ]
  },
  {
   "cell_type": "code",
   "execution_count": 6,
   "id": "90211a1d-14d3-4655-af37-cdf045bb0500",
   "metadata": {},
   "outputs": [
    {
     "data": {
      "text/plain": [
       "['apple']"
      ]
     },
     "execution_count": 6,
     "metadata": {},
     "output_type": "execute_result"
    }
   ],
   "source": [
    "my_list"
   ]
  },
  {
   "cell_type": "code",
   "execution_count": 8,
   "id": "41be81b2-17cc-4131-a40e-1fbc5ecb7f05",
   "metadata": {},
   "outputs": [
    {
     "name": "stdout",
     "output_type": "stream",
     "text": [
      "['apple', 'banana', 'cherry', 'date']\n"
     ]
    }
   ],
   "source": [
    "#q5:\n",
    "# Assuming the list is already created with elements\n",
    "my_list = ['apple', 'banana', 'cherry', 'date']\n",
    "\n",
    "# Sort the list in alphabetical order\n",
    "my_list.sort()\n",
    "\n",
    "# Print the sorted list\n",
    "print(my_list)\n"
   ]
  },
  {
   "cell_type": "code",
   "execution_count": 9,
   "id": "5fd33b30-cafb-41cb-b3b0-d224aa0b609d",
   "metadata": {},
   "outputs": [
    {
     "name": "stdout",
     "output_type": "stream",
     "text": [
      "My second favorite movie is: The Dark Knight\n"
     ]
    }
   ],
   "source": [
    "#q6:\n",
    "# Create a list of my top three favorite movies\n",
    "favorite_movies = [\"Inception\", \"The Dark Knight\", \"Interstellar\"]\n",
    "\n",
    "# Print the second movie title\n",
    "print(f\"My second favorite movie is: {favorite_movies[1]}\")\n"
   ]
  },
  {
   "cell_type": "code",
   "execution_count": 10,
   "id": "4b0548bf-a1f3-4961-9e78-44caaa384747",
   "metadata": {},
   "outputs": [
    {
     "name": "stdout",
     "output_type": "stream",
     "text": [
      "My favorite animals are: ['Dog', 'Cat', 'Elephant', 'Penguin']\n"
     ]
    }
   ],
   "source": [
    "#q7:\n",
    "# Create a list of my favorite animals\n",
    "favorite_animals = [\"Dog\", \"Cat\", \"Elephant\"]\n",
    "\n",
    "# Add a new animal to the list\n",
    "favorite_animals.append(\"Penguin\")\n",
    "\n",
    "# Print the updated list\n",
    "print(f\"My favorite animals are: {favorite_animals}\")\n"
   ]
  },
  {
   "cell_type": "code",
   "execution_count": 11,
   "id": "acb8b1e6-ef1c-4187-979e-3a74d7f4ef02",
   "metadata": {},
   "outputs": [
    {
     "name": "stdout",
     "output_type": "stream",
     "text": [
      "The position of 'Tokyo' in the list is: 2\n"
     ]
    }
   ],
   "source": [
    "#q8:\n",
    "# Create a list of my favorite cities\n",
    "favorite_cities = [\"New York\", \"Paris\", \"Tokyo\", \"London\", \"Sydney\"]\n",
    "\n",
    "# Find the position of the specific city \"Tokyo\" using the index() method\n",
    "city_position = favorite_cities.index(\"Tokyo\")\n",
    "\n",
    "# Print the position of \"Tokyo\" in the list\n",
    "print(f\"The position of 'Tokyo' in the list is: {city_position}\")\n"
   ]
  },
  {
   "cell_type": "code",
   "execution_count": null,
   "id": "6aeec491-1b4b-4f8a-860d-7ab17737640b",
   "metadata": {},
   "outputs": [],
   "source": []
  }
 ],
 "metadata": {
  "kernelspec": {
   "display_name": "Python 3 (ipykernel)",
   "language": "python",
   "name": "python3"
  },
  "language_info": {
   "codemirror_mode": {
    "name": "ipython",
    "version": 3
   },
   "file_extension": ".py",
   "mimetype": "text/x-python",
   "name": "python",
   "nbconvert_exporter": "python",
   "pygments_lexer": "ipython3",
   "version": "3.10.8"
  }
 },
 "nbformat": 4,
 "nbformat_minor": 5
}

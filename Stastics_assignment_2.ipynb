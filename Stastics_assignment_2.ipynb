{
 "cells": [
  {
   "cell_type": "markdown",
   "id": "399698b4-a018-4c09-8cf8-cce731bc3662",
   "metadata": {},
   "source": [
    "Q1:\n",
    "1.Mode\n",
    "2.Median\n",
    "3.Mean"
   ]
  },
  {
   "cell_type": "markdown",
   "id": "87b0d562-81c2-4471-8395-4f2745e2c5d4",
   "metadata": {},
   "source": [
    "Q2: Measures of central tendency help you find the middle, or the average, of a dataset. The 3 most common measures of central tendency are the mode, median, and mean.\n",
    "\n",
    "Mode: the most frequent value.\n",
    "Median: the middle number in an ordered dataset.\n",
    "Mean: the sum of all values divided by the total number of values.\n",
    "In addition to central tendency, the variability and distribution of your dataset is important to understand when performing descriptive statistics."
   ]
  },
  {
   "cell_type": "code",
   "execution_count": 2,
   "id": "d1736bb8-bedf-45cc-82c5-b764bc7bb78e",
   "metadata": {},
   "outputs": [],
   "source": [
    "#Q3:\n",
    "L=[178,177,176,177,178.2,178,175,179,180,175,178.9,176.2,177,172.5,178,176.5]"
   ]
  },
  {
   "cell_type": "code",
   "execution_count": 3,
   "id": "318733de-fc35-4f48-b6ac-79ebd46e8120",
   "metadata": {},
   "outputs": [],
   "source": [
    "import numpy as np"
   ]
  },
  {
   "cell_type": "code",
   "execution_count": 5,
   "id": "dbb5aacf-c473-4c55-9fa3-516709b766c0",
   "metadata": {},
   "outputs": [
    {
     "data": {
      "text/plain": [
       "177.01875"
      ]
     },
     "execution_count": 5,
     "metadata": {},
     "output_type": "execute_result"
    }
   ],
   "source": [
    "np.mean(L)"
   ]
  },
  {
   "cell_type": "code",
   "execution_count": 6,
   "id": "337e6df0-bb92-40dd-bd58-f78cec795ad7",
   "metadata": {},
   "outputs": [
    {
     "data": {
      "text/plain": [
       "177.0"
      ]
     },
     "execution_count": 6,
     "metadata": {},
     "output_type": "execute_result"
    }
   ],
   "source": [
    "np.median(L)"
   ]
  },
  {
   "cell_type": "code",
   "execution_count": 11,
   "id": "5c5dca71-19b5-47c0-987d-d4bf91eee9d6",
   "metadata": {},
   "outputs": [],
   "source": [
    "from scipy import stats"
   ]
  },
  {
   "cell_type": "code",
   "execution_count": 12,
   "id": "25e4b00f-427d-4c9b-9e9f-1a7fc9473a85",
   "metadata": {},
   "outputs": [
    {
     "name": "stderr",
     "output_type": "stream",
     "text": [
      "/tmp/ipykernel_78/3345155809.py:1: FutureWarning: Unlike other reduction functions (e.g. `skew`, `kurtosis`), the default behavior of `mode` typically preserves the axis it acts along. In SciPy 1.11.0, this behavior will change: the default value of `keepdims` will become False, the `axis` over which the statistic is taken will be eliminated, and the value None will no longer be accepted. Set `keepdims` to True or False to avoid this warning.\n",
      "  stats.mode(L)\n"
     ]
    },
    {
     "data": {
      "text/plain": [
       "ModeResult(mode=array([177.]), count=array([3]))"
      ]
     },
     "execution_count": 12,
     "metadata": {},
     "output_type": "execute_result"
    }
   ],
   "source": [
    "stats.mode(L)"
   ]
  },
  {
   "cell_type": "code",
   "execution_count": 4,
   "id": "401d576e-558a-41cd-9eb3-8a356341a82e",
   "metadata": {},
   "outputs": [],
   "source": [
    "#q4:\n",
    "e=[178,177,176,177,178.2,178,175,179,180,175,178.9,176.2,177,172.5,178,176.5]"
   ]
  },
  {
   "cell_type": "code",
   "execution_count": 2,
   "id": "1dff5180-7835-4c6c-86d4-1610e3a9d9b6",
   "metadata": {},
   "outputs": [],
   "source": [
    "import numpy as np"
   ]
  },
  {
   "cell_type": "code",
   "execution_count": 3,
   "id": "fb889b0f-18f8-4c57-b0ba-ef61297f933c",
   "metadata": {},
   "outputs": [
    {
     "data": {
      "text/plain": [
       "1.7885814036548633"
      ]
     },
     "execution_count": 3,
     "metadata": {},
     "output_type": "execute_result"
    }
   ],
   "source": [
    "np.std(e)"
   ]
  },
  {
   "cell_type": "markdown",
   "id": "1a7822a4-d797-4c20-a33d-f7e05c866cbc",
   "metadata": {},
   "source": [
    "q5:\n",
    "Dispersion refers to the ‘distribution’ of objects over a large region. The degree to which numerical data are dispersed or squished around an average value is referred to as dispersion in statistics. It is, in a nutshell, the dispersion of data. A vast amount of data will always be widely dispersed or firmly packed.\n",
    "As the name suggests, the measure of dispersion shows the scatterings of the data. It tells the variation of the data from one another and gives a clear idea about the distribution of the data. The measure of dispersion shows the homogeneity or the heterogeneity of the distribution of the observations.\n",
    "    Common examples of measures of statistical dispersion are the variance, standard deviation, and interquartile range. For instance, when the variance of data in a set is large, the data is widely scattered. On the other hand, when the variance is small, the data in the set is clustered.\n",
    "The example is shown below:\n"
   ]
  },
  {
   "cell_type": "code",
   "execution_count": 5,
   "id": "97ace000-88f2-4b6b-a7e0-65166784ae87",
   "metadata": {},
   "outputs": [],
   "source": [
    "import seaborn as sns"
   ]
  },
  {
   "cell_type": "code",
   "execution_count": 6,
   "id": "0b3b39a3-06ad-4b90-9c1d-e7539c06a812",
   "metadata": {},
   "outputs": [
    {
     "data": {
      "text/plain": [
       "<AxesSubplot: ylabel='Count'>"
      ]
     },
     "execution_count": 6,
     "metadata": {},
     "output_type": "execute_result"
    },
    {
     "data": {
      "image/png": "[encoded data removed]",
      "text/plain": [
       "<Figure size 640x480 with 1 Axes>"
      ]
     },
     "metadata": {},
     "output_type": "display_data"
    }
   ],
   "source": [
    "sns.histplot(e,kde= True)"
   ]
  },
  {
   "cell_type": "markdown",
   "id": "5fee8910-4c7b-4c10-b18b-f9f77080b8ab",
   "metadata": {},
   "source": [
    "q6:\n",
    "    A Venn diagram visually represents the differences and similarities between two or more concepts. It helps us visualize the logical relationship between sets and their elements. Typically, Venn diagrams use intersecting and non-intersecting circles (though other closed figures like squares can be used) to denote these relationships."
   ]
  },
  {
   "cell_type": "code",
   "execution_count": 7,
   "id": "97848087-fc19-4414-9baa-afb279c45d96",
   "metadata": {},
   "outputs": [],
   "source": [
    "#q7:\n",
    "A = {2,3,4,5,6,7}\n",
    "B={0,2,6,8,10}"
   ]
  },
  {
   "cell_type": "code",
   "execution_count": 8,
   "id": "155bb373-cd6e-4305-8d65-03b3752e1546",
   "metadata": {},
   "outputs": [
    {
     "name": "stdout",
     "output_type": "stream",
     "text": [
      "{0, 2, 3, 4, 5, 6, 7, 8, 10}\n"
     ]
    }
   ],
   "source": [
    "z = A.union(B)\n",
    "print(z)"
   ]
  },
  {
   "cell_type": "code",
   "execution_count": 9,
   "id": "31f27ac1-d320-4b05-b783-b9bf379612cd",
   "metadata": {},
   "outputs": [
    {
     "name": "stdout",
     "output_type": "stream",
     "text": [
      "{2, 6}\n"
     ]
    }
   ],
   "source": [
    "print(A.intersection(B))"
   ]
  },
  {
   "cell_type": "markdown",
   "id": "46d4fc97-a828-4763-8053-226bea90e050",
   "metadata": {},
   "source": [
    "q8:\n",
    "    Skewness can be defined as a statistical measure that describes the lack of symmetry or asymmetry in the probability distribution of a dataset. It quantifies the degree to which the data deviates from a perfectly symmetrical distribution, such as a normal (bell-shaped) distribution."
   ]
  },
  {
   "cell_type": "markdown",
   "id": "c6904fdc-59ad-48f9-8b7f-35f8f60c1d6d",
   "metadata": {},
   "source": [
    "q9:\n",
    "    A right-skewed histogram has a definite relationship between its mean, median, and mode which can be written as mean > median > mode. "
   ]
  },
  {
   "cell_type": "markdown",
   "id": "88fb3c81-d22a-499e-8d2c-4fb76c9d17ec",
   "metadata": {},
   "source": [
    "q10:\n",
    "    Covariance and correlation are two mathematical concepts used in statistics. Both terms are used to describe how two variables relate to each other. Covariance is a measure of how two variables change together. The terms covariance vs correlation is very similar to each other in probability theory and statistics. Both terms describe the extent to which a random variable or a set of random variables can deviate from the expected value. But what is the difference between covariance and correlation? Let’s understand this by going through each of these terms.\n",
    "    It is calculated as the covariance of the two variables divided by the product of their standard deviations. Covariance can be positive, negative, or zero. A positive covariance means that the two variables tend to increase or decrease together. A negative covariance means that the two variables tend to move in opposite directions.\n",
    "    A zero covariance means that the two variables are not related. Correlation can only be between -1 and 1. A correlation of -1 means that the two variables are perfectly negatively correlated, which means that as one variable increases, the other decreases. A correlation of 1 means that the two variables are perfectly positively correlated, which means that as one variable increases, the other also increases. A correlation of 0 means that the two variables are not related.\n",
    "\n",
    "    "
   ]
  },
  {
   "cell_type": "markdown",
   "id": "8bc21583-05b3-4ed7-9135-355fcf40c15a",
   "metadata": {},
   "source": [
    "q11:\n",
    "    x̄ = ( Σ xi ) / n\n",
    "    \n",
    "    \n",
    "    We have the sample, 15, 20, 72, 43, 21\n",
    "\n",
    "Sum of terms(S) = 15 + 20+ 72 + 43 + 21 = 171\n",
    "\n",
    "Number of terms(n) = 5\n",
    "\n",
    "Using the formula for sample mean, we get\n",
    "\n",
    "x̄ = S/n\n",
    "\n",
    "= 171/5\n",
    "\n",
    "= 34.2"
   ]
  },
  {
   "cell_type": "markdown",
   "id": "fd41fa2c-7e38-4000-b9da-02d9a3d70f9a",
   "metadata": {},
   "source": [
    "q12:\n",
    "    Any normal distribution has a graph that is perfectly symmetric about a vertical line through its peak. Therefore, all measures of central tendency (most commonly, the mean, median, and mode) give the same answer: the \n",
    "x\n",
    "-value of the peak."
   ]
  },
  {
   "cell_type": "markdown",
   "id": "8cd24946-27e2-47c1-a1d9-e2ddc6955d63",
   "metadata": {},
   "source": [
    "q13:\n",
    "    Covariance reveals how two variables change together while correlation determines how closely two variables are related to each other.\n",
    "\n",
    "Both covariance and correlation measure the relationship and the dependency between two variables.\n",
    "Covariance indicates the direction of the linear relationship between variables.\n",
    "Correlation measures both the strength and direction of the linear relationship between two variables.\n",
    "Correlation values are standardized.\n",
    "Covariance values are not standardized."
   ]
  },
  {
   "cell_type": "markdown",
   "id": "e39b48cb-86f9-4694-b850-e00c8aec70f2",
   "metadata": {},
   "source": [
    "q14:\n",
    "    Measures of Central Tendency:\n",
    "\n",
    "Mean: Outliers can pull the mean towards their extreme values. If there are outliers with large values, the mean can be inflated, while outliers with small values can lower the mean.\n",
    "Median: The median is less affected by outliers compared to the mean. It represents the middle value, so outliers have less impact unless they are close to the median and significantly change the order of values.\n",
    "Mode: The mode is the most frequent value. Outliers do not directly affect the mode unless they appear frequently and change the overall distribution of values.\n",
    "Measures of Dispersion:\n",
    "\n",
    "Range: The range is the difference between the maximum and minimum values. Outliers can significantly increase the range if they are far from the other values.\n",
    "Interquartile Range (IQR): The IQR is less affected by outliers compared to the range since it only considers the values within the 25th and 75th percentiles. However, extreme outliers can still impact the IQR.\n",
    "Standard Deviation/Variance: Outliers can increase the standard deviation and variance, as they introduce more variability to the dataset. The squared differences between outliers and the mean can significantly contribute to the variance.\n",
    " \n",
    "\n",
    "In summary, outliers can distort the measures of central tendency (mean, median, mode) and measures of dispersion (range, standard deviation, variance). It is important to be aware of outliers and consider their potential influence when interpreting and analyzing data."
   ]
  },
  {
   "cell_type": "code",
   "execution_count": null,
   "id": "da285715-69bb-4fb8-bbd8-59526365e19a",
   "metadata": {},
   "outputs": [],
   "source": []
  }
 ],
 "metadata": {
  "kernelspec": {
   "display_name": "Python 3 (ipykernel)",
   "language": "python",
   "name": "python3"
  },
  "language_info": {
   "codemirror_mode": {
    "name": "ipython",
    "version": 3
   },
   "file_extension": ".py",
   "mimetype": "text/x-python",
   "name": "python",
   "nbconvert_exporter": "python",
   "pygments_lexer": "ipython3",
   "version": "3.10.8"
  }
 },
 "nbformat": 4,
 "nbformat_minor": 5
}

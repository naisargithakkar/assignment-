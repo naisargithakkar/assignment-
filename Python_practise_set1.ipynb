{
 "cells": [
  {
   "cell_type": "code",
   "execution_count": 3,
   "id": "5f2f7489-8def-4384-97c5-31a2fb9b5037",
   "metadata": {},
   "outputs": [],
   "source": [
    "#q1:\n",
    "def add_numbers(num1,num2):\n",
    "    result = num1 +num2\n",
    "    return result"
   ]
  },
  {
   "cell_type": "code",
   "execution_count": 2,
   "id": "59e76e13-266c-4277-8dc8-d7abea9021ab",
   "metadata": {},
   "outputs": [
    {
     "data": {
      "text/plain": [
       "11"
      ]
     },
     "execution_count": 2,
     "metadata": {},
     "output_type": "execute_result"
    }
   ],
   "source": [
    "add_numbers(5,6)"
   ]
  },
  {
   "cell_type": "code",
   "execution_count": 9,
   "id": "334f4d7d-fcac-4ea5-89b2-5f11769c00d1",
   "metadata": {},
   "outputs": [
    {
     "name": "stdin",
     "output_type": "stream",
     "text": [
      "enter the value 625\n"
     ]
    },
    {
     "name": "stdout",
     "output_type": "stream",
     "text": [
      "25.0\n"
     ]
    }
   ],
   "source": [
    "#q2:\n",
    "import math\n",
    "a=float(input(\"enter the value\"))\n",
    "print(math.sqrt(a))"
   ]
  },
  {
   "cell_type": "code",
   "execution_count": 15,
   "id": "3ec7a62c-2e93-4f81-87ba-bd15529e501c",
   "metadata": {},
   "outputs": [],
   "source": [
    "#Q3:\n",
    "count=0\n",
    "for i in range(1,51):\n",
    "    for j in range(1,51):\n",
    "        \n",
    "        if(i%j==0):\n",
    "            count=count+1\n",
    "            \n",
    "    if(count==2):\n",
    "        print(i)\n",
    "        "
   ]
  },
  {
   "cell_type": "code",
   "execution_count": 22,
   "id": "3d4d3df5-626c-4f02-940c-a86b9e596a2c",
   "metadata": {},
   "outputs": [
    {
     "ename": "IndentationError",
     "evalue": "expected an indented block after function definition on line 2 (138774732.py, line 4)",
     "output_type": "error",
     "traceback": [
      "\u001b[0;36m  Cell \u001b[0;32mIn[22], line 4\u001b[0;36m\u001b[0m\n\u001b[0;31m    c=0\u001b[0m\n\u001b[0m    ^\u001b[0m\n\u001b[0;31mIndentationError\u001b[0m\u001b[0;31m:\u001b[0m expected an indented block after function definition on line 2\n"
     ]
    }
   ],
   "source": [
    "lst=[]\n",
    "def primenumber(x,y):\n",
    "\n",
    "c=0\t\t\t\t \n",
    "for i in range(x,y):#elements range between starting and ending range \n",
    "\tfor j in range(2,i): \n",
    "\tif(i%j==0):\t #checking if number is divisible or not\n",
    "\t\tc=1\t #if number is divisible, then flag variable will become 1\n",
    "\t\tbreak\n",
    "\telse:\n",
    "\t\tc=0\t\n",
    "\tif(c==0): #if flag variable is 0, then element will append in list \n",
    "\tlst.append(i)\n",
    "return lst\n",
    "\n",
    "# Driver program\n",
    "\n",
    "x=0\n",
    "y=50\n",
    "lst = prime(starting_range, ending_range)\n",
    "if len(lst) == 0:\n",
    "    print(\"There are no prime numbers in this range\")\n",
    "else:\n",
    "    print(\"The prime numbers in this range are: \", lst)"
   ]
  },
  {
   "cell_type": "code",
   "execution_count": 41,
   "id": "349438c7-1bbe-4a6c-b053-9cb9afc552ed",
   "metadata": {},
   "outputs": [
    {
     "ename": "UnboundLocalError",
     "evalue": "local variable 'flag' referenced before assignment",
     "output_type": "error",
     "traceback": [
      "\u001b[0;31m---------------------------------------------------------------------------\u001b[0m",
      "\u001b[0;31mUnboundLocalError\u001b[0m                         Traceback (most recent call last)",
      "Cell \u001b[0;32mIn[41], line 19\u001b[0m\n\u001b[1;32m     17\u001b[0m starting_range \u001b[38;5;241m=\u001b[39m \u001b[38;5;241m2\u001b[39m\n\u001b[1;32m     18\u001b[0m ending_range \u001b[38;5;241m=\u001b[39m \u001b[38;5;241m7\u001b[39m\n\u001b[0;32m---> 19\u001b[0m \u001b[43mprime\u001b[49m\u001b[43m(\u001b[49m\u001b[43mstarting_range\u001b[49m\u001b[43m,\u001b[49m\u001b[43m \u001b[49m\u001b[43mending_range\u001b[49m\u001b[43m)\u001b[49m\n",
      "Cell \u001b[0;32mIn[41], line 13\u001b[0m, in \u001b[0;36mprime\u001b[0;34m(starting_range, ending_range)\u001b[0m\n\u001b[1;32m     11\u001b[0m         \u001b[38;5;28;01melse\u001b[39;00m:\n\u001b[1;32m     12\u001b[0m \t        flag\u001b[38;5;241m=\u001b[39m\u001b[38;5;241m0\u001b[39m\t\n\u001b[0;32m---> 13\u001b[0m     \u001b[38;5;28;01mif\u001b[39;00m(\u001b[43mflag\u001b[49m\u001b[38;5;241m==\u001b[39m\u001b[38;5;241m0\u001b[39m): \u001b[38;5;66;03m#if flag variable is 0, then element will append in list \u001b[39;00m\n\u001b[1;32m     14\u001b[0m                 \u001b[38;5;28mprint\u001b[39m(i)\n",
      "\u001b[0;31mUnboundLocalError\u001b[0m: local variable 'flag' referenced before assignment"
     ]
    }
   ],
   "source": [
    "# Python program to print all\n",
    "# prime number in an interval\n",
    "flag=0\n",
    "def prime(starting_range, ending_range):\n",
    "\t\t\n",
    "    for i in range(starting_range, ending_range):#elements range between starting and ending range \n",
    "\t    for j in range(2,i): \n",
    "\t        if(i%j==0):\t #checking if number is divisible or not\n",
    "\t\t        flag=1\t #if number is divisible, then flag variable will become 1\n",
    "\t\t        break\n",
    "\t        else:\n",
    "\t\t        flag=0\t\n",
    "\t    if(flag==0): #if flag variable is 0, then element will append in list \n",
    "\t                print(i)\n",
    "\n",
    "# Driver program\n",
    "starting_range = 2\n",
    "ending_range = 7\n",
    "prime(starting_range, ending_range)\n"
   ]
  },
  {
   "cell_type": "code",
   "execution_count": 2,
   "id": "b9d749f8-ad07-4393-af92-fd97ed2e006c",
   "metadata": {},
   "outputs": [
    {
     "name": "stdout",
     "output_type": "stream",
     "text": [
      "Before swapping a = 5 , b = 8 , c = 9\n",
      "After swapping a = 9 , b = 5 , c = 8\n"
     ]
    }
   ],
   "source": [
    "#Q4:\n",
    "\n",
    "def swapThree(a, b, c):\n",
    "\t\n",
    "\ta = a + b + c \n",
    "\n",
    "\tb = a - (b+c) \n",
    "\tc = a - (b+c) \n",
    "\n",
    "\t\n",
    "\ta = a - (b+c) \n",
    "\t\n",
    "\tprint(\"After swapping a =\",a,\", b =\",b,\", c =\",c)\n",
    "\n",
    "\n",
    "if __name__ == '__main__':\n",
    "\ta = 5\n",
    "\tb = 8\n",
    "\tc = 9\n",
    "\n",
    "\tprint(\"Before swapping a =\",a,\", b =\",b,\", c =\",c)\n",
    "\n",
    "\tswapThree(a, b, c)\n",
    "\t\n"
   ]
  },
  {
   "cell_type": "code",
   "execution_count": 3,
   "id": "43ed71ae-fd0c-428b-9412-498d231f3e23",
   "metadata": {},
   "outputs": [
    {
     "name": "stdout",
     "output_type": "stream",
     "text": [
      "number is positive\n"
     ]
    }
   ],
   "source": [
    "#q5:\n",
    "def identity(num):\n",
    "    if(num>0):\n",
    "        print(\"number is positive\")\n",
    "    elif(num<0):\n",
    "        print(\"number is negative\")\n",
    "    else:\n",
    "        print(\"number is zero\")\n",
    "identity(87)"
   ]
  },
  {
   "cell_type": "code",
   "execution_count": 4,
   "id": "fbe760af-1907-4f41-b27a-3711cf4b9665",
   "metadata": {},
   "outputs": [
    {
     "name": "stdout",
     "output_type": "stream",
     "text": [
      "number is even \n"
     ]
    }
   ],
   "source": [
    "#q6:\n",
    "\n",
    "\n",
    "def abc(num):\n",
    "    if(num%2==0):\n",
    "        print(\"number is even \")\n",
    "    else:\n",
    "        print(\"number is odd \")\n",
    "abc(98)\n",
    "    "
   ]
  },
  {
   "cell_type": "code",
   "execution_count": 14,
   "id": "7e8bfc03-a7af-43b5-977a-a21005151728",
   "metadata": {},
   "outputs": [
    {
     "name": "stdout",
     "output_type": "stream",
     "text": [
      "25\n"
     ]
    }
   ],
   "source": [
    "#q7:\n",
    "def digits(num):\n",
    "    ans=0\n",
    "    while(num!=0):\n",
    "        ans=ans + int(num%10)\n",
    "        num=num/10\n",
    "    print(ans)\n",
    "    \n",
    "digits(76543)   "
   ]
  },
  {
   "cell_type": "code",
   "execution_count": 23,
   "id": "5bacfe4f-c36d-46bc-92b3-72d101468cf2",
   "metadata": {},
   "outputs": [
    {
     "name": "stdout",
     "output_type": "stream",
     "text": [
      "6345\n"
     ]
    }
   ],
   "source": [
    "#q8:\n",
    "num= 5436\n",
    "reversed_num =0\n",
    "while num != 0:\n",
    "    digit = num % 10\n",
    "    reversed_num = reversed_num * 10 + digit\n",
    "    num //= 10\n",
    "print(reversed_num)"
   ]
  },
  {
   "cell_type": "code",
   "execution_count": 24,
   "id": "fad010ea-dedb-475b-a787-ddcfe05a4e9b",
   "metadata": {},
   "outputs": [
    {
     "name": "stdout",
     "output_type": "stream",
     "text": [
      "this is not armstrong\n"
     ]
    }
   ],
   "source": [
    "#q9:\n",
    "num=371\n",
    "sum=0\n",
    "while num!=0:\n",
    "    digit=num %10\n",
    "    sum=sum+(digit)^3\n",
    "    num //=10\n",
    "if(sum==num):\n",
    "    print(\"this is armstrong number\")\n",
    "else:\n",
    "    print(\"this is not armstrong\")"
   ]
  },
  {
   "cell_type": "code",
   "execution_count": 32,
   "id": "d4b7a9c0-f04e-432f-90d5-55722ef90294",
   "metadata": {},
   "outputs": [
    {
     "name": "stdout",
     "output_type": "stream",
     "text": [
      "leap year\n"
     ]
    }
   ],
   "source": [
    "#q10:\n",
    "\n",
    "y=1996\n",
    "if((y % 400 == 0) or (y % 100 != 0) and (y % 4 == 0)):\n",
    "    print(\"leap year\")\n",
    "else:\n",
    "    print(\"not a leap year\")\n",
    "    \n",
    "    \n",
    "\n",
    "    "
   ]
  },
  {
   "cell_type": "code",
   "execution_count": null,
   "id": "3b30d6b5-702f-4108-a894-ab70f0f7580b",
   "metadata": {},
   "outputs": [],
   "source": []
  }
 ],
 "metadata": {
  "kernelspec": {
   "display_name": "Python 3 (ipykernel)",
   "language": "python",
   "name": "python3"
  },
  "language_info": {
   "codemirror_mode": {
    "name": "ipython",
    "version": 3
   },
   "file_extension": ".py",
   "mimetype": "text/x-python",
   "name": "python",
   "nbconvert_exporter": "python",
   "pygments_lexer": "ipython3",
   "version": "3.10.8"
  }
 },
 "nbformat": 4,
 "nbformat_minor": 5
}

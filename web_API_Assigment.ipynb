{
 "cells": [
  {
   "cell_type": "markdown",
   "id": "768da65f-fe6b-4587-a395-89234557bb8a",
   "metadata": {},
   "source": [
    "Q1: An API is the interface that allows two independent software components to exchange information. An API acts as an intermediary between internal software functions and external ones, creating an exchange of information so seamless that it often goes unnoticed by the end user.\n",
    "In practice, an API can be used to connect virtually any processes. Here are a few common examples of APIs:\n",
    "\n",
    "Sharing flight information between airlines and travel sites\n",
    "Using Google Maps in a rideshare app\n",
    "Building chatbots in a messaging service\n",
    "Embedding YouTube videos into a webpage\n",
    "Automating workflows between B2B software tools."
   ]
  },
  {
   "cell_type": "markdown",
   "id": "a6f8073e-7c4e-49b9-af91-14513da49e20",
   "metadata": {},
   "source": [
    "q2: Advantages:\n",
    "Increased Interoperability: API solutions enable different software systems to communicate with each other, regardless of their programming language or platform. This enhances the interoperability between systems, allowing for the exchange of data and functionality.\n",
    "Improved Efficiency: API driven infrastructures enable developers to reuse code and functionality from existing software systems, saving time and reducing the amount of code that needs to be written from scratch.\n",
    "Better User Experience: APIs can enable third-party developers to create applications that integrate with existing software systems, providing a better user experience and increased functionality.\n",
    "Increased Flexibility: APIs provide developers with greater flexibility, enabling them to choose the best programming languages and frameworks for their needs.\n",
    "New Revenue Streams: APIs can enable companies to create new revenue streams by providing third-party developers with access to their software systems.\n",
    "\n",
    "disadvantages :\n",
    "Security Concerns: API infrastructures can be vulnerable to security breaches, such as SQL injection attacks and cross-site scripting (XSS) attacks, making it crucial to implement security measures to protect against these threats.\n",
    "Complexity: APIs can be complex, requiring a significant amount of development effort to implement and maintain.\n",
    "Compatibility Issues: APIs can have compatibility issues between different versions of the same software system or between different systems, which can lead to errors and system failures.\n",
    "Dependency on Third-Party Developers: APIs rely on third-party developers to create applications that integrate with the software system. This can create dependencies that are outside of the control of the company that owns the software system.\n",
    "Governance and Management: APIs require proper governance and management to ensure they are being used correctly and consistently across different applications and systems.\n",
    "\n"
   ]
  },
  {
   "cell_type": "markdown",
   "id": "64c4d39b-e985-45e7-9978-1600fab9c3f5",
   "metadata": {},
   "source": [
    "q3:\n",
    "    A web service is a resource that is available over the internet. It's valuable because it provides functionality other applications can use, such as payment processing, logins, and database storage. This collection of protocols and standards is typically used to exchange data between apps or systems. \n",
    "    Web service is used for REST, SOAP, and XML-RPC for communication, while API is used for any style of communication. Web service supports only HTTP protocol, whereas API supports HTTP/HTTPS protocol. Web service supports XML, while API supports XML and JSON. All Web services are APIs, but all APIs are not web services"
   ]
  },
  {
   "cell_type": "markdown",
   "id": "a6af9119-3bc8-464a-a831-b497fbb8f96a",
   "metadata": {},
   "source": [
    "q4: SOAP stands for Simple Object Access Protocol and REST stands for Representational State Transfer.\n",
    "Since SOAP is a protocol, it follows a strict standard to allow communication between the client and the server whereas REST is an architectural style that doesn’t follow any strict standard but follows six constraints defined by Roy Fielding in 2000. Those constraints are – Uniform Interface, Client-Server, Stateless, Cacheable, Layered System, Code on Demand.\n",
    "SOAP uses only XML for exchanging information in its message format whereas REST is not restricted to XML and its the choice of implementer which Media-Type to use like XML, JSON, Plain-text. Moreover, REST can use SOAP protocol but SOAP cannot use REST.\n",
    "On behalf of services interfaces to business logic, SOAP uses @WebService whereas REST instead of using interfaces uses URI like @Path.\n",
    "SOAP is difficult to implement and it requires more bandwidth whereas REST is easy to implement and requires less bandwidth such as smartphones.\n",
    "Benefits of SOAP over REST as SOAP has ACID compliance transaction. Some of the applications require transaction ability which is accepted by SOAP whereas REST lacks in it.\n",
    "On the basis of Security, SOAP has SSL( Secure Socket Layer) and WS-security whereas REST has SSL and HTTPS. In the case of Bank Account Password, Card Number, etc. SOAP is preferred over REST. The security issue is all about your application requirement, you have to build security on your own. It’s about what type of protocol you use.\n",
    "SOAP cannot make use of REST since SOAP is a protocol without any architectural pattern. REST can make use of SOAP because it is an architectural pattern having protocol.\n",
    "The disadvantages of the SOAP protocols are: SOAP is used only XML format data in web service, whereas JSON and other lightweight formats are not supported by it. It is slow because it uses XML format, whereas the payload for a simple string message is large. There are no security features in the SOAP specification."
   ]
  },
  {
   "cell_type": "markdown",
   "id": "c68527c3-2e14-4d48-8fff-4576e519e18d",
   "metadata": {},
   "source": [
    "q4:\n",
    "    SOAP stands for Simple Object Access Protocol whereas REST stands for Representational State Transfer.\n",
    "SOAP is a protocol whereas REST is an architectural pattern.\n",
    "SOAP uses service interfaces to expose its functionality to client applications while REST uses Uniform Service locators to access to the components on the hardware device.\n",
    "SOAP needs more bandwidth for its usage whereas REST doesn’t need much bandwidth.\n",
    "Comparing SOAP vs REST API, SOAP only works with XML formats whereas REST work with plain text, XML, HTML and JSON.\n",
    "SOAP cannot make use of REST whereas REST can make use of SOAP."
   ]
  }
 ],
 "metadata": {
  "kernelspec": {
   "display_name": "Python 3 (ipykernel)",
   "language": "python",
   "name": "python3"
  },
  "language_info": {
   "codemirror_mode": {
    "name": "ipython",
    "version": 3
   },
   "file_extension": ".py",
   "mimetype": "text/x-python",
   "name": "python",
   "nbconvert_exporter": "python",
   "pygments_lexer": "ipython3",
   "version": "3.10.8"
  }
 },
 "nbformat": 4,
 "nbformat_minor": 5
}

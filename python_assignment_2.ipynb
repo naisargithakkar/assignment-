{
 "cells": [
  {
   "cell_type": "markdown",
   "id": "83cf206a-cbc7-4973-aec7-6dbf327546ed",
   "metadata": {},
   "source": [
    "q1:\n",
    "    To store a string containing a single quote (`'`) within a variable, you have a few options depending on the programming language you're using:\n",
    "\n",
    "1. **Python**:\n",
    "   - You can use **triple quotes** to create a string that allows embedded single and double quotes without escape characters:\n",
    "     ```python\n",
    "     s = \"\"\"(+CMGL: 2,\"REC READ\",\"DD-Etopup\",,\"11/11/04,12:48:51+22\" Hye! How's it going?)\"\"\"\n",
    "     ```\n",
    "   - Alternatively, you can **escape** the single quote using a backslash (`\\`):\n",
    "     ```python\n",
    "     a = '(+CMGL: 2,\"REC READ\",\"DD-Etopup\",,\"11/11/04,12:48:51+22\" Hye! How\\'s it going?)'\n",
    "     ```\n"
   ]
  },
  {
   "cell_type": "markdown",
   "id": "30fc16cd-a9ba-4ed3-90b2-c040ce1406b7",
   "metadata": {},
   "source": [
    "q2:\n",
    "    The variable `x` in your example is a **string type** variable. Let me explain why:\n",
    "\n",
    "1. **Character vs. String**:\n",
    "   - In Python, a single character is considered a string of length 1.\n",
    "   - Therefore, when you assign `'a'` to the variable `x`, it is treated as a string containing the character 'a'.\n",
    "\n",
    "2. **String Literal**:\n",
    "   - The value `'a'` enclosed in single quotes represents a string literal.\n",
    "   - Python treats single quotes (`'`) and double quotes (`\"`) interchangeably for defining strings.\n",
    "\n",
    "3. **String Type**:\n",
    "   - The type of `x` can be verified using the `type()` function:\n",
    "     ```python\n",
    "     x = 'a'\n",
    "     print(type(x))  # Outputs: <class 'str'>\n",
    "     ```\n",
    "\n",
    "   The output confirms that `x` is of type `str`, which stands for string.\n",
    "\n",
    "In summary, the variable `x` is a string containing the character 'a'. "
   ]
  },
  {
   "cell_type": "code",
   "execution_count": 2,
   "id": "8764f998-be18-434d-993d-4a496ab84868",
   "metadata": {},
   "outputs": [
    {
     "data": {
      "text/plain": [
       "11"
      ]
     },
     "execution_count": 2,
     "metadata": {},
     "output_type": "execute_result"
    }
   ],
   "source": [
    "#q3:\n",
    "p=\"Welcome to Python foundat1on course\"\n",
    "\n",
    "p.find(\"Python\")"
   ]
  },
  {
   "cell_type": "code",
   "execution_count": 3,
   "id": "fda05ff0-4722-4c8c-a4fb-7798dba1e6fe",
   "metadata": {},
   "outputs": [
    {
     "data": {
      "text/plain": [
       "1"
      ]
     },
     "execution_count": 3,
     "metadata": {},
     "output_type": "execute_result"
    }
   ],
   "source": [
    "p.count(\"Python\")"
   ]
  },
  {
   "cell_type": "code",
   "execution_count": 4,
   "id": "8daf37db-3dc6-4668-b913-e6e56bdbbb66",
   "metadata": {},
   "outputs": [
    {
     "data": {
      "text/plain": [
       "35"
      ]
     },
     "execution_count": 4,
     "metadata": {},
     "output_type": "execute_result"
    }
   ],
   "source": [
    "len(p)"
   ]
  },
  {
   "cell_type": "code",
   "execution_count": 5,
   "id": "21959d08-18da-401d-be63-702b480bbd4f",
   "metadata": {},
   "outputs": [],
   "source": [
    "new_string = p + \" - Happy learning!\""
   ]
  },
  {
   "cell_type": "code",
   "execution_count": 6,
   "id": "881e64d5-a4e4-4128-909f-c1f6cc67dce2",
   "metadata": {},
   "outputs": [
    {
     "data": {
      "text/plain": [
       "'Welcome to Python foundat1on course - Happy learning!'"
      ]
     },
     "execution_count": 6,
     "metadata": {},
     "output_type": "execute_result"
    }
   ],
   "source": [
    "new_string"
   ]
  },
  {
   "cell_type": "code",
   "execution_count": 9,
   "id": "afbca5bb-9cca-4a29-9f8e-6157fe03f602",
   "metadata": {},
   "outputs": [],
   "source": [
    "#q4:\n",
    "q='PanaJi@12256'"
   ]
  },
  {
   "cell_type": "code",
   "execution_count": 8,
   "id": "39bfeb81-d412-416b-98b4-02cac5d6649c",
   "metadata": {},
   "outputs": [
    {
     "name": "stdout",
     "output_type": "stream",
     "text": [
      "Number of lowercase letters in the string: 4\n"
     ]
    }
   ],
   "source": [
    "def count_lowercase_letters(s):\n",
    "    # Initialize a counter for lowercase letters\n",
    "    lowercase_count = 0\n",
    "    \n",
    "    # Iterate over each character in the string\n",
    "    for char in s:\n",
    "        # Check if the character is a lowercase letter\n",
    "        if char.islower():\n",
    "            lowercase_count += 1\n",
    "    \n",
    "    return lowercase_count\n",
    "\n",
    "# Example usage\n",
    "\n",
    "result = count_lowercase_letters(q)\n",
    "print(f\"Number of lowercase letters in the string: {result}\")\n"
   ]
  },
  {
   "cell_type": "code",
   "execution_count": 10,
   "id": "8c9121c2-ffe5-4952-9459-9c9caadf7acd",
   "metadata": {},
   "outputs": [
    {
     "name": "stdout",
     "output_type": "stream",
     "text": [
      "Number of uppercase letters in the string: 2\n"
     ]
    }
   ],
   "source": [
    "def count_uppercase_letters(s):\n",
    "    # Initialize a counter for uppercase letters\n",
    "    uppercase_count = 0\n",
    "    \n",
    "    # Iterate over each character in the string\n",
    "    for char in s:\n",
    "        # Check if the character is an uppercase letter\n",
    "        if char.isupper():\n",
    "            uppercase_count += 1\n",
    "    \n",
    "    return uppercase_count\n",
    "\n",
    "# Example usage\n",
    "\n",
    "result = count_uppercase_letters(q)\n",
    "print(f\"Number of uppercase letters in the string: {result}\")\n"
   ]
  },
  {
   "cell_type": "code",
   "execution_count": 24,
   "id": "cdb65c14-2cb1-45a6-b96d-ab9e3fb28199",
   "metadata": {},
   "outputs": [
    {
     "name": "stdout",
     "output_type": "stream",
     "text": [
      "5\n"
     ]
    }
   ],
   "source": [
    "numerical_count=0\n",
    "for i in q:\n",
    "        \n",
    "    if i.isnumeric():\n",
    "            numerical_count += 1\n",
    "            \n",
    "print(numerical_count)\n",
    "        \n",
    "\n",
    "# Example usage\n",
    "\n",
    "\n"
   ]
  },
  {
   "cell_type": "code",
   "execution_count": 26,
   "id": "9ebbd468-594d-4699-912c-e48140b6d493",
   "metadata": {},
   "outputs": [
    {
     "name": "stdout",
     "output_type": "stream",
     "text": [
      "The numerical value 123 is converted to a string: 123\n"
     ]
    }
   ],
   "source": [
    "#q5:\n",
    "# Assuming you have a numerical value (e.g., 123) that you want to store in a variable\n",
    "numerical_value = 123\n",
    "\n",
    "# Convert the numerical value to a string\n",
    "string_value = str(numerical_value)\n",
    "\n",
    "# Print the string value\n",
    "print(f\"The numerical value {numerical_value} is converted to a string: {string_value}\")\n"
   ]
  },
  {
   "cell_type": "code",
   "execution_count": null,
   "id": "95069edf-6f1c-4f73-a297-e7573963e5da",
   "metadata": {},
   "outputs": [],
   "source": []
  }
 ],
 "metadata": {
  "kernelspec": {
   "display_name": "Python 3 (ipykernel)",
   "language": "python",
   "name": "python3"
  },
  "language_info": {
   "codemirror_mode": {
    "name": "ipython",
    "version": 3
   },
   "file_extension": ".py",
   "mimetype": "text/x-python",
   "name": "python",
   "nbconvert_exporter": "python",
   "pygments_lexer": "ipython3",
   "version": "3.10.8"
  }
 },
 "nbformat": 4,
 "nbformat_minor": 5
}

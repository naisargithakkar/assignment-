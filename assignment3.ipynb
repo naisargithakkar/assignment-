{
 "cells": [
  {
   "cell_type": "markdown",
   "id": "4f1069c2-622e-433d-a4f1-731360fd7972",
   "metadata": {},
   "source": [
    "Q1. Create a python program to sort the given list of tuples based on integer value using a\n",
    "lambda function.\n",
    "[('Sachin Tendulkar', 34357), ('Ricky Ponting', 27483), ('Jack Kallis', 25534), ('Virat Kohli', 24936)]\n"
   ]
  },
  {
   "cell_type": "markdown",
   "id": "36fe31ec-2a1b-4040-9ec8-ceaddb21d098",
   "metadata": {},
   "source": [
    "Q2. Write a Python Program to find the squares of all the numbers in the given list of integers using\n",
    "lambda and map functions.\n",
    "[1, 2, 3, 4, 5, 6, 7, 8, 9, 10]\n"
   ]
  },
  {
   "cell_type": "code",
   "execution_count": 3,
   "id": "5ad9f5ca-fe58-485a-9b9b-103999fd36db",
   "metadata": {},
   "outputs": [],
   "source": [
    "l =[1,2,3,4,5,6,7,8,9,10]\n",
    "q =[] "
   ]
  },
  {
   "cell_type": "code",
   "execution_count": 1,
   "id": "621f8ee8-e3fd-485d-9a0c-8f552a78ee13",
   "metadata": {},
   "outputs": [],
   "source": [
    " w = lambda b : b**2 "
   ]
  },
  {
   "cell_type": "code",
   "execution_count": 5,
   "id": "df45c114-cab8-433b-afb1-cd94c5ed8a94",
   "metadata": {},
   "outputs": [
    {
     "data": {
      "text/plain": [
       "[1, 4, 9, 16, 25, 36, 49, 64, 81, 100]"
      ]
     },
     "execution_count": 5,
     "metadata": {},
     "output_type": "execute_result"
    }
   ],
   "source": [
    "list(map(w , l))"
   ]
  },
  {
   "cell_type": "markdown",
   "id": "ebbc846a-fd55-47a4-a289-f501feb458f5",
   "metadata": {},
   "source": [
    "     Q3 :Write a python program to convert the given list of integers into a tuple of strings. Use map and \n",
    "lambda functions\n",
    "\n",
    "\n",
    "Given String: [1, 2, 3, 4, 5, 6, 7, 8, 9, 10]\n",
    "\n",
    "Expected output: ('1', '2', '3', '4', '5', '6', '7', '8', '9', '10')"
   ]
  },
  {
   "cell_type": "code",
   "execution_count": 1,
   "id": "ebbe86c5-68f2-4e66-933a-908978de4b3a",
   "metadata": {},
   "outputs": [],
   "source": [
    "l=[1, 2, 3, 4, 5, 6, 7, 8, 9, 10]\n",
    "w = lambda i : str(i)"
   ]
  },
  {
   "cell_type": "code",
   "execution_count": 2,
   "id": "b548e6ec-0dd9-42f8-a129-17624407e39a",
   "metadata": {},
   "outputs": [
    {
     "data": {
      "text/plain": [
       "('1', '2', '3', '4', '5', '6', '7', '8', '9', '10')"
      ]
     },
     "execution_count": 2,
     "metadata": {},
     "output_type": "execute_result"
    }
   ],
   "source": [
    "tuple(map(w,l))"
   ]
  },
  {
   "cell_type": "markdown",
   "id": "9bd2d8c0-9421-4b52-9edc-198e020f977c",
   "metadata": {},
   "source": [
    " q4 :Write a python program using reduce function to compute the product of a list containing numbers \n",
    "from 1 to 25."
   ]
  },
  {
   "cell_type": "code",
   "execution_count": 3,
   "id": "3d760125-98b5-4d07-b543-91dc134c94eb",
   "metadata": {},
   "outputs": [],
   "source": [
    "l =range(1,26)"
   ]
  },
  {
   "cell_type": "code",
   "execution_count": 4,
   "id": "013b53d0-e55f-41a0-9b8c-4aaeca0e871c",
   "metadata": {},
   "outputs": [],
   "source": [
    "from functools import reduce"
   ]
  },
  {
   "cell_type": "code",
   "execution_count": 5,
   "id": "48e38313-6c9f-4a19-b2ed-ba1dc051a26b",
   "metadata": {},
   "outputs": [
    {
     "data": {
      "text/plain": [
       "15511210043330985984000000"
      ]
     },
     "execution_count": 5,
     "metadata": {},
     "output_type": "execute_result"
    }
   ],
   "source": [
    "reduce( lambda x , y : x*y , l)"
   ]
  },
  {
   "cell_type": "markdown",
   "id": "15af3daf-ce2e-4d62-9dcd-14dc307eb663",
   "metadata": {},
   "source": [
    "Q5. Write a python program to filter the numbers in a given list that are divisible by 2 and 3 using the \n",
    "filter function.\n",
    "\n",
    "\n",
    "[2, 3, 6, 9, 27, 60, 90, 120, 55, 46]"
   ]
  },
  {
   "cell_type": "code",
   "execution_count": 6,
   "id": "37cd2516-8105-4a62-9539-66dc0c7bf0ca",
   "metadata": {},
   "outputs": [],
   "source": [
    "w = lambda x  : x%2 == 0 and x%3 ==0 "
   ]
  },
  {
   "cell_type": "code",
   "execution_count": 7,
   "id": "04a2767c-f315-44f9-9fd1-9605199122c2",
   "metadata": {},
   "outputs": [],
   "source": [
    "l =[2, 3, 6, 9, 27, 60, 90, 120, 55, 46]"
   ]
  },
  {
   "cell_type": "code",
   "execution_count": 10,
   "id": "27bd3d69-8458-4e4e-b943-22c71c69fc8f",
   "metadata": {},
   "outputs": [
    {
     "data": {
      "text/plain": [
       "[6, 60, 90, 120]"
      ]
     },
     "execution_count": 10,
     "metadata": {},
     "output_type": "execute_result"
    }
   ],
   "source": [
    "list(filter(w,l))"
   ]
  },
  {
   "cell_type": "markdown",
   "id": "fffa45e2-3666-48eb-8f48-e1cf5aeec2de",
   "metadata": {},
   "source": [
    "Q6: Write a python program to find palindromes in the given list of strings using lambda and filter \n",
    "function.\n",
    "\n",
    "\n",
    "['python', 'php', 'aba', 'radar', 'level']"
   ]
  },
  {
   "cell_type": "code",
   "execution_count": 13,
   "id": "abc9d5cd-9da6-433e-a405-f99a94286f39",
   "metadata": {},
   "outputs": [],
   "source": [
    "w = lambda x : x[ : : -1] ==x"
   ]
  },
  {
   "cell_type": "code",
   "execution_count": 16,
   "id": "63b33e1e-3824-4d7f-aec5-ca6818b38fdd",
   "metadata": {},
   "outputs": [
    {
     "data": {
      "text/plain": [
       "['php', 'aba', 'radar', 'level']"
      ]
     },
     "execution_count": 16,
     "metadata": {},
     "output_type": "execute_result"
    }
   ],
   "source": [
    "l= ['python', 'php', 'aba', 'radar', 'level']\n",
    "list(filter (w , l))\n"
   ]
  },
  {
   "cell_type": "code",
   "execution_count": null,
   "id": "a4645ff5-298f-4ef5-8cf1-5ee0d845552b",
   "metadata": {},
   "outputs": [],
   "source": []
  }
 ],
 "metadata": {
  "kernelspec": {
   "display_name": "Python 3 (ipykernel)",
   "language": "python",
   "name": "python3"
  },
  "language_info": {
   "codemirror_mode": {
    "name": "ipython",
    "version": 3
   },
   "file_extension": ".py",
   "mimetype": "text/x-python",
   "name": "python",
   "nbconvert_exporter": "python",
   "pygments_lexer": "ipython3",
   "version": "3.10.8"
  }
 },
 "nbformat": 4,
 "nbformat_minor": 5
}

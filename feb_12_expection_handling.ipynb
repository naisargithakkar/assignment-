{
 "cells": [
  {
   "cell_type": "markdown",
   "id": "306853fe-c0b7-4583-9793-6a31d568c893",
   "metadata": {},
   "source": [
    "Q1: Exception handling allows you to separate error-handling code from normal code. An exception is a Python object which represents an error. As with code comments, exceptions helps you to remind yourself of what the program expects. It clarifies the code and enhances readability.\n",
    "----Errors are the problems in a program due to which the program will stop the execution. On the other hand, exceptions are raised when some internal events occur which changes the normal flow of the program."
   ]
  },
  {
   "cell_type": "markdown",
   "id": "7c66a069-34f4-4049-ad1e-8a6ce796de87",
   "metadata": {},
   "source": [
    "Q2: terminate the program and produce a traceback."
   ]
  },
  {
   "cell_type": "markdown",
   "id": "ff46b75c-63d3-4c11-b022-7409ab1e3ea2",
   "metadata": {},
   "source": [
    "Try and except statments are used for excception handling "
   ]
  },
  {
   "cell_type": "code",
   "execution_count": 1,
   "id": "fee0c1c8-d2ad-4690-a5b8-dbf1be73442b",
   "metadata": {},
   "outputs": [
    {
     "name": "stdout",
     "output_type": "stream",
     "text": [
      "unsupported operand type(s) for +: 'int' and 'str'\n"
     ]
    }
   ],
   "source": [
    "#example \n",
    "y=5\n",
    "v=\"mango\"\n",
    "\n",
    "try:\n",
    "    a=y+v\n",
    "except TypeError as e :\n",
    "    print(e)\n",
    "    "
   ]
  },
  {
   "cell_type": "code",
   "execution_count": 2,
   "id": "2a709d55-e0ef-4034-983e-d01e07092064",
   "metadata": {},
   "outputs": [
    {
     "name": "stdout",
     "output_type": "stream",
     "text": [
      "division by zero\n"
     ]
    }
   ],
   "source": [
    "#q4 try and else :\n",
    "try:\n",
    "    y= 5/0\n",
    "except ZeroDivisionError as e :\n",
    "    print(e)\n",
    "else :\n",
    "    print(\" ans is not infinity\")"
   ]
  },
  {
   "cell_type": "code",
   "execution_count": 3,
   "id": "f5923492-4c1b-4137-a4d8-b2707e6e00f1",
   "metadata": {},
   "outputs": [
    {
     "name": "stdout",
     "output_type": "stream",
     "text": [
      "division by zero\n",
      " ans is not infinity\n"
     ]
    }
   ],
   "source": [
    "#finally\n",
    "try:\n",
    "    y= 5/0\n",
    "except ZeroDivisionError as e :\n",
    "    print(e)\n",
    "finally :\n",
    "    print(\" ans is not infinity\")"
   ]
  },
  {
   "cell_type": "markdown",
   "id": "19607d29-3050-4fee-8be1-1d4f25e3e56d",
   "metadata": {},
   "source": [
    "#raise\n",
    " throw an exception if a condition occurs.\n",
    "\n",
    "To throw (or raise) an exception, use the raise keyword."
   ]
  },
  {
   "cell_type": "markdown",
   "id": "98029699-8bb5-42e4-b011-9233b35f9090",
   "metadata": {},
   "source": [
    "Q5 : CUSTOM EXCEPTION \n",
    "In Python, we can define custom exceptions by creating a new class that is derived from the built-in Exception class.\n",
    "Having custom exceptions - tailored to your specific use cases and that you can raise and catch in specific circumstances - can make your code much more readable and robust, and reduce the amount of code you write later to try and figure out what exactly went wrong.\n"
   ]
  },
  {
   "cell_type": "code",
   "execution_count": 11,
   "id": "0b8456e6-ceb4-4a02-887f-ccfcc6fc7b7a",
   "metadata": {},
   "outputs": [
    {
     "name": "stdin",
     "output_type": "stream",
     "text": [
      "Enter a number:  6\n"
     ]
    },
    {
     "name": "stdout",
     "output_type": "stream",
     "text": [
      "Exception occurred: Invalid Age\n"
     ]
    }
   ],
   "source": [
    "# define Python user-defined exceptions\n",
    "class InvalidAgeException(Exception):\n",
    "    \"Raised when the input value is less than 18\"\n",
    "    pass\n",
    "\n",
    "# you need to guess this number\n",
    "number = 18\n",
    "\n",
    "try:\n",
    "    input_num = int(input(\"Enter a number: \"))\n",
    "    if input_num < number:\n",
    "        raise InvalidAgeException\n",
    "    else:\n",
    "        print(\"Eligible to Vote\")\n",
    "        \n",
    "except InvalidAgeException:\n",
    "    print(\"Exception occurred: Invalid Age\")"
   ]
  },
  {
   "cell_type": "code",
   "execution_count": 1,
   "id": "b088144c-09c0-4da8-94e5-3bf29999e249",
   "metadata": {},
   "outputs": [
    {
     "name": "stdout",
     "output_type": "stream",
     "text": [
      "This is my custom exception\n"
     ]
    }
   ],
   "source": [
    "#Q6:\n",
    "class CustomException(Exception):\n",
    "    pass\n",
    "  \n",
    "\n",
    "\n",
    "try:\n",
    "    raise CustomException('This is my custom exception')\n",
    "except CustomException as ex:\n",
    "    print(ex)"
   ]
  },
  {
   "cell_type": "markdown",
   "id": "7d171784-c6ce-49dd-88f8-903815ba83fe",
   "metadata": {},
   "source": [
    "q4: Python raise Keyword is used to raise exceptions or errors. The raise keyword raises an error and stops the control flow of the program. It is used to bring up the current exception in an exception handler so that it can be handled further up the call stack."
   ]
  },
  {
   "cell_type": "code",
   "execution_count": 2,
   "id": "4cda0139-a2a2-4867-890d-2188b47fc58e",
   "metadata": {},
   "outputs": [
    {
     "ename": "Exception",
     "evalue": "The number shouldn't be an odd integer",
     "output_type": "error",
     "traceback": [
      "\u001b[0;31m---------------------------------------------------------------------------\u001b[0m",
      "\u001b[0;31mException\u001b[0m                                 Traceback (most recent call last)",
      "Cell \u001b[0;32mIn[2], line 4\u001b[0m\n\u001b[1;32m      1\u001b[0m a \u001b[38;5;241m=\u001b[39m \u001b[38;5;241m5\u001b[39m\n\u001b[1;32m      3\u001b[0m \u001b[38;5;28;01mif\u001b[39;00m a \u001b[38;5;241m%\u001b[39m \u001b[38;5;241m2\u001b[39m \u001b[38;5;241m!=\u001b[39m \u001b[38;5;241m0\u001b[39m:\n\u001b[0;32m----> 4\u001b[0m \t\u001b[38;5;28;01mraise\u001b[39;00m \u001b[38;5;167;01mException\u001b[39;00m(\u001b[38;5;124m\"\u001b[39m\u001b[38;5;124mThe number shouldn\u001b[39m\u001b[38;5;124m'\u001b[39m\u001b[38;5;124mt be an odd integer\u001b[39m\u001b[38;5;124m\"\u001b[39m)\n",
      "\u001b[0;31mException\u001b[0m: The number shouldn't be an odd integer"
     ]
    }
   ],
   "source": [
    "a = 5\n",
    "\n",
    "if a % 2 != 0:\n",
    "\traise Exception(\"The number shouldn't be an odd integer\")\n",
    "    \n"
   ]
  },
  {
   "cell_type": "code",
   "execution_count": null,
   "id": "014a7fe6-d60d-4d4b-8225-111a670053f3",
   "metadata": {},
   "outputs": [],
   "source": []
  }
 ],
 "metadata": {
  "kernelspec": {
   "display_name": "Python 3 (ipykernel)",
   "language": "python",
   "name": "python3"
  },
  "language_info": {
   "codemirror_mode": {
    "name": "ipython",
    "version": 3
   },
   "file_extension": ".py",
   "mimetype": "text/x-python",
   "name": "python",
   "nbconvert_exporter": "python",
   "pygments_lexer": "ipython3",
   "version": "3.10.8"
  }
 },
 "nbformat": 4,
 "nbformat_minor": 5
}

{
 "cells": [
  {
   "cell_type": "code",
   "execution_count": 2,
   "id": "e490dce8-164e-4b0f-846c-b27eb77a308d",
   "metadata": {},
   "outputs": [
    {
     "name": "stdout",
     "output_type": "stream",
     "text": [
      "0     4\n",
      "1     8\n",
      "2    15\n",
      "3    16\n",
      "4    23\n",
      "5    42\n",
      "dtype: object\n"
     ]
    }
   ],
   "source": [
    "#Q1:\n",
    "import pandas as pd\n",
    "\n",
    "# a simple list\n",
    "list = ['4', '8', '15', '16', '23','42']\n",
    "\n",
    "# create series form a list\n",
    "ser = pd.Series(list)\n",
    "print(ser)\n",
    "\n"
   ]
  },
  {
   "cell_type": "code",
   "execution_count": 8,
   "id": "3d581e06-306c-4948-9c73-6a83622c4cbf",
   "metadata": {},
   "outputs": [
    {
     "name": "stdout",
     "output_type": "stream",
     "text": [
      "0    1\n",
      "1    2\n",
      "2    3\n",
      "3    4\n",
      "4    5\n",
      "5    6\n",
      "6    7\n",
      "7    8\n",
      "8    9\n",
      "9    0\n",
      "dtype: int64\n"
     ]
    }
   ],
   "source": [
    "#Q2:\n",
    "import pandas as pd\n",
    "l=[1,2,3,4,5,6,7,8,9,0]\n",
    "s= pd.Series(l)\n",
    "print(s)"
   ]
  },
  {
   "cell_type": "code",
   "execution_count": 16,
   "id": "9be14cab-de62-475d-9397-4f1a2c7b037a",
   "metadata": {},
   "outputs": [],
   "source": [
    "#q3:\n",
    "import pandas as pd "
   ]
  },
  {
   "cell_type": "code",
   "execution_count": 14,
   "id": "b484feea-3cff-424a-8f6e-8e609b23691d",
   "metadata": {},
   "outputs": [],
   "source": [
    "df=pd.read_excel(\"table_assignment.xlsx\")"
   ]
  },
  {
   "cell_type": "code",
   "execution_count": 15,
   "id": "0321ec93-49ab-40dc-b69e-2a85b84beef6",
   "metadata": {},
   "outputs": [
    {
     "data": {
      "text/html": [
       "<div>\n",
       "<style scoped>\n",
       "    .dataframe tbody tr th:only-of-type {\n",
       "        vertical-align: middle;\n",
       "    }\n",
       "\n",
       "    .dataframe tbody tr th {\n",
       "        vertical-align: top;\n",
       "    }\n",
       "\n",
       "    .dataframe thead th {\n",
       "        text-align: right;\n",
       "    }\n",
       "</style>\n",
       "<table border=\"1\" class=\"dataframe\">\n",
       "  <thead>\n",
       "    <tr style=\"text-align: right;\">\n",
       "      <th></th>\n",
       "      <th>Name</th>\n",
       "      <th>Age</th>\n",
       "      <th>Gender</th>\n",
       "    </tr>\n",
       "  </thead>\n",
       "  <tbody>\n",
       "    <tr>\n",
       "      <th>0</th>\n",
       "      <td>Alice</td>\n",
       "      <td>25</td>\n",
       "      <td>Female</td>\n",
       "    </tr>\n",
       "    <tr>\n",
       "      <th>1</th>\n",
       "      <td>bob</td>\n",
       "      <td>30</td>\n",
       "      <td>Male</td>\n",
       "    </tr>\n",
       "    <tr>\n",
       "      <th>2</th>\n",
       "      <td>Claire</td>\n",
       "      <td>27</td>\n",
       "      <td>Female</td>\n",
       "    </tr>\n",
       "  </tbody>\n",
       "</table>\n",
       "</div>"
      ],
      "text/plain": [
       "     Name  Age   Gender\n",
       "0   Alice    25  Female\n",
       "1     bob    30    Male\n",
       "2  Claire    27  Female"
      ]
     },
     "execution_count": 15,
     "metadata": {},
     "output_type": "execute_result"
    }
   ],
   "source": [
    "df"
   ]
  },
  {
   "cell_type": "markdown",
   "id": "32706bf5-94aa-4a1b-92b3-ee7e711e70ed",
   "metadata": {},
   "source": [
    "#Q4:\n",
    "Pandas Series\tPandas DataFrame\n",
    "One-dimensional\tTwo-dimensional\n",
    "Homogenous – Series elements must be of the same data type.\tHeterogenous – DataFrame elements can have different data types.\n",
    "Size-immutable – Once created, the size of a Series object cannot be changed.\tSize-mutable – Elements can be dropped or added in an existing DataFrame."
   ]
  },
  {
   "cell_type": "markdown",
   "id": "96f4dd62-c059-44a7-822e-f813519456d0",
   "metadata": {},
   "source": [
    "#Q5: \n",
    "Functions:\n",
    "read\n",
    "columns\n",
    "tail\n",
    "head\n",
    "shape , size , info \n",
    "insa\n",
    "Describe\n",
    "Nunique\n",
    "Value Counts\n",
    "columns \n"
   ]
  },
  {
   "cell_type": "code",
   "execution_count": 17,
   "id": "6103f032-2672-41b4-9e5b-87f675c7435f",
   "metadata": {},
   "outputs": [
    {
     "data": {
      "text/plain": [
       "Index(['Name', 'Age ', 'Gender'], dtype='object')"
      ]
     },
     "execution_count": 17,
     "metadata": {},
     "output_type": "execute_result"
    }
   ],
   "source": [
    "df.columns"
   ]
  },
  {
   "cell_type": "code",
   "execution_count": 1,
   "id": "9e28d4c4-23c2-4ddb-91e8-7d8522cc92d5",
   "metadata": {},
   "outputs": [
    {
     "name": "stdout",
     "output_type": "stream",
     "text": [
      "         0      1     2\n",
      "0    Spark  22000  1000\n",
      "1  PySpark  25000  2300\n",
      "2   Hadoop  23000  1000\n"
     ]
    }
   ],
   "source": [
    "#Q6:\n",
    "\n",
    "import pandas as pd\n",
    "# Create pandas Series\n",
    "courses = pd.Series([\"Spark\",\"PySpark\",\"Hadoop\"])\n",
    "fees = pd.Series([22000,25000,23000])\n",
    "discount  = pd.Series([1000,2300,1000])\n",
    "\n",
    "# Combine two series.\n",
    "df=pd.concat([courses,fees],axis=1)\n",
    "\n",
    "# It also supports to combine multiple series.\n",
    "df=pd.concat([courses,fees,discount],axis=1)\n",
    "print(df)\n"
   ]
  },
  {
   "cell_type": "code",
   "execution_count": null,
   "id": "80dacea5-fbae-44e8-9964-b32a8fd13e01",
   "metadata": {},
   "outputs": [],
   "source": []
  }
 ],
 "metadata": {
  "kernelspec": {
   "display_name": "Python 3 (ipykernel)",
   "language": "python",
   "name": "python3"
  },
  "language_info": {
   "codemirror_mode": {
    "name": "ipython",
    "version": 3
   },
   "file_extension": ".py",
   "mimetype": "text/x-python",
   "name": "python",
   "nbconvert_exporter": "python",
   "pygments_lexer": "ipython3",
   "version": "3.10.8"
  }
 },
 "nbformat": 4,
 "nbformat_minor": 5
}

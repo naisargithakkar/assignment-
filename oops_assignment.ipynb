{
 "cells": [
  {
   "cell_type": "markdown",
   "id": "4114d37c-8271-4db6-bef5-e9b2b50ff3a3",
   "metadata": {},
   "source": [
    "Q1 :  Create a vehicle class with an init method having instance variables as name_of_vehicle, max_speed \n",
    "and average_of_vehicle. "
   ]
  },
  {
   "cell_type": "code",
   "execution_count": 1,
   "id": "6c3cce29-a968-4740-911f-d91ac06b6faf",
   "metadata": {},
   "outputs": [],
   "source": [
    "class vehicle :\n",
    "    def __init__ (self, name , max_speed , average_of_vehicle ):\n",
    "        self.name= name \n",
    "        self.max_speed = max_speed \n",
    "        self.average_of_vehicle = average_of_vehicle "
   ]
  },
  {
   "cell_type": "markdown",
   "id": "383cd38b-8aac-45ac-971e-cf6d5175a9ff",
   "metadata": {},
   "source": [
    "q2:  Create a child class car from the vehicle class created in Que 1, which will inherit the vehicle class. \n",
    "Create a method named seating_capacity which takes capacity as an argument and returns the name of \n",
    "the vehicle and its seating capacity"
   ]
  },
  {
   "cell_type": "code",
   "execution_count": 7,
   "id": "0ce969dc-8c2e-42e6-aa5c-242eebb02b0a",
   "metadata": {},
   "outputs": [],
   "source": [
    "class car(vehicle):\n",
    "    \n",
    "    def seating_capcity(self, capacity):\n",
    "        return (capacity, self.name  )\n",
    "        "
   ]
  },
  {
   "cell_type": "markdown",
   "id": "6ca95985-bc6f-4f8b-b6bd-01b4eb0140a8",
   "metadata": {},
   "source": [
    "Q3: What is multiple inheritance? Write a python code to demonstrate multiple inheritance."
   ]
  },
  {
   "cell_type": "markdown",
   "id": "afe7041f-9aec-4514-8479-e19264be44f8",
   "metadata": {},
   "source": [
    "When a class is derived from more than one base class it is called multiple Inheritance. The derived class inherits all the features of the base case.\n"
   ]
  },
  {
   "cell_type": "code",
   "execution_count": 9,
   "id": "5128e9c0-68d4-46ed-bad5-63114bd39cdf",
   "metadata": {},
   "outputs": [
    {
     "name": "stdout",
     "output_type": "stream",
     "text": [
      "In Class2\n"
     ]
    }
   ],
   "source": [
    "# example :\n",
    "# Python Program to depict multiple inheritance\n",
    "# when method is overridden in both classes\n",
    "\n",
    "class Class1:\n",
    "\tdef m(self):\n",
    "\t\tprint(\"In Class1\")\n",
    "\t\n",
    "class Class2(Class1):\n",
    "\tdef m(self):\n",
    "\t\tprint(\"In Class2\")\n",
    "\n",
    "class Class3(Class1):\n",
    "\tdef m(self):\n",
    "\t\tprint(\"In Class3\")\n",
    "\t\t\n",
    "class Class4(Class2, Class3):\n",
    "\tpass\n",
    "\t\n",
    "obj = Class4()\n",
    "obj.m()\n"
   ]
  },
  {
   "cell_type": "markdown",
   "id": "3ce7e4d4-d96e-41e9-9380-6b8c685fde4f",
   "metadata": {},
   "source": [
    "Q4 : What are getter and setter in python? Create a class and create a getter and a setter method in this \n",
    "class."
   ]
  },
  {
   "cell_type": "markdown",
   "id": "d710368e-663e-4099-b389-9e38355e094a",
   "metadata": {},
   "source": [
    "Basically, the main purpose of using getters and setters in object-oriented programs is to ensure data encapsulation. Private variables in python are not actually hidden fields like in other object oriented languages. Getters and Setters in python are often used when:\n",
    "\n",
    "We use getters & setters to add validation logic around getting and setting a value.\n",
    "To avoid direct access of a class field i.e. private variables cannot be accessed directly or modified by external user."
   ]
  },
  {
   "cell_type": "code",
   "execution_count": 10,
   "id": "a3383477-4f46-4eeb-a479-7e88398feee1",
   "metadata": {},
   "outputs": [
    {
     "name": "stdout",
     "output_type": "stream",
     "text": [
      "21\n",
      "21\n"
     ]
    }
   ],
   "source": [
    "# EXAMPLE :\n",
    "# Python program showing a use\n",
    "# of get() and set() method in\n",
    "# normal function\n",
    "\n",
    "class Geek:\n",
    "\tdef __init__(self, age = 0):\n",
    "\t\tself._age = age\n",
    "\t\n",
    "\t# getter method\n",
    "\tdef get_age(self):\n",
    "\t\treturn self._age\n",
    "\t\n",
    "\t# setter method\n",
    "\tdef set_age(self, x):\n",
    "\t\tself._age = x\n",
    "\n",
    "raj = Geek()\n",
    "\n",
    "# setting the age using setter\n",
    "raj.set_age(21)\n",
    "\n",
    "# retrieving age using getter\n",
    "print(raj.get_age())\n",
    "\n",
    "print(raj._age)\n"
   ]
  },
  {
   "cell_type": "markdown",
   "id": "2c1c25e4-ddb8-4665-ab6c-ba047cc33d31",
   "metadata": {},
   "source": [
    " Q5 : What is method overriding in python? Write a python code to demonstrate method overriding"
   ]
  },
  {
   "cell_type": "markdown",
   "id": "20e8c4d2-8f06-4023-adf5-f3b1aa45dbd1",
   "metadata": {},
   "source": [
    "Method overriding is an ability of any object-oriented programming language that allows a subclass or child class to provide a specific implementation of a method that is already provided by one of its super-classes or parent classes. When a method in a subclass has the same name, same parameters or signature and same return type(or sub-type) as a method in its super-class, then the method in the subclass is said to override the method in the super-class."
   ]
  },
  {
   "cell_type": "code",
   "execution_count": 11,
   "id": "3e32a966-b772-4129-9135-525a14619d99",
   "metadata": {},
   "outputs": [
    {
     "name": "stdout",
     "output_type": "stream",
     "text": [
      "Inside Parent\n",
      "Inside Child\n"
     ]
    }
   ],
   "source": [
    "# Python program to demonstrate\n",
    "# method overriding\n",
    "\n",
    "\n",
    "# Defining parent class\n",
    "class Parent():\n",
    "\t\n",
    "\t# Constructor\n",
    "\tdef __init__(self):\n",
    "\t\tself.value = \"Inside Parent\"\n",
    "\t\t\n",
    "\t# Parent's show method\n",
    "\tdef show(self):\n",
    "\t\tprint(self.value)\n",
    "\t\t\n",
    "# Defining child class\n",
    "class Child(Parent):\n",
    "\t\n",
    "\t# Constructor\n",
    "\tdef __init__(self):\n",
    "\t\tself.value = \"Inside Child\"\n",
    "\t\t\n",
    "\t# Child's show method\n",
    "\tdef show(self):\n",
    "\t\tprint(self.value)\n",
    "\t\t\n",
    "\t\t\n",
    "# Driver's code\n",
    "obj1 = Parent()\n",
    "obj2 = Child()\n",
    "\n",
    "obj1.show()\n",
    "obj2.show()\n"
   ]
  },
  {
   "cell_type": "code",
   "execution_count": null,
   "id": "77308625-0b87-4c76-a933-54aff1f02e74",
   "metadata": {},
   "outputs": [],
   "source": []
  }
 ],
 "metadata": {
  "kernelspec": {
   "display_name": "Python 3 (ipykernel)",
   "language": "python",
   "name": "python3"
  },
  "language_info": {
   "codemirror_mode": {
    "name": "ipython",
    "version": 3
   },
   "file_extension": ".py",
   "mimetype": "text/x-python",
   "name": "python",
   "nbconvert_exporter": "python",
   "pygments_lexer": "ipython3",
   "version": "3.10.8"
  }
 },
 "nbformat": 4,
 "nbformat_minor": 5
}

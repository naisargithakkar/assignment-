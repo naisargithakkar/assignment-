{
 "cells": [
  {
   "cell_type": "markdown",
   "id": "5acdc524-6dd9-4a93-b058-58aa057181a5",
   "metadata": {},
   "source": [
    "q1: Multithreading is defined as the ability of a processor to execute multiple threads concurrently. In a simple, single-core CPU, it is achieved using frequent switching between threads. \n",
    "\n",
    "This is termed context switching. In context switching, the state of a thread is saved and the state of another thread is loaded whenever any interrupt (due to I/O or manually set) takes place. Context switching takes place so frequently that all the threads appear to be running parallelly (this is termed multitasking).\n",
    "\n",
    " threading module is used."
   ]
  },
  {
   "cell_type": "markdown",
   "id": "f330ab61-0fe9-467f-b35b-6d336d4feeaa",
   "metadata": {},
   "source": [
    " Q2: The threading module provides a very simple and intuitive API for spawning multiple threads in a program.\n",
    " 1.active_count():\n",
    " In Python, the method threading.active_co nt() from the threading module is used to count the currently active or running threads.\n",
    " "
   ]
  },
  {
   "cell_type": "code",
   "execution_count": 1,
   "id": "bb8de4e9-55b9-40d4-95d9-53f2e299ed7b",
   "metadata": {},
   "outputs": [
    {
     "name": "stdout",
     "output_type": "stream",
     "text": [
      "START: Current active thread count:  8\n",
      "Thread-2: Number of active threads: 10\n",
      "Thread 2 Value: 200\n",
      "Thread-1: Number of active threads: 10\n",
      "Thread 1 Value: 100\n",
      "Thread-3: Number of active threads: 9\n",
      "Thread 3 Value: 300\n"
     ]
    }
   ],
   "source": [
    "# Program to count active threads\n",
    "# active_count() method from Threading Module\n",
    "import threading\n",
    "import time\n",
    "# Methods for three threads..\n",
    "def thread1_Subroutine(i):\n",
    "    time.sleep(2)\n",
    "    print(\"Thread-1: Number of active threads:\", threading.active_count())\n",
    "    print('Thread 1 Value:', i)\n",
    "\n",
    "def thread2_Subroutine(i):\n",
    "    print(\"Thread-2: Number of active threads:\", threading.active_count())\n",
    "    print('Thread 2 Value:', i)\n",
    "    \n",
    "def thread3_Subroutine(i):\n",
    "    time.sleep(5)\n",
    "    print(\"Thread-3: Number of active threads:\", threading.active_count())\n",
    "    print(\"Thread 3 Value:\", i)\n",
    "    \n",
    "# Creating sample threads\n",
    "thread1 = threading.Thread(target=thread1_Subroutine, args=(100,), name=\"Thread1\")\n",
    "thread2 = threading.Thread(target=thread2_Subroutine, args=(200,), name=\"Thread2\")\n",
    "thread3 = threading.Thread(target=thread3_Subroutine, args=(300,), name=\"Thread3\")\n",
    "print(\"START: Current active thread count: \", threading.active_count())\n",
    "# Calling start() method to initialize execution\n",
    "thread1.start()\n",
    "thread2.start()\n",
    "thread3.start()\n",
    "thread3.join() # Wait for thread-3 to join."
   ]
  },
  {
   "cell_type": "markdown",
   "id": "4921efc5-dd62-4019-8ed5-2701645445b4",
   "metadata": {},
   "source": [
    "The threading.current_thread() is an inbuilt method of the threading module, it is used to return the current Thread object, which corresponds to the caller's thread of control."
   ]
  },
  {
   "cell_type": "code",
   "execution_count": 2,
   "id": "02b301d5-9353-453d-af74-d1223772a6bc",
   "metadata": {},
   "outputs": [
    {
     "name": "stdout",
     "output_type": "stream",
     "text": [
      "Active current thread right now: <_MainThread(MainThread, started 139638943528768)>\n",
      "Active current thread right now: <Thread(Thread-7 (thread_3), started 139638228375104)>\n",
      "Value by Thread 3: 3\n",
      "Active current thread right now: <Thread(Thread-5 (thread_1), started 139638236767808)>\n",
      "Value by Thread 1: 1\n",
      "Active current thread right now: <Thread(Thread-6 (thread_2), started 139638245160512)>\n",
      "Value by Thread 2: 2\n"
     ]
    }
   ],
   "source": [
    "# Python program to explain the use of \n",
    "# current_thread() method in Threading Module\n",
    "\n",
    "import time\n",
    "import threading\n",
    "\n",
    "def thread_1(i):\n",
    "    time.sleep(2)\n",
    "    print(\"Active current thread right now:\", (threading.current_thread()))\n",
    "    print('Value by Thread 1:', i)\n",
    "\n",
    "def thread_2(i):\n",
    "    time.sleep(5)\n",
    "    print(\"Active current thread right now:\", (threading.current_thread()))\n",
    "    print('Value by Thread 2:', i)\n",
    "    \n",
    "def thread_3(i):\n",
    "    print(\"Active current thread right now:\", (threading.current_thread()))\n",
    "    print(\"Value by Thread 3:\", i)\n",
    "    \n",
    "# Creating sample threads \n",
    "thread1 = threading.Thread(target=thread_1, args=(1,))\n",
    "thread2 = threading.Thread(target=thread_2, args=(2,))\n",
    "thread3 = threading.Thread(target=thread_3, args=(3,))\n",
    "\n",
    "print(\"Active current thread right now:\", (threading.current_thread()))\n",
    "#3 Initially it is the main thread that is active\n",
    "\n",
    "# Starting the threads\n",
    "thread1.start()\n",
    "thread2.start()\n",
    "thread3.start()\n"
   ]
  },
  {
   "cell_type": "markdown",
   "id": "78a1d7db-4b88-480a-82d0-7f6f9849a16f",
   "metadata": {},
   "source": [
    "Often, when dealing with iterators, we also get need to keep a count of iterations. Python eases the programmers’ task by providing a built-in function enumerate() for this task. Enumerate() method adds a counter to an iterable and returns it in a form of enumerating object. This enumerated object can then be used directly for loops or converted into a list of tuples using the list() function."
   ]
  },
  {
   "cell_type": "code",
   "execution_count": 5,
   "id": "3b824392-94f8-4a2b-86aa-f9c02060a7a1",
   "metadata": {},
   "outputs": [
    {
     "name": "stdout",
     "output_type": "stream",
     "text": [
      "Return type: <class 'enumerate'>\n",
      "[(0, 'eat'), (1, 'sleep'), (2, 'repeat')]\n",
      "[(2, 'n'), (3, 'a'), (4, 'i'), (5, 's'), (6, 'a'), (7, 'r'), (8, 'g'), (9, 'i')]\n"
     ]
    }
   ],
   "source": [
    "# Python program to illustrate\n",
    "# enumerate function\n",
    "l1 = [\"eat\", \"sleep\", \"repeat\"]\n",
    "s1 = \"naisargi\"\n",
    "\n",
    "# creating enumerate objects\n",
    "obj1 = enumerate(l1)\n",
    "obj2 = enumerate(s1)\n",
    "\n",
    "print (\"Return type:\", type(obj1))\n",
    "print (list(enumerate(l1)))\n",
    "\n",
    "# changing start index to 2 from 0\n",
    "print (list(enumerate(s1,2)))\n"
   ]
  },
  {
   "cell_type": "markdown",
   "id": "b4519b1d-5748-4b83-aa74-c5002c144ba1",
   "metadata": {},
   "source": [
    "Q3:  run():\n",
    "    Method representing the thread’s activity.\n",
    "\n",
    "You may override this method in a subclass. The standard run() method invokes the callable object passed to the object’s constructor as the target argument, if any, with positional and keyword arguments taken from the args and kwargs arguments, respectively.\n",
    "\n",
    "Using list or tuple as the args argument which passed to the Thread could achieve the same effect.\n",
    "\n"
   ]
  },
  {
   "cell_type": "code",
   "execution_count": 6,
   "id": "40c49187-75fb-4b0b-9559-634f248bb6f2",
   "metadata": {},
   "outputs": [],
   "source": [
    "from threading import Thread"
   ]
  },
  {
   "cell_type": "code",
   "execution_count": 7,
   "id": "eaab4a9d-da5a-4e0b-8212-85bf7219a36b",
   "metadata": {},
   "outputs": [],
   "source": [
    "t = Thread(target=print, args=[1])"
   ]
  },
  {
   "cell_type": "code",
   "execution_count": 8,
   "id": "79a97b19-6eda-431a-947b-44c979f50709",
   "metadata": {},
   "outputs": [
    {
     "name": "stdout",
     "output_type": "stream",
     "text": [
      "1\n"
     ]
    }
   ],
   "source": [
    "t.run()"
   ]
  },
  {
   "cell_type": "markdown",
   "id": "81894700-6e1d-4bc7-8835-61a396b0828e",
   "metadata": {},
   "source": [
    "2) start() The Thread.start() method is an inbuilt method of the Thread class of the threading module, it is used to start a thread's activity."
   ]
  },
  {
   "cell_type": "code",
   "execution_count": 9,
   "id": "fe361392-83ad-4554-8252-ee09fef540e8",
   "metadata": {},
   "outputs": [
    {
     "name": "stdout",
     "output_type": "stream",
     "text": [
      "Value by Thread 2: 2\n",
      "Value by Thread 1: 1\n"
     ]
    }
   ],
   "source": [
    "# Python program to explain the\n",
    "# use of start() method in Thread class\n",
    "\n",
    "import time\n",
    "import threading\n",
    "\n",
    "def thread_1(i):\n",
    "    time.sleep(5)\n",
    "    print('Value by Thread 1:', i)\n",
    "\n",
    "def thread_2(i):\n",
    "    print('Value by Thread 2:', i)\n",
    "    \n",
    "# Creating two sample threads \n",
    "thread1 = threading.Thread(target=thread_1, args=(1,))\n",
    "thread2 = threading.Thread(target=thread_2, args=(2,))\n",
    "\n",
    "# Starting two threads\n",
    "thread1.start()\n",
    "thread2.start()\n"
   ]
  },
  {
   "cell_type": "markdown",
   "id": "47340bb6-9646-4d72-8903-3b5f983cf0b5",
   "metadata": {},
   "source": [
    "3) join() :You can join a thread by calling the Thread.join() function."
   ]
  },
  {
   "cell_type": "code",
   "execution_count": 10,
   "id": "aad25fc0-f35d-4f7b-8e63-e0e77598c992",
   "metadata": {},
   "outputs": [
    {
     "name": "stdout",
     "output_type": "stream",
     "text": [
      "Main: Waiting for thread to terminate...\n",
      "All done in the new thread\n",
      "Main: Continuing on\n"
     ]
    }
   ],
   "source": [
    "from time import sleep\n",
    "from threading import Thread\n",
    " \n",
    "# target function\n",
    "def task():\n",
    "    # block for a moment\n",
    "    sleep(1)\n",
    "    # report a message\n",
    "    print('All done in the new thread')\n",
    " \n",
    "# create a new thread\n",
    "thread = Thread(target=task)\n",
    "# start the new thread\n",
    "thread.start()\n",
    "# wait for the new thread to finish\n",
    "print('Main: Waiting for thread to terminate...')\n",
    "thread.join()\n",
    "# continue on\n",
    "print('Main: Continuing on')"
   ]
  },
  {
   "cell_type": "markdown",
   "id": "d1f80120-c2dd-4c47-aedd-a04f61482987",
   "metadata": {},
   "source": [
    "Isalive():The Thread.is_alive() method is an inbuilt method of the Thread class of the threading module, it is used to check whether that thread is alive or not, ie, it is still running or not. This method returns True before the run() starts until just after the run() method is executed."
   ]
  },
  {
   "cell_type": "code",
   "execution_count": 11,
   "id": "753e226f-8bea-48a2-8ce9-099d1b2227f0",
   "metadata": {},
   "outputs": [
    {
     "name": "stdout",
     "output_type": "stream",
     "text": [
      "Is thread1 alive: False\n",
      "Is thread2 alive: False\n",
      "\n",
      "Value by Thread 2: 2\n",
      "Is thread1 alive: True\n",
      "Is thread2 alive: False\n",
      "Value by Thread 1: 1\n"
     ]
    }
   ],
   "source": [
    "# Python program to explain the\n",
    "# use of is_alive() method\n",
    "\n",
    "import time\n",
    "import threading\n",
    "\n",
    "def thread_1(i):\n",
    "    time.sleep(5)\n",
    "    print('Value by Thread 1:', i)\n",
    "\n",
    "def thread_2(i):\n",
    "    print('Value by Thread 2:', i)\n",
    "    \n",
    "# Creating three sample threads \n",
    "thread1 = threading.Thread(target=thread_1, args=(1,))\n",
    "thread2 = threading.Thread(target=thread_2, args=(2,))\n",
    "\n",
    "# Before calling the start(), both threads are not alive\n",
    "print(\"Is thread1 alive:\", thread1.is_alive())\n",
    "print(\"Is thread2 alive:\", thread2.is_alive())\n",
    "print()\n",
    "\n",
    "thread1.start()\n",
    "thread2.start()\n",
    "# Since thread11 is on sleep for 5 seconds, it is alive\n",
    "# while thread 2 is executed instantly\n",
    "\n",
    "print(\"Is thread1 alive:\", thread1.is_alive())\n",
    "print(\"Is thread2 alive:\", thread2.is_alive())\n"
   ]
  },
  {
   "cell_type": "markdown",
   "id": "816e46cf-3885-43b4-95ba-d635270439ad",
   "metadata": {},
   "source": [
    "Q4:  Write a python program to create two threads. Thread one must print the list of squares and thread \n",
    "two must print the list of cubes"
   ]
  },
  {
   "cell_type": "code",
   "execution_count": 14,
   "id": "abeaf588-ab5b-47fa-84b9-228dbefa91e9",
   "metadata": {},
   "outputs": [
    {
     "name": "stdout",
     "output_type": "stream",
     "text": [
      "[1, 8, 27, 64, 125]\n",
      "[1, 4, 9, 16, 25]\n"
     ]
    }
   ],
   "source": [
    "import threading\n",
    "l=[1,2,3,4,5]\n",
    "l1=[]\n",
    "l2=[]\n",
    "def cube_th(l):\n",
    "    for i in l:\n",
    "        w=i*i*i\n",
    "        l1.append(w)\n",
    "      \n",
    "  \n",
    "    \n",
    "def square_th(l):\n",
    "    for i in l:\n",
    "        q=i*i\n",
    "        l2.append(q)\n",
    "        \n",
    "       \n",
    "#creating a thread \n",
    "\n",
    "t1 = threading.Thread(target=cube_th, args=(l,))\n",
    "t2 = threading.Thread(target=square_th, args=(l,))\n",
    "t1.start()\n",
    "t2.start()\n",
    "print(l1)\n",
    "print(l2)"
   ]
  },
  {
   "cell_type": "markdown",
   "id": "b554fe17-a4fc-4e32-8963-9aa74c90954d",
   "metadata": {},
   "source": [
    "Q5: ADVANTAGES: Enhanced performance by decreased development time\n",
    "Simplified and streamlined program coding\n",
    "Improvised GUI responsiveness\n",
    "Simultaneous and parallelized occurrence of tasks\n",
    "Better use of cache storage by utilization of resources\n",
    "Decreased cost of maintenance\n",
    "Better use of CPU resource\n",
    "\n",
    "Disadavantages:\n",
    "\n",
    "Complex debugging and testing processes\n",
    "Overhead switching of context\n",
    "Increased potential for deadlock occurrence\n",
    "Increased difficulty level in writing a program\n",
    "Unpredictable results"
   ]
  },
  {
   "cell_type": "markdown",
   "id": "b282f73a-97e7-4bee-9dcf-67ca440895e0",
   "metadata": {},
   "source": [
    "Q6:\n",
    "    A race condition occurs when two threads use the same variable at a given time. Deadlock exists when two threads seek one lock simultaneously.  \n",
    "    A race condition occurs when two threads use the same variable at a given time. Deadlock exists when two threads seek one lock simultaneously.  "
   ]
  },
  {
   "cell_type": "code",
   "execution_count": null,
   "id": "369ed34f-8a00-4dcd-abf9-d9b4b0a75110",
   "metadata": {},
   "outputs": [],
   "source": []
  }
 ],
 "metadata": {
  "kernelspec": {
   "display_name": "Python 3 (ipykernel)",
   "language": "python",
   "name": "python3"
  },
  "language_info": {
   "codemirror_mode": {
    "name": "ipython",
    "version": 3
   },
   "file_extension": ".py",
   "mimetype": "text/x-python",
   "name": "python",
   "nbconvert_exporter": "python",
   "pygments_lexer": "ipython3",
   "version": "3.10.8"
  }
 },
 "nbformat": 4,
 "nbformat_minor": 5
}

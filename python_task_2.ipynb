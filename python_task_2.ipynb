{
 "cells": [
  {
   "cell_type": "code",
   "execution_count": 78,
   "id": "3bff99dc-b3a1-4790-bdd7-991d179d4116",
   "metadata": {},
   "outputs": [],
   "source": [
    "#q1"
   ]
  },
  {
   "cell_type": "code",
   "execution_count": 77,
   "id": "9b4aed74-e6e0-4188-b129-f34d0339c9d5",
   "metadata": {},
   "outputs": [
    {
     "name": "stdin",
     "output_type": "stream",
     "text": [
      "enter your string 78@#$%TYqwe\n"
     ]
    }
   ],
   "source": [
    "\n",
    "s=input(\"enter your string\")"
   ]
  },
  {
   "cell_type": "code",
   "execution_count": 79,
   "id": "d458f592-0ca3-4232-b0dc-9a43c202e9b7",
   "metadata": {},
   "outputs": [],
   "source": [
    "t=0\n",
    "for i in s:\n",
    "    if i.islower():\n",
    "                t = t+1\n",
    "                if t >=2:\n",
    "                    f= True\n",
    "                else:\n",
    "                    f=False\n",
    "        "
   ]
  },
  {
   "cell_type": "code",
   "execution_count": 80,
   "id": "50a5d596-fc84-4117-bced-fce9be4d2ee1",
   "metadata": {},
   "outputs": [],
   "source": [
    "c=0\n",
    "a=['!','@','#','$','%','^','&','*']\n",
    "\n",
    "for i in s:\n",
    "         \n",
    "            if i in a:\n",
    "                c=c+1\n",
    "                if c>=4:\n",
    "                    q=True\n",
    "                else:\n",
    "                    q=False\n",
    "\n",
    "            "
   ]
  },
  {
   "cell_type": "code",
   "execution_count": 81,
   "id": "5d22f9b5-5c03-4530-98cc-f896c69825b4",
   "metadata": {},
   "outputs": [],
   "source": [
    "g=0\n",
    "for i in s:\n",
    "    if i.isdigit() :\n",
    "                g=g+1\n",
    "                if g>=1:\n",
    "                    u=True\n",
    "                else:\n",
    "                    u=False\n",
    "    "
   ]
  },
  {
   "cell_type": "code",
   "execution_count": 82,
   "id": "5db4d33e-14cc-4196-a6bd-a8f083aded46",
   "metadata": {},
   "outputs": [],
   "source": [
    "count=0\n",
    "for i in s:\n",
    "             if i.isupper():\n",
    "                    count = count +1 \n",
    "                    if count >= 2:\n",
    "                        val = True\n",
    "                    else:\n",
    "                        val=False"
   ]
  },
  {
   "cell_type": "code",
   "execution_count": 83,
   "id": "f331136d-4fa2-4d95-8311-53b143771dc3",
   "metadata": {},
   "outputs": [
    {
     "name": "stdout",
     "output_type": "stream",
     "text": [
      "valid password\n"
     ]
    }
   ],
   "source": [
    "if len(s) >=10 :\n",
    "    if val and f and u and q:\n",
    "        print(\"valid password\")\n",
    "    else :\n",
    "        print(\"invalid password\")\n",
    "        "
   ]
  },
  {
   "cell_type": "code",
   "execution_count": 85,
   "id": "64f1481c-e64d-435a-80f1-a6d3662794ea",
   "metadata": {},
   "outputs": [],
   "source": [
    "#q2:\n",
    "y=\"abc\""
   ]
  },
  {
   "cell_type": "code",
   "execution_count": 41,
   "id": "4bdceda6-388b-4136-b0ef-a7c74671b99b",
   "metadata": {},
   "outputs": [],
   "source": [
    "p=[y[0]=='a' for i in y]"
   ]
  },
  {
   "cell_type": "code",
   "execution_count": 42,
   "id": "ab572071-d67a-4719-840b-ce7e634beed7",
   "metadata": {},
   "outputs": [
    {
     "data": {
      "text/plain": [
       "[True, True, True]"
      ]
     },
     "execution_count": 42,
     "metadata": {},
     "output_type": "execute_result"
    }
   ],
   "source": [
    "p"
   ]
  },
  {
   "cell_type": "code",
   "execution_count": 44,
   "id": "bd5e1909-9640-499b-a5f3-5a742e87eb78",
   "metadata": {},
   "outputs": [],
   "source": [
    "r=\"1234\"\n",
    "a=[r.isdigit() for i in r]"
   ]
  },
  {
   "cell_type": "code",
   "execution_count": 45,
   "id": "71486f74-3fa2-4bba-b5cb-800162aaa121",
   "metadata": {},
   "outputs": [
    {
     "data": {
      "text/plain": [
       "[True, True, True, True]"
      ]
     },
     "execution_count": 45,
     "metadata": {},
     "output_type": "execute_result"
    }
   ],
   "source": [
    "a"
   ]
  },
  {
   "cell_type": "code",
   "execution_count": 46,
   "id": "9b54e99a-be7e-48b9-87fa-b200d6883e1e",
   "metadata": {},
   "outputs": [],
   "source": [
    "l=[(\"mango\",99),(\"orange\",80), (\"grapes\", 1000)]"
   ]
  },
  {
   "cell_type": "code",
   "execution_count": 47,
   "id": "65a19048-dac8-4c7f-b308-c73873e54ce1",
   "metadata": {},
   "outputs": [],
   "source": [
    "l.sort()"
   ]
  },
  {
   "cell_type": "code",
   "execution_count": 48,
   "id": "d31d1a4b-1991-4146-b063-548d4e2395b2",
   "metadata": {},
   "outputs": [
    {
     "data": {
      "text/plain": [
       "[('grapes', 1000), ('mango', 99), ('orange', 80)]"
      ]
     },
     "execution_count": 48,
     "metadata": {},
     "output_type": "execute_result"
    }
   ],
   "source": [
    "l"
   ]
  },
  {
   "cell_type": "code",
   "execution_count": 49,
   "id": "00ad98d7-68af-44e1-9810-37582b71bccf",
   "metadata": {},
   "outputs": [],
   "source": [
    "def sort_tuple_by_quantity(tup):\n",
    "    return sorted(tup, key=lambda x: x[1])"
   ]
  },
  {
   "cell_type": "code",
   "execution_count": 50,
   "id": "33109a11-1088-43db-97d5-713b5f6c42aa",
   "metadata": {},
   "outputs": [
    {
     "data": {
      "text/plain": [
       "[('orange', 80), ('mango', 99), ('grapes', 1000)]"
      ]
     },
     "execution_count": 50,
     "metadata": {},
     "output_type": "execute_result"
    }
   ],
   "source": [
    "sort_tuple_by_quantity(l)"
   ]
  },
  {
   "cell_type": "code",
   "execution_count": 55,
   "id": "8881d8a4-c69f-4642-93d6-0e2fcb282f12",
   "metadata": {},
   "outputs": [],
   "source": [
    "s=[i**2 for i in range(1,11)]"
   ]
  },
  {
   "cell_type": "code",
   "execution_count": 56,
   "id": "9cc825ff-e991-490d-9737-36e69168a2c2",
   "metadata": {},
   "outputs": [
    {
     "data": {
      "text/plain": [
       "[1, 4, 9, 16, 25, 36, 49, 64, 81, 100]"
      ]
     },
     "execution_count": 56,
     "metadata": {},
     "output_type": "execute_result"
    }
   ],
   "source": [
    "s"
   ]
  },
  {
   "cell_type": "code",
   "execution_count": 57,
   "id": "92026d5d-0735-4fde-80a2-5ddea697e101",
   "metadata": {},
   "outputs": [],
   "source": [
    "s=[i**3 for i in range(1,11)]"
   ]
  },
  {
   "cell_type": "code",
   "execution_count": 58,
   "id": "5762c1ac-c10d-4b06-a349-abb09a725aa1",
   "metadata": {},
   "outputs": [
    {
     "data": {
      "text/plain": [
       "[1, 8, 27, 64, 125, 216, 343, 512, 729, 1000]"
      ]
     },
     "execution_count": 58,
     "metadata": {},
     "output_type": "execute_result"
    }
   ],
   "source": [
    "s"
   ]
  },
  {
   "cell_type": "code",
   "execution_count": 59,
   "id": "267e86b9-b731-45b0-af2f-4ab8975086c5",
   "metadata": {},
   "outputs": [],
   "source": [
    "num=5\n",
    "w=lambda x : x%2==0"
   ]
  },
  {
   "cell_type": "code",
   "execution_count": 60,
   "id": "270c7dea-ede1-4a5a-8dd8-5431fa232c6f",
   "metadata": {},
   "outputs": [
    {
     "data": {
      "text/plain": [
       "<function __main__.<lambda>(x)>"
      ]
     },
     "execution_count": 60,
     "metadata": {},
     "output_type": "execute_result"
    }
   ],
   "source": [
    "w"
   ]
  },
  {
   "cell_type": "code",
   "execution_count": 61,
   "id": "cfb5d93a-5c0e-4ff5-b32a-33ab320bec90",
   "metadata": {},
   "outputs": [
    {
     "name": "stdout",
     "output_type": "stream",
     "text": [
      "False\n"
     ]
    }
   ],
   "source": [
    "print(w(num))"
   ]
  },
  {
   "cell_type": "code",
   "execution_count": 67,
   "id": "cf30020f-7f9a-4780-8e32-b5e82220443e",
   "metadata": {},
   "outputs": [
    {
     "name": "stdout",
     "output_type": "stream",
     "text": [
      "Original List: [1, 2, 3, 4, 5, 6, 7, 8, 9, 10]\n",
      "Filtered List: [1, 3, 5, 7, 9]\n"
     ]
    }
   ],
   "source": [
    "def is_odd(num):\n",
    "    return num % 2 != 0\n",
    "\n",
    "original_list = [1, 2, 3, 4, 5, 6, 7, 8, 9, 10]\n",
    "filtered_list = list(filter(is_odd, original_list))\n",
    "print(\"Original List:\", original_list)\n",
    "print(\"Filtered List:\", filtered_list)"
   ]
  },
  {
   "cell_type": "code",
   "execution_count": 72,
   "id": "be0efad9-b4af-443e-adb8-a2868c10fd0c",
   "metadata": {},
   "outputs": [],
   "source": [
    "p=[i for i in l if i>0]"
   ]
  },
  {
   "cell_type": "code",
   "execution_count": 71,
   "id": "22260871-d332-4882-8055-6c07d57a5e1f",
   "metadata": {},
   "outputs": [],
   "source": [
    "l=[1,2,3,4,5,6,-1,-2,-3,-4,-5,0]"
   ]
  },
  {
   "cell_type": "code",
   "execution_count": 73,
   "id": "4992a813-3c9c-4e61-a23e-fa208556c25a",
   "metadata": {},
   "outputs": [
    {
     "data": {
      "text/plain": [
       "[1, 2, 3, 4, 5, 6]"
      ]
     },
     "execution_count": 73,
     "metadata": {},
     "output_type": "execute_result"
    }
   ],
   "source": [
    "p"
   ]
  },
  {
   "cell_type": "code",
   "execution_count": 75,
   "id": "69d42bb5-061e-47e8-aa29-be24d03fad20",
   "metadata": {},
   "outputs": [],
   "source": [
    "r=[i for i in l if i<0]"
   ]
  },
  {
   "cell_type": "code",
   "execution_count": 76,
   "id": "750ed25c-c085-43fa-abe5-daafad58a568",
   "metadata": {},
   "outputs": [
    {
     "data": {
      "text/plain": [
       "[-1, -2, -3, -4, -5]"
      ]
     },
     "execution_count": 76,
     "metadata": {},
     "output_type": "execute_result"
    }
   ],
   "source": [
    "r"
   ]
  },
  {
   "cell_type": "code",
   "execution_count": null,
   "id": "806d4db9-d07f-4843-ac18-15b879307b30",
   "metadata": {},
   "outputs": [],
   "source": []
  }
 ],
 "metadata": {
  "kernelspec": {
   "display_name": "Python 3 (ipykernel)",
   "language": "python",
   "name": "python3"
  },
  "language_info": {
   "codemirror_mode": {
    "name": "ipython",
    "version": 3
   },
   "file_extension": ".py",
   "mimetype": "text/x-python",
   "name": "python",
   "nbconvert_exporter": "python",
   "pygments_lexer": "ipython3",
   "version": "3.10.8"
  }
 },
 "nbformat": 4,
 "nbformat_minor": 5
}

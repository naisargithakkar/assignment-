{
 "cells": [
  {
   "cell_type": "markdown",
   "id": "17562e4b-e15f-4963-84a9-461304511fcd",
   "metadata": {},
   "source": [
    "q1:\n",
    "   \n",
    "\n",
    "1. **Support Vector Machine (SVM)**:\n",
    "   - An SVM is a supervised machine learning algorithm used for binary classification. It aims to find an optimal hyperplane that effectively separates two classes in a dataset.\n",
    "   - The key idea is to maximize the margin between the classes while minimizing the norm of the weight vector.\n",
    "   - SVMs are particularly powerful due to their use of the **Kernel method**, which handles non-linearity efficiently.\n",
    "\n",
    "2. **Linear SVM**:\n",
    "   - A linear SVM focuses on linearly separable data.\n",
    "   - The decision boundary (hyperplane) is defined by the equation:\n",
    "     \\[ f(\\mathbf{X}) = \\mathbf{w}^T \\cdot \\mathbf{X} + b \\]\n",
    "     - Here:\n",
    "       - \\(\\mathbf{X}\\) represents the input data (feature vector).\n",
    "       - \\(\\mathbf{w}\\) is the weight vector that we aim to minimize.\n",
    "       - \\(b\\) is the linear coefficient estimated from the training data.\n",
    "   - The SVM classifies data points based on whether \\(f(\\mathbf{X})\\) is positive or negative.\n",
    "\n",
    "3. **Kernel Trick**:\n",
    "   - While linear SVMs work well for linearly separable data, SVMs can handle non-linear data by using different kernel functions (e.g., polynomial, radial basis function).\n",
    "   - The kernel function implicitly maps the data into a higher-dimensional space, making it linearly separable.\n",
    "\n",
    "Remember, this mathematical framework allows SVMs to efficiently classify data points, even when the decision boundary is not a simple straight line. 🚀\n",
    "\n"
   ]
  },
  {
   "cell_type": "markdown",
   "id": "f5ed34e2-6d77-49c4-94d1-74d72d422b64",
   "metadata": {},
   "source": [
    "q2:\n",
    "    \n",
    "1. **Objective of SVM**:\n",
    "   - The primary goal of an SVM is to find an optimal hyperplane in an N-dimensional space that effectively separates data points belonging to different classes.\n",
    "   - Specifically, the SVM aims to maximize the margin between the closest points of different classes.\n",
    "\n",
    "2. **Margin and Support Vectors**:\n",
    "   - The **margin** is the distance between the hyperplane and the nearest data points (support vectors) from both classes.\n",
    "   - Support vectors are the critical data points that lie closest to the decision boundary.\n",
    "\n",
    "3. **Maximizing the Margin**:\n",
    "   - The optimal hyperplane is the one that maximizes this margin.\n",
    "   - Mathematically, we want to find the weight vector \\(\\mathbf{w}\\) and bias term \\(b\\) such that:\n",
    "     \\[ f(\\mathbf{X}) = \\mathbf{w}^T \\cdot \\mathbf{X} + b \\]\n",
    "     - Here:\n",
    "       - \\(\\mathbf{X}\\) represents the input data (feature vector).\n",
    "       - \\(\\mathbf{w}\\) is the weight vector.\n",
    "       - \\(b\\) is the bias term.\n",
    "   - The margin is proportional to the reciprocal of the norm of \\(\\mathbf{w}\\).\n",
    "\n",
    "4. **Hard Margin and Soft Margin**:\n",
    "   - If the data is linearly separable, we aim for a **maximum-margin hyperplane** (hard margin).\n",
    "   - However, real-world data often contains noise or outliers. In such cases, we use a **soft margin** that allows for some misclassification.\n",
    "   - The soft margin introduces a penalty for misclassified points.\n",
    "\n",
    "5. **Optimization Objective**:\n",
    "   - The SVM optimization problem involves minimizing the norm of \\(\\mathbf{w}\\) subject to the constraint that data points are correctly classified (or within the margin).\n",
    "   - The objective function (Lagrangian) for the soft-margin SVM is:\n",
    "     \\[ \\min_{\\mathbf{w}, b} \\frac{1}{2} \\| \\mathbf{w} \\|^2 + C \\sum_{i=1}^{N} \\xi_i \\]\n",
    "     - Here:\n",
    "       - \\(\\xi_i\\) represents the slack variable for each data point.\n",
    "       - \\(C\\) is the regularization parameter that balances margin maximization and misclassification penalty.\n",
    "\n",
    "6. **Kernel Trick**:\n",
    "   - SVMs can handle non-linear data by using kernel functions (e.g., polynomial, radial basis function).\n",
    "   - The kernel implicitly maps data into a higher-dimensional space, making it linearly separable.\n",
    "\n",
    "In summary, the SVM's objective is to find the best hyperplane that maximizes the margin while considering misclassification penalties. It's a powerful algorithm for both classification and regression tasks! 🚀\n",
    "\n",
    "\n"
   ]
  },
  {
   "cell_type": "markdown",
   "id": "f4ecf3ac-97d0-4ce9-9b50-4820379c8e73",
   "metadata": {},
   "source": [
    "q3:\n",
    "    Certainly! Let's explore the concept of the **Kernel Trick** in the context of **Support Vector Machines (SVM)**.\n",
    "\n",
    "1. **What is SVM?**\n",
    "   - An SVM is a powerful supervised machine learning algorithm used for both classification and regression tasks.\n",
    "   - Its primary goal is to find an optimal hyperplane that effectively separates data points belonging to different classes.\n",
    "\n",
    "2. **Linear SVM and Limitations**:\n",
    "   - Initially, SVMs worked linearly, aiming to find a hyperplane in the input space.\n",
    "   - However, real-world data is often non-linear, and linear separation may not be sufficient.\n",
    "\n",
    "3. **Non-linear Data and Kernel Trick**:\n",
    "   - **Non-linear SVM** addresses this limitation by using the **kernel concept**.\n",
    "   - The kernel trick allows SVMs to work well with non-linear data.\n",
    "   - Instead of explicitly transforming data into a higher-dimensional space, the kernel trick computes pairwise similarities between original data points.\n",
    "\n",
    "4. **How Does the Kernel Trick Work?**\n",
    "   - Imagine we have data points \\(\\mathbf{x}_1, \\mathbf{x}_2, \\ldots, \\mathbf{x}_N\\) in the original feature space.\n",
    "   - The kernel function \\(K(\\mathbf{x}_i, \\mathbf{x}_j)\\) computes the similarity (dot product) between \\(\\mathbf{x}_i\\) and \\(\\mathbf{x}_j\\).\n",
    "   - The SVM optimization problem involves maximizing the margin while using these kernel similarities.\n",
    "\n",
    "5. **Advantages of the Kernel Trick**:\n",
    "   - **Efficiency**: Instead of explicitly mapping data to a higher-dimensional space, we work with kernel similarities directly.\n",
    "   - **Flexibility**: Various kernel functions (e.g., polynomial, radial basis function) allow SVMs to handle diverse data distributions.\n",
    "   - **Non-linearity**: The kernel trick enables SVMs to find non-linear decision boundaries.\n",
    "\n",
    "6. **Examples of Kernel Functions**:\n",
    "   - **Polynomial Kernel**: \\(K(\\mathbf{x}_i, \\mathbf{x}_j) = (\\mathbf{x}_i^T \\mathbf{x}_j + c)^d\\)\n",
    "   - **Radial Basis Function (RBF) Kernel**: \\(K(\\mathbf{x}_i, \\mathbf{x}_j) = \\exp\\left(-\\frac{\\|\\mathbf{x}_i - \\mathbf{x}_j\\|^2}{2\\sigma^2}\\right)\\)\n",
    "\n",
    "In summary, the kernel trick allows SVMs to operate in a high-dimensional space without explicitly transforming data. It's a clever way to handle non-linearities and achieve accurate classification! 🚀\n"
   ]
  },
  {
   "cell_type": "markdown",
   "id": "3f967e7e-4c18-4b25-ab0b-3a50becdb22e",
   "metadata": {},
   "source": [
    "q4:\n",
    "    Certainly! Let's explore the role of **support vectors** in a **Support Vector Machine (SVM)**.\n",
    "\n",
    "1. **What are Support Vectors?**\n",
    "   - Support vectors are crucial data points that play a pivotal role in defining the SVM model.\n",
    "   - These points lie closest to the decision surface (or hyperplane) and significantly influence its position and orientation.\n",
    "   - Support vectors are the data points that are most difficult to classify.\n",
    "\n",
    "2. **Maximizing the Margin:**\n",
    "   - The primary objective of SVM is to find the optimal hyperplane that maximizes the margin between different classes.\n",
    "   - The margin is the distance between the hyperplane and the closest observations (support vectors).\n",
    "   - By using these support vectors, we ensure that the margin of the classifier is as large as possible.\n",
    "\n",
    "3. **Effect on Hyperplane Position:**\n",
    "   - Deleting or altering the support vectors will directly impact the position of the hyperplane.\n",
    "   - The SVM algorithm identifies these critical points to build an effective decision boundary.\n",
    "\n",
    "4. **Example: Linearly Separable Data**\n",
    "   - Consider a scenario with two classes: blue circles and red circles.\n",
    "   - Our goal is to find the best hyperplane (line) that segregates these data points.\n",
    "   - Multiple hyperplanes can separate the data, but we choose the one with the largest separation (margin).\n",
    "   - The hyperplane that maximizes the distance to the nearest data points on each side is known as the **maximum-margin hyperplane** (or hard margin).\n",
    "   - Outliers (like a blue ball near the boundary of red balls) are ignored by SVM, ensuring robustness.\n",
    "\n",
    "   ![Linearly Separable Data](https://i.imgur.com/7zX9f6H.png)\n",
    "\n",
    "5. **Optimal Hyperplane:**\n",
    "   - The most optimized hyperplane balances margin maximization and misclassification penalties.\n",
    "   - SVM finds the maximum margin while penalizing points that cross the margin.\n",
    "\n",
    "In summary, support vectors guide the SVM to construct an effective decision boundary, even in complex data scenarios. They are essential for achieving accurate classification! 🚀\n",
    "\n"
   ]
  },
  {
   "cell_type": "markdown",
   "id": "6d218dc3-c672-4be7-8305-a04960549856",
   "metadata": {},
   "source": [
    "q5:\n",
    "    Let's delve into the concepts of **Hyperplane**, **Marginal Plane**, **Soft Margin**, and **Hard Margin** in the context of **Support Vector Machines (SVM)**.\n",
    "\n",
    "1. **Hyperplane**:\n",
    "   - A hyperplane is a decision boundary that separates data points belonging to different classes in an N-dimensional space.\n",
    "   - In a two-dimensional space, a hyperplane is a line; in three dimensions, it's a plane.\n",
    "   - Mathematically, a hyperplane is represented by the equation:\n",
    "     \\[ f(\\mathbf{X}) = \\mathbf{w}^T \\cdot \\mathbf{X} + b \\]\n",
    "     - Here:\n",
    "       - \\(\\mathbf{X}\\) represents the input data (feature vector).\n",
    "       - \\(\\mathbf{w}\\) is the weight vector perpendicular to the hyperplane.\n",
    "       - \\(b\\) is the bias term.\n",
    "   - The goal is to find the best hyperplane that maximizes the margin between the classes.\n",
    "\n",
    "2. **Marginal Plane**:\n",
    "   - The margin is the distance between the hyperplane and the nearest data points (support vectors) from each class.\n",
    "   - The marginal planes are parallel to the decision boundary (hyperplane) and pass through the support vectors.\n",
    "   - These planes define the margin width.\n",
    "\n",
    "3. **Soft Margin**:\n",
    "   - In real-world scenarios, data is often not perfectly separable.\n",
    "   - Soft margin SVM introduces flexibility by allowing some margin violations (misclassifications).\n",
    "   - It handles cases where the data is not linearly separable.\n",
    "   - Suitable for scenarios with noise or outliers.\n",
    "\n",
    "4. **Hard Margin**:\n",
    "   - In a hard margin SVM, the objective is to find a hyperplane that completely separates data points of different classes.\n",
    "   - It ensures a clear demarcation with the utmost margin width possible.\n",
    "   - Ideal for perfectly separable data.\n",
    "\n",
    "Now, let's visualize these concepts:\n",
    "\n",
    "\n",
    "- **Hyperplane**: The black solid line represents the hyperplane. The dashed lines on both sides are the margins. Data points falling on the margin are support vectors.\n",
    "- **Soft Margin**: When there are outliers (like the blue ball near the boundary of red balls), SVM ignores them and finds the best hyperplane that maximizes the margin.\n",
    "- **Hard Margin**: In the absence of outliers, SVM ensures perfect separation.\n",
    "\n"
   ]
  },
  {
   "cell_type": "code",
   "execution_count": 2,
   "id": "b4ac711b-8c0c-4f0d-bbae-562e4f2193ec",
   "metadata": {},
   "outputs": [],
   "source": [
    "#q6\n",
    "import pandas as pd"
   ]
  },
  {
   "cell_type": "code",
   "execution_count": 3,
   "id": "ab45aacb-6e35-48f6-9e51-661aeba8e87a",
   "metadata": {},
   "outputs": [],
   "source": [
    "import numpy as np"
   ]
  },
  {
   "cell_type": "code",
   "execution_count": 4,
   "id": "b42f653b-c88a-4c81-a3d4-7e80ec7717a5",
   "metadata": {},
   "outputs": [],
   "source": [
    "import seaborn as sns"
   ]
  },
  {
   "cell_type": "code",
   "execution_count": 5,
   "id": "603dc8ac-e440-408b-a7fc-10c8ec31d87b",
   "metadata": {},
   "outputs": [],
   "source": [
    "df=sns.load_dataset('iris')"
   ]
  },
  {
   "cell_type": "code",
   "execution_count": 6,
   "id": "3b0cc39a-f266-4cce-bbf8-868a694cc6fd",
   "metadata": {},
   "outputs": [
    {
     "data": {
      "text/html": [
       "<div>\n",
       "<style scoped>\n",
       "    .dataframe tbody tr th:only-of-type {\n",
       "        vertical-align: middle;\n",
       "    }\n",
       "\n",
       "    .dataframe tbody tr th {\n",
       "        vertical-align: top;\n",
       "    }\n",
       "\n",
       "    .dataframe thead th {\n",
       "        text-align: right;\n",
       "    }\n",
       "</style>\n",
       "<table border=\"1\" class=\"dataframe\">\n",
       "  <thead>\n",
       "    <tr style=\"text-align: right;\">\n",
       "      <th></th>\n",
       "      <th>sepal_length</th>\n",
       "      <th>sepal_width</th>\n",
       "      <th>petal_length</th>\n",
       "      <th>petal_width</th>\n",
       "      <th>species</th>\n",
       "    </tr>\n",
       "  </thead>\n",
       "  <tbody>\n",
       "    <tr>\n",
       "      <th>0</th>\n",
       "      <td>5.1</td>\n",
       "      <td>3.5</td>\n",
       "      <td>1.4</td>\n",
       "      <td>0.2</td>\n",
       "      <td>setosa</td>\n",
       "    </tr>\n",
       "    <tr>\n",
       "      <th>1</th>\n",
       "      <td>4.9</td>\n",
       "      <td>3.0</td>\n",
       "      <td>1.4</td>\n",
       "      <td>0.2</td>\n",
       "      <td>setosa</td>\n",
       "    </tr>\n",
       "    <tr>\n",
       "      <th>2</th>\n",
       "      <td>4.7</td>\n",
       "      <td>3.2</td>\n",
       "      <td>1.3</td>\n",
       "      <td>0.2</td>\n",
       "      <td>setosa</td>\n",
       "    </tr>\n",
       "    <tr>\n",
       "      <th>3</th>\n",
       "      <td>4.6</td>\n",
       "      <td>3.1</td>\n",
       "      <td>1.5</td>\n",
       "      <td>0.2</td>\n",
       "      <td>setosa</td>\n",
       "    </tr>\n",
       "    <tr>\n",
       "      <th>4</th>\n",
       "      <td>5.0</td>\n",
       "      <td>3.6</td>\n",
       "      <td>1.4</td>\n",
       "      <td>0.2</td>\n",
       "      <td>setosa</td>\n",
       "    </tr>\n",
       "  </tbody>\n",
       "</table>\n",
       "</div>"
      ],
      "text/plain": [
       "   sepal_length  sepal_width  petal_length  petal_width species\n",
       "0           5.1          3.5           1.4          0.2  setosa\n",
       "1           4.9          3.0           1.4          0.2  setosa\n",
       "2           4.7          3.2           1.3          0.2  setosa\n",
       "3           4.6          3.1           1.5          0.2  setosa\n",
       "4           5.0          3.6           1.4          0.2  setosa"
      ]
     },
     "execution_count": 6,
     "metadata": {},
     "output_type": "execute_result"
    }
   ],
   "source": [
    "df.head()"
   ]
  },
  {
   "cell_type": "code",
   "execution_count": 7,
   "id": "5aaf1ef8-4539-41af-9dce-0b30cfb64b9a",
   "metadata": {},
   "outputs": [],
   "source": [
    "x=df.drop(\"species\",axis=1)"
   ]
  },
  {
   "cell_type": "code",
   "execution_count": 8,
   "id": "c2ac9dde-8d7b-422f-858e-cd930fd66341",
   "metadata": {},
   "outputs": [
    {
     "data": {
      "text/html": [
       "<div>\n",
       "<style scoped>\n",
       "    .dataframe tbody tr th:only-of-type {\n",
       "        vertical-align: middle;\n",
       "    }\n",
       "\n",
       "    .dataframe tbody tr th {\n",
       "        vertical-align: top;\n",
       "    }\n",
       "\n",
       "    .dataframe thead th {\n",
       "        text-align: right;\n",
       "    }\n",
       "</style>\n",
       "<table border=\"1\" class=\"dataframe\">\n",
       "  <thead>\n",
       "    <tr style=\"text-align: right;\">\n",
       "      <th></th>\n",
       "      <th>sepal_length</th>\n",
       "      <th>sepal_width</th>\n",
       "      <th>petal_length</th>\n",
       "      <th>petal_width</th>\n",
       "    </tr>\n",
       "  </thead>\n",
       "  <tbody>\n",
       "    <tr>\n",
       "      <th>0</th>\n",
       "      <td>5.1</td>\n",
       "      <td>3.5</td>\n",
       "      <td>1.4</td>\n",
       "      <td>0.2</td>\n",
       "    </tr>\n",
       "    <tr>\n",
       "      <th>1</th>\n",
       "      <td>4.9</td>\n",
       "      <td>3.0</td>\n",
       "      <td>1.4</td>\n",
       "      <td>0.2</td>\n",
       "    </tr>\n",
       "    <tr>\n",
       "      <th>2</th>\n",
       "      <td>4.7</td>\n",
       "      <td>3.2</td>\n",
       "      <td>1.3</td>\n",
       "      <td>0.2</td>\n",
       "    </tr>\n",
       "    <tr>\n",
       "      <th>3</th>\n",
       "      <td>4.6</td>\n",
       "      <td>3.1</td>\n",
       "      <td>1.5</td>\n",
       "      <td>0.2</td>\n",
       "    </tr>\n",
       "    <tr>\n",
       "      <th>4</th>\n",
       "      <td>5.0</td>\n",
       "      <td>3.6</td>\n",
       "      <td>1.4</td>\n",
       "      <td>0.2</td>\n",
       "    </tr>\n",
       "    <tr>\n",
       "      <th>...</th>\n",
       "      <td>...</td>\n",
       "      <td>...</td>\n",
       "      <td>...</td>\n",
       "      <td>...</td>\n",
       "    </tr>\n",
       "    <tr>\n",
       "      <th>145</th>\n",
       "      <td>6.7</td>\n",
       "      <td>3.0</td>\n",
       "      <td>5.2</td>\n",
       "      <td>2.3</td>\n",
       "    </tr>\n",
       "    <tr>\n",
       "      <th>146</th>\n",
       "      <td>6.3</td>\n",
       "      <td>2.5</td>\n",
       "      <td>5.0</td>\n",
       "      <td>1.9</td>\n",
       "    </tr>\n",
       "    <tr>\n",
       "      <th>147</th>\n",
       "      <td>6.5</td>\n",
       "      <td>3.0</td>\n",
       "      <td>5.2</td>\n",
       "      <td>2.0</td>\n",
       "    </tr>\n",
       "    <tr>\n",
       "      <th>148</th>\n",
       "      <td>6.2</td>\n",
       "      <td>3.4</td>\n",
       "      <td>5.4</td>\n",
       "      <td>2.3</td>\n",
       "    </tr>\n",
       "    <tr>\n",
       "      <th>149</th>\n",
       "      <td>5.9</td>\n",
       "      <td>3.0</td>\n",
       "      <td>5.1</td>\n",
       "      <td>1.8</td>\n",
       "    </tr>\n",
       "  </tbody>\n",
       "</table>\n",
       "<p>150 rows × 4 columns</p>\n",
       "</div>"
      ],
      "text/plain": [
       "     sepal_length  sepal_width  petal_length  petal_width\n",
       "0             5.1          3.5           1.4          0.2\n",
       "1             4.9          3.0           1.4          0.2\n",
       "2             4.7          3.2           1.3          0.2\n",
       "3             4.6          3.1           1.5          0.2\n",
       "4             5.0          3.6           1.4          0.2\n",
       "..            ...          ...           ...          ...\n",
       "145           6.7          3.0           5.2          2.3\n",
       "146           6.3          2.5           5.0          1.9\n",
       "147           6.5          3.0           5.2          2.0\n",
       "148           6.2          3.4           5.4          2.3\n",
       "149           5.9          3.0           5.1          1.8\n",
       "\n",
       "[150 rows x 4 columns]"
      ]
     },
     "execution_count": 8,
     "metadata": {},
     "output_type": "execute_result"
    }
   ],
   "source": [
    "x"
   ]
  },
  {
   "cell_type": "code",
   "execution_count": 9,
   "id": "3d71fe4f-e7ea-4711-81ca-0307813b8be2",
   "metadata": {},
   "outputs": [
    {
     "data": {
      "text/plain": [
       "array(['setosa', 'versicolor', 'virginica'], dtype=object)"
      ]
     },
     "execution_count": 9,
     "metadata": {},
     "output_type": "execute_result"
    }
   ],
   "source": [
    "df[\"species\"].unique()"
   ]
  },
  {
   "cell_type": "code",
   "execution_count": 10,
   "id": "dc675b45-ebf6-4f73-9630-af3c9779d3e1",
   "metadata": {},
   "outputs": [],
   "source": [
    "d={\"setosa\":0,\"versicolor\":1,\"virginica\":2}"
   ]
  },
  {
   "cell_type": "code",
   "execution_count": 11,
   "id": "1750e185-5985-4050-8fef-4b93e5ee5fc2",
   "metadata": {},
   "outputs": [],
   "source": [
    "df.replace({\"species\": d} , inplace=True)"
   ]
  },
  {
   "cell_type": "code",
   "execution_count": 12,
   "id": "ff69a740-d5a9-4fc8-8ad3-f4fcbca44424",
   "metadata": {},
   "outputs": [
    {
     "data": {
      "text/html": [
       "<div>\n",
       "<style scoped>\n",
       "    .dataframe tbody tr th:only-of-type {\n",
       "        vertical-align: middle;\n",
       "    }\n",
       "\n",
       "    .dataframe tbody tr th {\n",
       "        vertical-align: top;\n",
       "    }\n",
       "\n",
       "    .dataframe thead th {\n",
       "        text-align: right;\n",
       "    }\n",
       "</style>\n",
       "<table border=\"1\" class=\"dataframe\">\n",
       "  <thead>\n",
       "    <tr style=\"text-align: right;\">\n",
       "      <th></th>\n",
       "      <th>sepal_length</th>\n",
       "      <th>sepal_width</th>\n",
       "      <th>petal_length</th>\n",
       "      <th>petal_width</th>\n",
       "      <th>species</th>\n",
       "    </tr>\n",
       "  </thead>\n",
       "  <tbody>\n",
       "    <tr>\n",
       "      <th>0</th>\n",
       "      <td>5.1</td>\n",
       "      <td>3.5</td>\n",
       "      <td>1.4</td>\n",
       "      <td>0.2</td>\n",
       "      <td>0</td>\n",
       "    </tr>\n",
       "    <tr>\n",
       "      <th>1</th>\n",
       "      <td>4.9</td>\n",
       "      <td>3.0</td>\n",
       "      <td>1.4</td>\n",
       "      <td>0.2</td>\n",
       "      <td>0</td>\n",
       "    </tr>\n",
       "    <tr>\n",
       "      <th>2</th>\n",
       "      <td>4.7</td>\n",
       "      <td>3.2</td>\n",
       "      <td>1.3</td>\n",
       "      <td>0.2</td>\n",
       "      <td>0</td>\n",
       "    </tr>\n",
       "    <tr>\n",
       "      <th>3</th>\n",
       "      <td>4.6</td>\n",
       "      <td>3.1</td>\n",
       "      <td>1.5</td>\n",
       "      <td>0.2</td>\n",
       "      <td>0</td>\n",
       "    </tr>\n",
       "    <tr>\n",
       "      <th>4</th>\n",
       "      <td>5.0</td>\n",
       "      <td>3.6</td>\n",
       "      <td>1.4</td>\n",
       "      <td>0.2</td>\n",
       "      <td>0</td>\n",
       "    </tr>\n",
       "    <tr>\n",
       "      <th>...</th>\n",
       "      <td>...</td>\n",
       "      <td>...</td>\n",
       "      <td>...</td>\n",
       "      <td>...</td>\n",
       "      <td>...</td>\n",
       "    </tr>\n",
       "    <tr>\n",
       "      <th>145</th>\n",
       "      <td>6.7</td>\n",
       "      <td>3.0</td>\n",
       "      <td>5.2</td>\n",
       "      <td>2.3</td>\n",
       "      <td>2</td>\n",
       "    </tr>\n",
       "    <tr>\n",
       "      <th>146</th>\n",
       "      <td>6.3</td>\n",
       "      <td>2.5</td>\n",
       "      <td>5.0</td>\n",
       "      <td>1.9</td>\n",
       "      <td>2</td>\n",
       "    </tr>\n",
       "    <tr>\n",
       "      <th>147</th>\n",
       "      <td>6.5</td>\n",
       "      <td>3.0</td>\n",
       "      <td>5.2</td>\n",
       "      <td>2.0</td>\n",
       "      <td>2</td>\n",
       "    </tr>\n",
       "    <tr>\n",
       "      <th>148</th>\n",
       "      <td>6.2</td>\n",
       "      <td>3.4</td>\n",
       "      <td>5.4</td>\n",
       "      <td>2.3</td>\n",
       "      <td>2</td>\n",
       "    </tr>\n",
       "    <tr>\n",
       "      <th>149</th>\n",
       "      <td>5.9</td>\n",
       "      <td>3.0</td>\n",
       "      <td>5.1</td>\n",
       "      <td>1.8</td>\n",
       "      <td>2</td>\n",
       "    </tr>\n",
       "  </tbody>\n",
       "</table>\n",
       "<p>150 rows × 5 columns</p>\n",
       "</div>"
      ],
      "text/plain": [
       "     sepal_length  sepal_width  petal_length  petal_width  species\n",
       "0             5.1          3.5           1.4          0.2        0\n",
       "1             4.9          3.0           1.4          0.2        0\n",
       "2             4.7          3.2           1.3          0.2        0\n",
       "3             4.6          3.1           1.5          0.2        0\n",
       "4             5.0          3.6           1.4          0.2        0\n",
       "..            ...          ...           ...          ...      ...\n",
       "145           6.7          3.0           5.2          2.3        2\n",
       "146           6.3          2.5           5.0          1.9        2\n",
       "147           6.5          3.0           5.2          2.0        2\n",
       "148           6.2          3.4           5.4          2.3        2\n",
       "149           5.9          3.0           5.1          1.8        2\n",
       "\n",
       "[150 rows x 5 columns]"
      ]
     },
     "execution_count": 12,
     "metadata": {},
     "output_type": "execute_result"
    }
   ],
   "source": [
    "df"
   ]
  },
  {
   "cell_type": "code",
   "execution_count": 13,
   "id": "173dd431-8cb9-4e9b-936f-378c0b45ab34",
   "metadata": {},
   "outputs": [],
   "source": [
    "y=df['species']"
   ]
  },
  {
   "cell_type": "code",
   "execution_count": 14,
   "id": "4728e7bc-ded2-42b2-b31c-69777ab81551",
   "metadata": {},
   "outputs": [
    {
     "data": {
      "text/plain": [
       "0      0\n",
       "1      0\n",
       "2      0\n",
       "3      0\n",
       "4      0\n",
       "      ..\n",
       "145    2\n",
       "146    2\n",
       "147    2\n",
       "148    2\n",
       "149    2\n",
       "Name: species, Length: 150, dtype: int64"
      ]
     },
     "execution_count": 14,
     "metadata": {},
     "output_type": "execute_result"
    }
   ],
   "source": [
    "y\n"
   ]
  },
  {
   "cell_type": "code",
   "execution_count": 15,
   "id": "85e18414-0652-4249-9327-23d9004f7f21",
   "metadata": {},
   "outputs": [],
   "source": [
    "from sklearn.model_selection import train_test_split"
   ]
  },
  {
   "cell_type": "code",
   "execution_count": 20,
   "id": "63a45a43-d4bf-42f1-aaa4-4085626ad4ec",
   "metadata": {},
   "outputs": [],
   "source": [
    "x_train,x_test,y_train,y_test=train_test_split(x,y,random_state=42,test_size=0.33)"
   ]
  },
  {
   "cell_type": "code",
   "execution_count": 43,
   "id": "899cdc2e-bc75-4520-8c85-9e060cf50519",
   "metadata": {},
   "outputs": [],
   "source": [
    "from sklearn.preprocessing import StandardScaler\n",
    "from sklearn.svm import SVC\n"
   ]
  },
  {
   "cell_type": "code",
   "execution_count": 44,
   "id": "44e81b6c-3d59-403e-a253-4f57c1f9871f",
   "metadata": {},
   "outputs": [],
   "source": [
    "clf=SVC()"
   ]
  },
  {
   "cell_type": "code",
   "execution_count": 45,
   "id": "0f360ead-22e2-4750-af42-d866f93e0cb1",
   "metadata": {},
   "outputs": [
    {
     "data": {
      "text/html": [
       "<style>#sk-container-id-2 {color: black;background-color: white;}#sk-container-id-2 pre{padding: 0;}#sk-container-id-2 div.sk-toggleable {background-color: white;}#sk-container-id-2 label.sk-toggleable__label {cursor: pointer;display: block;width: 100%;margin-bottom: 0;padding: 0.3em;box-sizing: border-box;text-align: center;}#sk-container-id-2 label.sk-toggleable__label-arrow:before {content: \"▸\";float: left;margin-right: 0.25em;color: #696969;}#sk-container-id-2 label.sk-toggleable__label-arrow:hover:before {color: black;}#sk-container-id-2 div.sk-estimator:hover label.sk-toggleable__label-arrow:before {color: black;}#sk-container-id-2 div.sk-toggleable__content {max-height: 0;max-width: 0;overflow: hidden;text-align: left;background-color: #f0f8ff;}#sk-container-id-2 div.sk-toggleable__content pre {margin: 0.2em;color: black;border-radius: 0.25em;background-color: #f0f8ff;}#sk-container-id-2 input.sk-toggleable__control:checked~div.sk-toggleable__content {max-height: 200px;max-width: 100%;overflow: auto;}#sk-container-id-2 input.sk-toggleable__control:checked~label.sk-toggleable__label-arrow:before {content: \"▾\";}#sk-container-id-2 div.sk-estimator input.sk-toggleable__control:checked~label.sk-toggleable__label {background-color: #d4ebff;}#sk-container-id-2 div.sk-label input.sk-toggleable__control:checked~label.sk-toggleable__label {background-color: #d4ebff;}#sk-container-id-2 input.sk-hidden--visually {border: 0;clip: rect(1px 1px 1px 1px);clip: rect(1px, 1px, 1px, 1px);height: 1px;margin: -1px;overflow: hidden;padding: 0;position: absolute;width: 1px;}#sk-container-id-2 div.sk-estimator {font-family: monospace;background-color: #f0f8ff;border: 1px dotted black;border-radius: 0.25em;box-sizing: border-box;margin-bottom: 0.5em;}#sk-container-id-2 div.sk-estimator:hover {background-color: #d4ebff;}#sk-container-id-2 div.sk-parallel-item::after {content: \"\";width: 100%;border-bottom: 1px solid gray;flex-grow: 1;}#sk-container-id-2 div.sk-label:hover label.sk-toggleable__label {background-color: #d4ebff;}#sk-container-id-2 div.sk-serial::before {content: \"\";position: absolute;border-left: 1px solid gray;box-sizing: border-box;top: 0;bottom: 0;left: 50%;z-index: 0;}#sk-container-id-2 div.sk-serial {display: flex;flex-direction: column;align-items: center;background-color: white;padding-right: 0.2em;padding-left: 0.2em;position: relative;}#sk-container-id-2 div.sk-item {position: relative;z-index: 1;}#sk-container-id-2 div.sk-parallel {display: flex;align-items: stretch;justify-content: center;background-color: white;position: relative;}#sk-container-id-2 div.sk-item::before, #sk-container-id-2 div.sk-parallel-item::before {content: \"\";position: absolute;border-left: 1px solid gray;box-sizing: border-box;top: 0;bottom: 0;left: 50%;z-index: -1;}#sk-container-id-2 div.sk-parallel-item {display: flex;flex-direction: column;z-index: 1;position: relative;background-color: white;}#sk-container-id-2 div.sk-parallel-item:first-child::after {align-self: flex-end;width: 50%;}#sk-container-id-2 div.sk-parallel-item:last-child::after {align-self: flex-start;width: 50%;}#sk-container-id-2 div.sk-parallel-item:only-child::after {width: 0;}#sk-container-id-2 div.sk-dashed-wrapped {border: 1px dashed gray;margin: 0 0.4em 0.5em 0.4em;box-sizing: border-box;padding-bottom: 0.4em;background-color: white;}#sk-container-id-2 div.sk-label label {font-family: monospace;font-weight: bold;display: inline-block;line-height: 1.2em;}#sk-container-id-2 div.sk-label-container {text-align: center;}#sk-container-id-2 div.sk-container {/* jupyter's `normalize.less` sets `[hidden] { display: none; }` but bootstrap.min.css set `[hidden] { display: none !important; }` so we also need the `!important` here to be able to override the default hidden behavior on the sphinx rendered scikit-learn.org. See: https://github.com/scikit-learn/scikit-learn/issues/21755 */display: inline-block !important;position: relative;}#sk-container-id-2 div.sk-text-repr-fallback {display: none;}</style><div id=\"sk-container-id-2\" class=\"sk-top-container\"><div class=\"sk-text-repr-fallback\"><pre>SVC()</pre><b>In a Jupyter environment, please rerun this cell to show the HTML representation or trust the notebook. <br />On GitHub, the HTML representation is unable to render, please try loading this page with nbviewer.org.</b></div><div class=\"sk-container\" hidden><div class=\"sk-item\"><div class=\"sk-estimator sk-toggleable\"><input class=\"sk-toggleable__control sk-hidden--visually\" id=\"sk-estimator-id-2\" type=\"checkbox\" checked><label for=\"sk-estimator-id-2\" class=\"sk-toggleable__label sk-toggleable__label-arrow\">SVC</label><div class=\"sk-toggleable__content\"><pre>SVC()</pre></div></div></div></div></div>"
      ],
      "text/plain": [
       "SVC()"
      ]
     },
     "execution_count": 45,
     "metadata": {},
     "output_type": "execute_result"
    }
   ],
   "source": [
    "clf.fit(x_train,y_train)"
   ]
  },
  {
   "cell_type": "code",
   "execution_count": 46,
   "id": "e85d3651-6780-4174-b425-f60abc1b2be3",
   "metadata": {},
   "outputs": [],
   "source": [
    "y_pred=clf.predict(x_test)"
   ]
  },
  {
   "cell_type": "code",
   "execution_count": 47,
   "id": "af25737f-0f99-4da8-9f23-2f4a41edf9a8",
   "metadata": {},
   "outputs": [
    {
     "data": {
      "text/plain": [
       "array([1, 0, 2, 1, 1, 0, 1, 2, 1, 1, 2, 0, 0, 0, 0, 1, 2, 1, 1, 2, 0, 2,\n",
       "       0, 2, 2, 2, 2, 2, 0, 0, 0, 0, 1, 0, 0, 2, 1, 0, 0, 0, 2, 1, 1, 0,\n",
       "       0, 1, 2, 2, 1, 2])"
      ]
     },
     "execution_count": 47,
     "metadata": {},
     "output_type": "execute_result"
    }
   ],
   "source": [
    "y_pred"
   ]
  },
  {
   "cell_type": "code",
   "execution_count": 48,
   "id": "8a099d81-f0a2-4605-9bce-aa9679c4538c",
   "metadata": {},
   "outputs": [],
   "source": [
    "from sklearn.metrics import accuracy_score"
   ]
  },
  {
   "cell_type": "code",
   "execution_count": 49,
   "id": "0c394a23-ec34-47cf-889c-f69be67c50a5",
   "metadata": {},
   "outputs": [],
   "source": [
    "score=accuracy_score(y_pred,y_test)"
   ]
  },
  {
   "cell_type": "code",
   "execution_count": 50,
   "id": "034e3bc2-0879-42ad-91c8-4dd91c87e5d2",
   "metadata": {},
   "outputs": [
    {
     "data": {
      "text/plain": [
       "1.0"
      ]
     },
     "execution_count": 50,
     "metadata": {},
     "output_type": "execute_result"
    }
   ],
   "source": [
    "score"
   ]
  },
  {
   "cell_type": "code",
   "execution_count": 51,
   "id": "1693fd14-1675-4127-a180-1a730124da8f",
   "metadata": {},
   "outputs": [],
   "source": [
    "import matplotlib.pyplot as plt"
   ]
  },
  {
   "cell_type": "code",
   "execution_count": 52,
   "id": "b0aad0d0-bd1a-44a5-9de4-880f4af436d2",
   "metadata": {},
   "outputs": [],
   "source": [
    "from sklearn.inspection import DecisionBoundaryDisplay\n"
   ]
  },
  {
   "cell_type": "code",
   "execution_count": 62,
   "id": "a56b1023-bc98-4820-bc00-d3d00151956b",
   "metadata": {},
   "outputs": [
    {
     "data": {
      "text/plain": [
       "<AxesSubplot: xlabel='sepal_length', ylabel='sepal_width'>"
      ]
     },
     "execution_count": 62,
     "metadata": {},
     "output_type": "execute_result"
    },
    {
     "data": {
      "image/png": "[encoded data removed]",
      "text/plain": [
       "<Figure size 640x480 with 1 Axes>"
      ]
     },
     "metadata": {},
     "output_type": "display_data"
    }
   ],
   "source": [
    "sns.scatterplot(x=df['sepal_length'],y=df['sepal_width'],hue=y)"
   ]
  },
  {
   "cell_type": "code",
   "execution_count": 70,
   "id": "990fc146-f13a-4442-a82a-a9fa55bca450",
   "metadata": {},
   "outputs": [],
   "source": [
    "from sklearn.model_selection import GridSearchCV"
   ]
  },
  {
   "cell_type": "code",
   "execution_count": 73,
   "id": "c9667abf-2459-4981-ac77-190937aea714",
   "metadata": {},
   "outputs": [],
   "source": [
    "clf=GridSearchCV(SVC(),param_grid=param_grid,refit=True,cv=5,verbose=3)"
   ]
  },
  {
   "cell_type": "code",
   "execution_count": 72,
   "id": "daaab773-1428-4525-9cb4-976b3d56bb12",
   "metadata": {},
   "outputs": [],
   "source": [
    "param_grid={'C':[0.1,1,10,100,1000],'gamma':[1,0.1,0.01,0.001,0.0001]}"
   ]
  },
  {
   "cell_type": "code",
   "execution_count": 74,
   "id": "bcf802b0-6c4e-4ac3-8cbb-2eb6fe47477e",
   "metadata": {},
   "outputs": [
    {
     "name": "stdout",
     "output_type": "stream",
     "text": [
      "Fitting 5 folds for each of 25 candidates, totalling 125 fits\n",
      "[CV 1/5] END ....................C=0.1, gamma=1;, score=0.900 total time=   0.0s\n",
      "[CV 2/5] END ....................C=0.1, gamma=1;, score=0.850 total time=   0.0s\n",
      "[CV 3/5] END ....................C=0.1, gamma=1;, score=0.900 total time=   0.0s\n",
      "[CV 4/5] END ....................C=0.1, gamma=1;, score=1.000 total time=   0.0s\n",
      "[CV 5/5] END ....................C=0.1, gamma=1;, score=0.900 total time=   0.0s\n",
      "[CV 1/5] END ..................C=0.1, gamma=0.1;, score=0.850 total time=   0.0s\n",
      "[CV 2/5] END ..................C=0.1, gamma=0.1;, score=0.900 total time=   0.0s\n",
      "[CV 3/5] END ..................C=0.1, gamma=0.1;, score=0.900 total time=   0.0s\n",
      "[CV 4/5] END ..................C=0.1, gamma=0.1;, score=1.000 total time=   0.0s\n",
      "[CV 5/5] END ..................C=0.1, gamma=0.1;, score=0.850 total time=   0.0s\n",
      "[CV 1/5] END .................C=0.1, gamma=0.01;, score=0.350 total time=   0.0s\n",
      "[CV 2/5] END .................C=0.1, gamma=0.01;, score=0.350 total time=   0.0s\n",
      "[CV 3/5] END .................C=0.1, gamma=0.01;, score=0.350 total time=   0.0s\n",
      "[CV 4/5] END .................C=0.1, gamma=0.01;, score=0.350 total time=   0.0s\n",
      "[CV 5/5] END .................C=0.1, gamma=0.01;, score=0.500 total time=   0.0s\n",
      "[CV 1/5] END ................C=0.1, gamma=0.001;, score=0.350 total time=   0.0s\n",
      "[CV 2/5] END ................C=0.1, gamma=0.001;, score=0.350 total time=   0.0s\n",
      "[CV 3/5] END ................C=0.1, gamma=0.001;, score=0.350 total time=   0.0s\n",
      "[CV 4/5] END ................C=0.1, gamma=0.001;, score=0.350 total time=   0.0s\n",
      "[CV 5/5] END ................C=0.1, gamma=0.001;, score=0.450 total time=   0.0s\n",
      "[CV 1/5] END ...............C=0.1, gamma=0.0001;, score=0.350 total time=   0.0s\n",
      "[CV 2/5] END ...............C=0.1, gamma=0.0001;, score=0.350 total time=   0.0s\n",
      "[CV 3/5] END ...............C=0.1, gamma=0.0001;, score=0.350 total time=   0.0s\n",
      "[CV 4/5] END ...............C=0.1, gamma=0.0001;, score=0.350 total time=   0.0s\n",
      "[CV 5/5] END ...............C=0.1, gamma=0.0001;, score=0.450 total time=   0.0s\n",
      "[CV 1/5] END ......................C=1, gamma=1;, score=0.950 total time=   0.0s\n",
      "[CV 2/5] END ......................C=1, gamma=1;, score=0.900 total time=   0.0s\n",
      "[CV 3/5] END ......................C=1, gamma=1;, score=0.900 total time=   0.0s\n",
      "[CV 4/5] END ......................C=1, gamma=1;, score=1.000 total time=   0.0s\n",
      "[CV 5/5] END ......................C=1, gamma=1;, score=0.950 total time=   0.0s\n",
      "[CV 1/5] END ....................C=1, gamma=0.1;, score=0.950 total time=   0.0s\n",
      "[CV 2/5] END ....................C=1, gamma=0.1;, score=0.850 total time=   0.0s\n",
      "[CV 3/5] END ....................C=1, gamma=0.1;, score=0.900 total time=   0.0s\n",
      "[CV 4/5] END ....................C=1, gamma=0.1;, score=1.000 total time=   0.0s\n",
      "[CV 5/5] END ....................C=1, gamma=0.1;, score=0.950 total time=   0.0s\n",
      "[CV 1/5] END ...................C=1, gamma=0.01;, score=1.000 total time=   0.0s\n",
      "[CV 2/5] END ...................C=1, gamma=0.01;, score=0.900 total time=   0.0s\n",
      "[CV 3/5] END ...................C=1, gamma=0.01;, score=0.950 total time=   0.0s\n",
      "[CV 4/5] END ...................C=1, gamma=0.01;, score=1.000 total time=   0.0s\n",
      "[CV 5/5] END ...................C=1, gamma=0.01;, score=0.850 total time=   0.0s\n",
      "[CV 1/5] END ..................C=1, gamma=0.001;, score=0.350 total time=   0.0s\n",
      "[CV 2/5] END ..................C=1, gamma=0.001;, score=0.350 total time=   0.0s\n",
      "[CV 3/5] END ..................C=1, gamma=0.001;, score=0.350 total time=   0.0s\n",
      "[CV 4/5] END ..................C=1, gamma=0.001;, score=0.350 total time=   0.0s\n",
      "[CV 5/5] END ..................C=1, gamma=0.001;, score=0.450 total time=   0.0s\n",
      "[CV 1/5] END .................C=1, gamma=0.0001;, score=0.350 total time=   0.0s\n",
      "[CV 2/5] END .................C=1, gamma=0.0001;, score=0.350 total time=   0.0s\n",
      "[CV 3/5] END .................C=1, gamma=0.0001;, score=0.350 total time=   0.0s\n",
      "[CV 4/5] END .................C=1, gamma=0.0001;, score=0.350 total time=   0.0s\n",
      "[CV 5/5] END .................C=1, gamma=0.0001;, score=0.450 total time=   0.0s\n",
      "[CV 1/5] END .....................C=10, gamma=1;, score=0.950 total time=   0.0s\n",
      "[CV 2/5] END .....................C=10, gamma=1;, score=0.800 total time=   0.0s\n",
      "[CV 3/5] END .....................C=10, gamma=1;, score=0.900 total time=   0.0s\n",
      "[CV 4/5] END .....................C=10, gamma=1;, score=1.000 total time=   0.0s\n",
      "[CV 5/5] END .....................C=10, gamma=1;, score=0.950 total time=   0.0s\n",
      "[CV 1/5] END ...................C=10, gamma=0.1;, score=0.950 total time=   0.0s\n",
      "[CV 2/5] END ...................C=10, gamma=0.1;, score=0.850 total time=   0.0s\n",
      "[CV 3/5] END ...................C=10, gamma=0.1;, score=0.900 total time=   0.0s\n",
      "[CV 4/5] END ...................C=10, gamma=0.1;, score=1.000 total time=   0.0s\n",
      "[CV 5/5] END ...................C=10, gamma=0.1;, score=1.000 total time=   0.0s\n",
      "[CV 1/5] END ..................C=10, gamma=0.01;, score=0.950 total time=   0.0s\n",
      "[CV 2/5] END ..................C=10, gamma=0.01;, score=0.900 total time=   0.0s\n",
      "[CV 3/5] END ..................C=10, gamma=0.01;, score=0.900 total time=   0.0s\n",
      "[CV 4/5] END ..................C=10, gamma=0.01;, score=1.000 total time=   0.0s\n",
      "[CV 5/5] END ..................C=10, gamma=0.01;, score=0.950 total time=   0.0s\n",
      "[CV 1/5] END .................C=10, gamma=0.001;, score=1.000 total time=   0.0s\n",
      "[CV 2/5] END .................C=10, gamma=0.001;, score=0.900 total time=   0.0s\n",
      "[CV 3/5] END .................C=10, gamma=0.001;, score=0.950 total time=   0.0s\n",
      "[CV 4/5] END .................C=10, gamma=0.001;, score=1.000 total time=   0.0s\n",
      "[CV 5/5] END .................C=10, gamma=0.001;, score=0.850 total time=   0.0s\n",
      "[CV 1/5] END ................C=10, gamma=0.0001;, score=0.350 total time=   0.0s\n",
      "[CV 2/5] END ................C=10, gamma=0.0001;, score=0.350 total time=   0.0s\n",
      "[CV 3/5] END ................C=10, gamma=0.0001;, score=0.350 total time=   0.0s\n",
      "[CV 4/5] END ................C=10, gamma=0.0001;, score=0.350 total time=   0.0s\n",
      "[CV 5/5] END ................C=10, gamma=0.0001;, score=0.450 total time=   0.0s\n",
      "[CV 1/5] END ....................C=100, gamma=1;, score=0.950 total time=   0.0s\n",
      "[CV 2/5] END ....................C=100, gamma=1;, score=0.800 total time=   0.0s\n",
      "[CV 3/5] END ....................C=100, gamma=1;, score=0.900 total time=   0.0s\n",
      "[CV 4/5] END ....................C=100, gamma=1;, score=1.000 total time=   0.0s\n",
      "[CV 5/5] END ....................C=100, gamma=1;, score=0.900 total time=   0.0s\n",
      "[CV 1/5] END ..................C=100, gamma=0.1;, score=0.950 total time=   0.0s\n",
      "[CV 2/5] END ..................C=100, gamma=0.1;, score=0.800 total time=   0.0s\n",
      "[CV 3/5] END ..................C=100, gamma=0.1;, score=0.900 total time=   0.0s\n",
      "[CV 4/5] END ..................C=100, gamma=0.1;, score=0.950 total time=   0.0s\n",
      "[CV 5/5] END ..................C=100, gamma=0.1;, score=1.000 total time=   0.0s\n",
      "[CV 1/5] END .................C=100, gamma=0.01;, score=0.950 total time=   0.0s\n",
      "[CV 2/5] END .................C=100, gamma=0.01;, score=0.950 total time=   0.0s\n",
      "[CV 3/5] END .................C=100, gamma=0.01;, score=0.900 total time=   0.0s\n",
      "[CV 4/5] END .................C=100, gamma=0.01;, score=1.000 total time=   0.0s\n",
      "[CV 5/5] END .................C=100, gamma=0.01;, score=1.000 total time=   0.0s\n",
      "[CV 1/5] END ................C=100, gamma=0.001;, score=0.950 total time=   0.0s\n",
      "[CV 2/5] END ................C=100, gamma=0.001;, score=0.900 total time=   0.0s\n",
      "[CV 3/5] END ................C=100, gamma=0.001;, score=0.900 total time=   0.0s\n",
      "[CV 4/5] END ................C=100, gamma=0.001;, score=1.000 total time=   0.0s\n",
      "[CV 5/5] END ................C=100, gamma=0.001;, score=0.950 total time=   0.0s\n",
      "[CV 1/5] END ...............C=100, gamma=0.0001;, score=1.000 total time=   0.0s\n",
      "[CV 2/5] END ...............C=100, gamma=0.0001;, score=0.900 total time=   0.0s\n",
      "[CV 3/5] END ...............C=100, gamma=0.0001;, score=0.950 total time=   0.0s\n",
      "[CV 4/5] END ...............C=100, gamma=0.0001;, score=1.000 total time=   0.0s\n",
      "[CV 5/5] END ...............C=100, gamma=0.0001;, score=0.850 total time=   0.0s\n",
      "[CV 1/5] END ...................C=1000, gamma=1;, score=0.950 total time=   0.0s\n",
      "[CV 2/5] END ...................C=1000, gamma=1;, score=0.800 total time=   0.0s\n",
      "[CV 3/5] END ...................C=1000, gamma=1;, score=0.900 total time=   0.0s\n",
      "[CV 4/5] END ...................C=1000, gamma=1;, score=1.000 total time=   0.0s\n",
      "[CV 5/5] END ...................C=1000, gamma=1;, score=0.900 total time=   0.0s\n",
      "[CV 1/5] END .................C=1000, gamma=0.1;, score=0.950 total time=   0.0s\n",
      "[CV 2/5] END .................C=1000, gamma=0.1;, score=0.800 total time=   0.0s\n",
      "[CV 3/5] END .................C=1000, gamma=0.1;, score=0.900 total time=   0.0s\n",
      "[CV 4/5] END .................C=1000, gamma=0.1;, score=1.000 total time=   0.0s\n",
      "[CV 5/5] END .................C=1000, gamma=0.1;, score=0.950 total time=   0.0s\n",
      "[CV 1/5] END ................C=1000, gamma=0.01;, score=0.950 total time=   0.0s\n",
      "[CV 2/5] END ................C=1000, gamma=0.01;, score=0.800 total time=   0.0s\n",
      "[CV 3/5] END ................C=1000, gamma=0.01;, score=0.900 total time=   0.0s\n",
      "[CV 4/5] END ................C=1000, gamma=0.01;, score=0.950 total time=   0.0s\n",
      "[CV 5/5] END ................C=1000, gamma=0.01;, score=1.000 total time=   0.0s\n",
      "[CV 1/5] END ...............C=1000, gamma=0.001;, score=0.950 total time=   0.0s\n",
      "[CV 2/5] END ...............C=1000, gamma=0.001;, score=0.950 total time=   0.0s\n",
      "[CV 3/5] END ...............C=1000, gamma=0.001;, score=0.900 total time=   0.0s\n",
      "[CV 4/5] END ...............C=1000, gamma=0.001;, score=1.000 total time=   0.0s\n",
      "[CV 5/5] END ...............C=1000, gamma=0.001;, score=0.950 total time=   0.0s\n",
      "[CV 1/5] END ..............C=1000, gamma=0.0001;, score=0.950 total time=   0.0s\n",
      "[CV 2/5] END ..............C=1000, gamma=0.0001;, score=0.900 total time=   0.0s\n",
      "[CV 3/5] END ..............C=1000, gamma=0.0001;, score=0.900 total time=   0.0s\n",
      "[CV 4/5] END ..............C=1000, gamma=0.0001;, score=1.000 total time=   0.0s\n",
      "[CV 5/5] END ..............C=1000, gamma=0.0001;, score=0.950 total time=   0.0s\n"
     ]
    },
    {
     "data": {
      "text/html": [
       "<style>#sk-container-id-3 {color: black;background-color: white;}#sk-container-id-3 pre{padding: 0;}#sk-container-id-3 div.sk-toggleable {background-color: white;}#sk-container-id-3 label.sk-toggleable__label {cursor: pointer;display: block;width: 100%;margin-bottom: 0;padding: 0.3em;box-sizing: border-box;text-align: center;}#sk-container-id-3 label.sk-toggleable__label-arrow:before {content: \"▸\";float: left;margin-right: 0.25em;color: #696969;}#sk-container-id-3 label.sk-toggleable__label-arrow:hover:before {color: black;}#sk-container-id-3 div.sk-estimator:hover label.sk-toggleable__label-arrow:before {color: black;}#sk-container-id-3 div.sk-toggleable__content {max-height: 0;max-width: 0;overflow: hidden;text-align: left;background-color: #f0f8ff;}#sk-container-id-3 div.sk-toggleable__content pre {margin: 0.2em;color: black;border-radius: 0.25em;background-color: #f0f8ff;}#sk-container-id-3 input.sk-toggleable__control:checked~div.sk-toggleable__content {max-height: 200px;max-width: 100%;overflow: auto;}#sk-container-id-3 input.sk-toggleable__control:checked~label.sk-toggleable__label-arrow:before {content: \"▾\";}#sk-container-id-3 div.sk-estimator input.sk-toggleable__control:checked~label.sk-toggleable__label {background-color: #d4ebff;}#sk-container-id-3 div.sk-label input.sk-toggleable__control:checked~label.sk-toggleable__label {background-color: #d4ebff;}#sk-container-id-3 input.sk-hidden--visually {border: 0;clip: rect(1px 1px 1px 1px);clip: rect(1px, 1px, 1px, 1px);height: 1px;margin: -1px;overflow: hidden;padding: 0;position: absolute;width: 1px;}#sk-container-id-3 div.sk-estimator {font-family: monospace;background-color: #f0f8ff;border: 1px dotted black;border-radius: 0.25em;box-sizing: border-box;margin-bottom: 0.5em;}#sk-container-id-3 div.sk-estimator:hover {background-color: #d4ebff;}#sk-container-id-3 div.sk-parallel-item::after {content: \"\";width: 100%;border-bottom: 1px solid gray;flex-grow: 1;}#sk-container-id-3 div.sk-label:hover label.sk-toggleable__label {background-color: #d4ebff;}#sk-container-id-3 div.sk-serial::before {content: \"\";position: absolute;border-left: 1px solid gray;box-sizing: border-box;top: 0;bottom: 0;left: 50%;z-index: 0;}#sk-container-id-3 div.sk-serial {display: flex;flex-direction: column;align-items: center;background-color: white;padding-right: 0.2em;padding-left: 0.2em;position: relative;}#sk-container-id-3 div.sk-item {position: relative;z-index: 1;}#sk-container-id-3 div.sk-parallel {display: flex;align-items: stretch;justify-content: center;background-color: white;position: relative;}#sk-container-id-3 div.sk-item::before, #sk-container-id-3 div.sk-parallel-item::before {content: \"\";position: absolute;border-left: 1px solid gray;box-sizing: border-box;top: 0;bottom: 0;left: 50%;z-index: -1;}#sk-container-id-3 div.sk-parallel-item {display: flex;flex-direction: column;z-index: 1;position: relative;background-color: white;}#sk-container-id-3 div.sk-parallel-item:first-child::after {align-self: flex-end;width: 50%;}#sk-container-id-3 div.sk-parallel-item:last-child::after {align-self: flex-start;width: 50%;}#sk-container-id-3 div.sk-parallel-item:only-child::after {width: 0;}#sk-container-id-3 div.sk-dashed-wrapped {border: 1px dashed gray;margin: 0 0.4em 0.5em 0.4em;box-sizing: border-box;padding-bottom: 0.4em;background-color: white;}#sk-container-id-3 div.sk-label label {font-family: monospace;font-weight: bold;display: inline-block;line-height: 1.2em;}#sk-container-id-3 div.sk-label-container {text-align: center;}#sk-container-id-3 div.sk-container {/* jupyter's `normalize.less` sets `[hidden] { display: none; }` but bootstrap.min.css set `[hidden] { display: none !important; }` so we also need the `!important` here to be able to override the default hidden behavior on the sphinx rendered scikit-learn.org. See: https://github.com/scikit-learn/scikit-learn/issues/21755 */display: inline-block !important;position: relative;}#sk-container-id-3 div.sk-text-repr-fallback {display: none;}</style><div id=\"sk-container-id-3\" class=\"sk-top-container\"><div class=\"sk-text-repr-fallback\"><pre>GridSearchCV(cv=5, estimator=SVC(),\n",
       "             param_grid={&#x27;C&#x27;: [0.1, 1, 10, 100, 1000],\n",
       "                         &#x27;gamma&#x27;: [1, 0.1, 0.01, 0.001, 0.0001]},\n",
       "             verbose=3)</pre><b>In a Jupyter environment, please rerun this cell to show the HTML representation or trust the notebook. <br />On GitHub, the HTML representation is unable to render, please try loading this page with nbviewer.org.</b></div><div class=\"sk-container\" hidden><div class=\"sk-item sk-dashed-wrapped\"><div class=\"sk-label-container\"><div class=\"sk-label sk-toggleable\"><input class=\"sk-toggleable__control sk-hidden--visually\" id=\"sk-estimator-id-3\" type=\"checkbox\" ><label for=\"sk-estimator-id-3\" class=\"sk-toggleable__label sk-toggleable__label-arrow\">GridSearchCV</label><div class=\"sk-toggleable__content\"><pre>GridSearchCV(cv=5, estimator=SVC(),\n",
       "             param_grid={&#x27;C&#x27;: [0.1, 1, 10, 100, 1000],\n",
       "                         &#x27;gamma&#x27;: [1, 0.1, 0.01, 0.001, 0.0001]},\n",
       "             verbose=3)</pre></div></div></div><div class=\"sk-parallel\"><div class=\"sk-parallel-item\"><div class=\"sk-item\"><div class=\"sk-label-container\"><div class=\"sk-label sk-toggleable\"><input class=\"sk-toggleable__control sk-hidden--visually\" id=\"sk-estimator-id-4\" type=\"checkbox\" ><label for=\"sk-estimator-id-4\" class=\"sk-toggleable__label sk-toggleable__label-arrow\">estimator: SVC</label><div class=\"sk-toggleable__content\"><pre>SVC()</pre></div></div></div><div class=\"sk-serial\"><div class=\"sk-item\"><div class=\"sk-estimator sk-toggleable\"><input class=\"sk-toggleable__control sk-hidden--visually\" id=\"sk-estimator-id-5\" type=\"checkbox\" ><label for=\"sk-estimator-id-5\" class=\"sk-toggleable__label sk-toggleable__label-arrow\">SVC</label><div class=\"sk-toggleable__content\"><pre>SVC()</pre></div></div></div></div></div></div></div></div></div></div>"
      ],
      "text/plain": [
       "GridSearchCV(cv=5, estimator=SVC(),\n",
       "             param_grid={'C': [0.1, 1, 10, 100, 1000],\n",
       "                         'gamma': [1, 0.1, 0.01, 0.001, 0.0001]},\n",
       "             verbose=3)"
      ]
     },
     "execution_count": 74,
     "metadata": {},
     "output_type": "execute_result"
    }
   ],
   "source": [
    "clf.fit(x_train,y_train)"
   ]
  },
  {
   "cell_type": "code",
   "execution_count": 75,
   "id": "e336bffd-f491-43ab-a1a5-675d82c0ae6a",
   "metadata": {},
   "outputs": [
    {
     "data": {
      "text/plain": [
       "{'C': 100, 'gamma': 0.01}"
      ]
     },
     "execution_count": 75,
     "metadata": {},
     "output_type": "execute_result"
    }
   ],
   "source": [
    "clf.best_params_"
   ]
  },
  {
   "cell_type": "code",
   "execution_count": 76,
   "id": "72d4dac7-1acb-465a-ad1a-40ec32945dcd",
   "metadata": {},
   "outputs": [],
   "source": [
    "y_pred=clf.predict(x_test)"
   ]
  },
  {
   "cell_type": "code",
   "execution_count": 77,
   "id": "16b0d2aa-be38-475c-9e52-c827801e4035",
   "metadata": {},
   "outputs": [],
   "source": [
    "score=accuracy_score(y_pred,y_test)"
   ]
  },
  {
   "cell_type": "code",
   "execution_count": 78,
   "id": "ccb913c8-8a71-4b08-8832-8e9369ef2a52",
   "metadata": {},
   "outputs": [
    {
     "data": {
      "text/plain": [
       "1.0"
      ]
     },
     "execution_count": 78,
     "metadata": {},
     "output_type": "execute_result"
    }
   ],
   "source": [
    "score"
   ]
  },
  {
   "cell_type": "code",
   "execution_count": null,
   "id": "633866c8-7d72-48e0-be22-821be1486882",
   "metadata": {},
   "outputs": [],
   "source": []
  }
 ],
 "metadata": {
  "kernelspec": {
   "display_name": "Python 3 (ipykernel)",
   "language": "python",
   "name": "python3"
  },
  "language_info": {
   "codemirror_mode": {
    "name": "ipython",
    "version": 3
   },
   "file_extension": ".py",
   "mimetype": "text/x-python",
   "name": "python",
   "nbconvert_exporter": "python",
   "pygments_lexer": "ipython3",
   "version": "3.10.8"
  }
 },
 "nbformat": 4,
 "nbformat_minor": 5
}

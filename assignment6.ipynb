{
 "cells": [
  {
   "cell_type": "code",
   "execution_count": 1,
   "id": "292b5cfc-ba1b-44ff-8998-cf3800002a62",
   "metadata": {},
   "outputs": [
    {
     "name": "stdin",
     "output_type": "stream",
     "text": [
      " enter the percentage 78\n"
     ]
    },
    {
     "name": "stdout",
     "output_type": "stream",
     "text": [
      "C\n"
     ]
    }
   ],
   "source": [
    "# Q1 : \n",
    "p = int(input(\" enter the percentage\"))\n",
    "if p>90:\n",
    "    print(\" A\")\n",
    "elif p> 80 and p<=90:\n",
    "    print(\" B\")\n",
    "elif p >60and p<=80:\n",
    "    print(\"C\")\n",
    "\n",
    "else:\n",
    "    print(\"D\")"
   ]
  },
  {
   "cell_type": "code",
   "execution_count": 5,
   "id": "07c1b33f-7cc9-4c36-8eda-6f622a03e5db",
   "metadata": {},
   "outputs": [
    {
     "name": "stdin",
     "output_type": "stream",
     "text": [
      " enter the price of bike 100000\n"
     ]
    },
    {
     "name": "stdout",
     "output_type": "stream",
     "text": [
      " road tax is 10%\n"
     ]
    }
   ],
   "source": [
    "#q2:\n",
    "c = int(input(\" enter the price of bike\"))\n",
    "if c>100000:\n",
    "    print(\" road tax is 15%\")\n",
    "elif c> 50000 and c<=100000:\n",
    "    print(\" road tax is 10%\")\n",
    "else:\n",
    "    print(\"road tax is a 5%\")\n"
   ]
  },
  {
   "cell_type": "code",
   "execution_count": 7,
   "id": "32e14d9c-c12f-4a08-ac2d-10d569fce8f0",
   "metadata": {},
   "outputs": [
    {
     "name": "stdin",
     "output_type": "stream",
     "text": [
      " enter the name of city DELHI\n"
     ]
    },
    {
     "name": "stdout",
     "output_type": "stream",
     "text": [
      " red fort \n"
     ]
    }
   ],
   "source": [
    "#q3:\n",
    "m = (input(\" enter the name of city\"))\n",
    "if  m==\"delhi\"or \" Delhi\" or \"DELHI\":\n",
    "    print(\" red fort \")\n",
    "elif m== \"agra\" or \"Agra\" or \"AGRA\" :\n",
    "    print(\" tajmahal\")\n",
    "elif m== \"jaipur\" or \"Jaipur\" or \"JAIPUR\":\n",
    "    print(\"JAL MAHAL\")\n"
   ]
  },
  {
   "cell_type": "code",
   "execution_count": 8,
   "id": "ee572254-fcc8-40b3-8f3e-187dddb1d0db",
   "metadata": {},
   "outputs": [
    {
     "data": {
      "text/plain": [
       "3"
      ]
     },
     "execution_count": 8,
     "metadata": {},
     "output_type": "execute_result"
    }
   ],
   "source": [
    "#q4:\n",
    "c=0\n",
    "for i in range(1,10):\n",
    "    if i%3==0:\n",
    "        c=c+1\n",
    "\n",
    "c"
   ]
  },
  {
   "cell_type": "markdown",
   "id": "017dbfb4-e0b5-4b32-85f7-7a7bf30691cd",
   "metadata": {},
   "source": [
    "q5:\n",
    "    Python While Loop is used to execute a block of statements repeatedly until a given condition is satisfied. And when the condition becomes false, the line immediately after the loop in the program is executed.\n",
    "    for example :"
   ]
  },
  {
   "cell_type": "code",
   "execution_count": 9,
   "id": "b4bb6eef-89a2-4fdf-aed5-2e85ec2166a1",
   "metadata": {},
   "outputs": [
    {
     "name": "stdout",
     "output_type": "stream",
     "text": [
      "hi\n",
      "hi\n",
      "hi\n"
     ]
    }
   ],
   "source": [
    "count = 0\n",
    "while (count < 3):\n",
    "    count = count + 1\n",
    "    print(\"hi\")"
   ]
  },
  {
   "cell_type": "code",
   "execution_count": 1,
   "id": "5e26f973-e6f0-452e-9269-75ded4bfb906",
   "metadata": {},
   "outputs": [
    {
     "name": "stdout",
     "output_type": "stream",
     "text": [
      "0 0 0 0 0 0 \n",
      "0 1 2 3 4 5 \n",
      "0 2 4 6 8 10 \n",
      "0 3 6 9 12 15 \n",
      "\n",
      "0 0 0 0 0 0 \n",
      "0 2 4 6 8 10 \n",
      "0 4 8 12 16 20 \n",
      "0 6 12 18 24 30 \n",
      "\n",
      "0 0 0 0 0 0 \n",
      "0 3 6 9 12 15 \n",
      "0 6 12 18 24 30 \n",
      "0 9 18 27 36 45 \n",
      "\n",
      "0 0 0 0 0 0 \n",
      "0 4 8 12 16 20 \n",
      "0 8 16 24 32 40 \n",
      "0 12 24 36 48 60 \n",
      "\n"
     ]
    }
   ],
   "source": [
    "#q6:\n",
    "i = 1\n",
    "while i <= 4 :\n",
    "    j = 0\n",
    "    while  j <= 3 :\n",
    "        k = 0\n",
    "        while  k <= 5 :\n",
    "            print(i*j*k, end=\" \")\n",
    "            k += 1\n",
    "        print()\n",
    "        j += 1\n",
    "    print()\n",
    "    i += 1"
   ]
  },
  {
   "cell_type": "code",
   "execution_count": 2,
   "id": "c3e1a710-aad8-4a3e-8eb1-0db519d7be7c",
   "metadata": {},
   "outputs": [
    {
     "name": "stdout",
     "output_type": "stream",
     "text": [
      "10\n",
      "9\n",
      "8\n",
      "7\n",
      "6\n",
      "5\n",
      "4\n",
      "3\n",
      "2\n",
      "1\n"
     ]
    }
   ],
   "source": [
    "# q7:\n",
    "c=10\n",
    "while( c>0 and c<=10):\n",
    "    print(c)\n",
    "    c= c-1\n",
    "    "
   ]
  }
 ],
 "metadata": {
  "kernelspec": {
   "display_name": "Python 3 (ipykernel)",
   "language": "python",
   "name": "python3"
  },
  "language_info": {
   "codemirror_mode": {
    "name": "ipython",
    "version": 3
   },
   "file_extension": ".py",
   "mimetype": "text/x-python",
   "name": "python",
   "nbconvert_exporter": "python",
   "pygments_lexer": "ipython3",
   "version": "3.10.8"
  }
 },
 "nbformat": 4,
 "nbformat_minor": 5
}

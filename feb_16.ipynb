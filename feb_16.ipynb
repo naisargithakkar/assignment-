{
 "cells": [
  {
   "cell_type": "markdown",
   "id": "1d637afd-1995-4202-a6ad-c16b5dc44da9",
   "metadata": {},
   "source": [
    "Q1. What is a database? Differentiate between SQL and NoSQL databases.\n",
    "SQL databases are relational, and NoSQL databases are non-relational.\n",
    "SQL databases use structured query language (SQL) and have a predefined schema. NoSQL databases have dynamic schemas for unstructured data.\n",
    "SQL databases are vertically scalable, while NoSQL databases are horizontally scalable.\n",
    "SQL databases are table-based, while NoSQL databases are document, key-value, graph, or wide-column stores.\n",
    "SQL databases are better for multi-row transactions, while NoSQL is better for unstructured data like documents or JSON.\n"
   ]
  },
  {
   "cell_type": "markdown",
   "id": "28496576-518d-4b42-9685-350ee684ee8c",
   "metadata": {},
   "source": [
    "DDL : Data Definition Language\n",
    "\n",
    "Data Definition Language(DDL) is a subset of SQL and a part of DBMS(Database Management System).and like commands :\n",
    "Create\n",
    "Alter \n",
    "truncate\n",
    "drop\n",
    "\n"
   ]
  },
  {
   "cell_type": "markdown",
   "id": "0b9ead5f-6c90-463c-9ca9-bba7d0a947ac",
   "metadata": {},
   "source": [
    "1.CREATE :\n",
    "This command is used to create a new table in SQL. The user has to give information like table name, column names, and their datatypes.\n"
   ]
  },
  {
   "cell_type": "markdown",
   "id": "9142e9fc-0cbb-4aac-a903-7a1dd468cdc6",
   "metadata": {},
   "source": [
    "#EXAMPLE: \n",
    "CREATE TABLE maharaj(c1 INT,c2 INT,c3 FLOAT)  "
   ]
  },
  {
   "cell_type": "markdown",
   "id": "01b18893-8bd0-4dfd-8e96-451ee891732d",
   "metadata": {},
   "source": [
    "ALTER :\n",
    "This command is used to add, delete or change columns in the existing table. The user needs to know the existing table name and can do add, delete or modify tasks easily."
   ]
  },
  {
   "cell_type": "markdown",
   "id": "8e89819e-dbce-430a-ae35-8e91a65071c8",
   "metadata": {},
   "source": [
    "Example: \n",
    "ALTER TABLE maharaj \n",
    "   ADD d4 FLOAT;"
   ]
  },
  {
   "cell_type": "markdown",
   "id": "83364387-30ca-4122-8c21-595b9f4b266b",
   "metadata": {},
   "source": [
    "TRUNCATE :\n",
    "This command is used to remove all rows from the table, but the structure of the table still exists.\n"
   ]
  },
  {
   "cell_type": "markdown",
   "id": "5ee7b1b1-8f4c-4596-90b8-96ef24bd4f5f",
   "metadata": {},
   "source": [
    "example:  TRUNCATE TABLE maharaj;"
   ]
  },
  {
   "cell_type": "markdown",
   "id": "54285f12-781b-4a01-9454-93d50f67b75c",
   "metadata": {},
   "source": [
    "DROP :\n",
    "This command is used to remove an existing table along with its structure from the Database."
   ]
  },
  {
   "cell_type": "markdown",
   "id": "ee795527-77c9-4ceb-bd85-010377d8890a",
   "metadata": {},
   "source": [
    "example : DROP Table maharaj;"
   ]
  },
  {
   "cell_type": "markdown",
   "id": "0d926f31-7211-4f2f-a811-397f5655bae9",
   "metadata": {},
   "source": [
    "Q3: Data Manipulation Language (DML)\n",
    "DML stands for Data Manipulation Language. Tables and formulas are helpful when communicating with data stored up to a point in a database through SQL, but a time comes when we actually want to execute some fairly complicated data interactions. We will also need the Data Manipulation Language in that situation. DML is a way to inform a database precisely what we want it to do by conversing in a manner that it has been built to comprehend from the scratch. When it comes to interacting within existing data, whether adding, moving or deleting data, it provides a convenient way to do so."
   ]
  },
  {
   "cell_type": "markdown",
   "id": "b29aef69-02c4-4570-98fb-d327c6854359",
   "metadata": {},
   "source": [
    "INSERT Command –\n",
    "This command is used to enter the information or values into a row. We can connect one or more records to a single table within a repository using this instruction. This is often used to connect an unused tag to the documents.\n",
    "Example : INSERT INTO students ('stu_id' int, 'stu_name' varchar(20), 'city' varchar(20))\n",
    "\n",
    "VALUES ('1', 'Nirmit', 'Gorakhpur');"
   ]
  },
  {
   "cell_type": "markdown",
   "id": "07970561-fac1-41b3-9e3b-f8f08e69d15b",
   "metadata": {},
   "source": [
    "UPDATE Command –\n",
    "This command is used to alter existing table records. Within a table, it modifies data from one or more records. This command is used to alter the data which is already present in a table.\n",
    "example : UPDATE students\n",
    "\n",
    "SET due_fees = 20000\n",
    "\n",
    "WHERE stu_name = 'Mini'; "
   ]
  },
  {
   "cell_type": "markdown",
   "id": "1964e893-9a22-46f8-844f-fd7962438497",
   "metadata": {},
   "source": [
    "DELETE Command –\n",
    "It deletes all archives from a table. This command is used to erase some or all of the previous table’s records. If we do not specify the ‘WHERE’ condition then all the rows would be erased or deleted.\n",
    "example:\n",
    "\n",
    "DELETE FROM students\n",
    "\n",
    "WHERE stu_id = '001';"
   ]
  },
  {
   "cell_type": "markdown",
   "id": "9f98bdc3-5954-471f-86bc-67a6932a8293",
   "metadata": {},
   "source": [
    "q4: Query languages, often known as DQLs or Data Query Languages, are computer languages that are used to make various queries in information systems and databases. The Structured Query Language (SQL) is a well-known example. DQL statements are used to query the data contained in schema objects.\n",
    "example: ELECT Stu_Name FROM Student WHERE Phone = 9039462908;"
   ]
  },
  {
   "cell_type": "markdown",
   "id": "95234e9b-ef2c-48b8-af40-020a8016e174",
   "metadata": {},
   "source": [
    "q5: A primary key is used to ensure data in the specific column is unique. A foreign key is a column or group of columns in a relational database table that provides a link between data in two tables. It uniquely identifies a record in the relational database table."
   ]
  },
  {
   "cell_type": "markdown",
   "id": "548db8a6-242a-4a02-aeb2-a482a54b5f02",
   "metadata": {
    "tags": []
   },
   "source": [
    "import mysql.connector\n",
    "# import mysql.connector\n",
    "#create user 'user'@'%' identified by 'password'\n",
    "mydb = mysql.connector.connect(\n",
    "  host=\"localhost\",\n",
    "  user=\"abc\",\n",
    "  password=\"password\"\n",
    ")\n",
    "print(mydb)\n",
    "mycursor = mydb.cursor()\n",
    "mycursor.execute(\"SHOW DATABASES\")\n",
    "for x in mycursor:\n",
    "  print(x)"
   ]
  },
  {
   "cell_type": "markdown",
   "id": "ae75c1c0-cdd2-4ed3-8033-2b8faec18b22",
   "metadata": {},
   "source": [
    "The MySQLCursor of mysql-connector-python (and similar libraries) is used to execute statements to communicate with the MySQL database.\n",
    "\n",
    "Using the methods of it you can execute SQL statements, fetch data from the result sets, call procedures.\n",
    "\n",
    "You can create Cursor object using the cursor() method of the Connection object/class.\n",
    "\n"
   ]
  },
  {
   "cell_type": "markdown",
   "id": "0bee811a-459e-4a58-b96b-7e699077a84f",
   "metadata": {},
   "source": [
    "q7: Give the order of execution of SQL clauses in an SQL query.\n",
    "FROM/JOIN. The FROM and/or JOIN clauses are executed first to determine the data of interest.\n",
    "WHERE. The WHERE clause is executed to filter out records that do not meet the constraints.\n",
    "GROUP BY. ...\n",
    "HAVING. ...\n",
    "SELECT. ...\n",
    "ORDER BY. ...\n",
    "LIMIT/OFFSET."
   ]
  }
 ],
 "metadata": {
  "kernelspec": {
   "display_name": "Python 3 (ipykernel)",
   "language": "python",
   "name": "python3"
  },
  "language_info": {
   "codemirror_mode": {
    "name": "ipython",
    "version": 3
   },
   "file_extension": ".py",
   "mimetype": "text/x-python",
   "name": "python",
   "nbconvert_exporter": "python",
   "pygments_lexer": "ipython3",
   "version": "3.10.8"
  }
 },
 "nbformat": 4,
 "nbformat_minor": 5
}
